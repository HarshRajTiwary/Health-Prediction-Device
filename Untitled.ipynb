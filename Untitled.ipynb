{
 "cells": [
  {
   "cell_type": "code",
   "execution_count": null,
   "id": "c6955e07-976d-4c1f-90dc-7541f8050984",
   "metadata": {},
   "outputs": [],
   "source": [
    "def determine_medical_condition(row):\n",
    "    heart_rate = row['heart_rate']\n",
    "    temperature = row['temperature']\n",
    "    spo2 = row['SpO2_saturation']\n",
    "    \n",
    "    if 60 <= heart_rate <= 100 and 36.1 <= temperature <= 37.2 and 95 <= spo2 <= 100:\n",
    "        return \"Normal\"\n",
    "    elif heart_rate > 100 or heart_rate < 60 or temperature > 37.2 or temperature < 36.1 or spo2 < 95:\n",
    "        return \"Serious\"\n",
    "    else:\n",
    "        return \"Dischargeable\"\n"
   ]
  },
  {
   "cell_type": "code",
   "execution_count": null,
   "id": "1343bb24-c8f9-45f0-aae2-51ad836cd273",
   "metadata": {},
   "outputs": [],
   "source": []
  }
 ],
 "metadata": {
  "kernelspec": {
   "display_name": "Python 3 (ipykernel)",
   "language": "python",
   "name": "python3"
  },
  "language_info": {
   "codemirror_mode": {
    "name": "ipython",
    "version": 3
   },
   "file_extension": ".py",
   "mimetype": "text/x-python",
   "name": "python",
   "nbconvert_exporter": "python",
   "pygments_lexer": "ipython3",
   "version": "3.12.4"
  }
 },
 "nbformat": 4,
 "nbformat_minor": 5
}
