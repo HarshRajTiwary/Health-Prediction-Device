{
 "cells": [
  {
   "cell_type": "markdown",
   "id": "hrPMSSu2taoh",
   "metadata": {
    "id": "hrPMSSu2taoh"
   },
   "source": [
    "# **Introduction to Machine Learning with Jupyter Notebooks**\n",
    "Welcome to the world of Machine Learning. This instructional materials will guide you to learn machine learning using Jupyter Notebook."
   ]
  },
  {
   "cell_type": "markdown",
   "id": "hmsg3MWmvNjq",
   "metadata": {
    "id": "hmsg3MWmvNjq",
    "jp-MarkdownHeadingCollapsed": true
   },
   "source": [
    "## **Getting Started**\n",
    "### **1. Setting Up Your Environment**\n",
    "Before we go deep into machine learning, you'll need to set up your environment.\n",
    "follow these steps to set up your environment.\n",
    "\n",
    "**Install Jupyter Notebook**:\n",
    "\n",
    "Install the classic Jupyter Notebook by writting the below command in your terminal:\n",
    "\n",
    "`pip install notebook`\n",
    "\n",
    "### **2. Launching Jupyter Notebook**\n",
    "\n",
    "To run the notebook:\n",
    "\n",
    "`jupyter notebook`\n",
    "\n",
    "or if this doesnt work, write this insteade.\n",
    "\n",
    "`python -m notebook`"
   ]
  },
  {
   "cell_type": "markdown",
   "id": "1z9COW_-v4_2",
   "metadata": {
    "id": "1z9COW_-v4_2",
    "jp-MarkdownHeadingCollapsed": true
   },
   "source": [
    "## **Basics of Machain Learning (ML)**\n",
    "### **What is Machine Learning?**\n",
    "It is a subset of Artificial Inteligence (AI). It focuses on making a model capable of learning from data to make predictions or decisions.\n",
    "\n",
    "### **Types of Machaine Learning:**\n",
    "1. *Supervised Learning*: Learning from labeled data (e.g., classification, regression).\n",
    "2. *Unsupervised Learning*: Finding patterns in unlabeled data (e.g., clustering, dimensionality reduction).\n",
    "3. *Reinforcement Learning*: Learning through rewards and punishments."
   ]
  },
  {
   "cell_type": "markdown",
   "id": "07hppMV2tpwd",
   "metadata": {
    "id": "07hppMV2tpwd"
   },
   "source": [
    "## **Building your first ML Model**"
   ]
  },
  {
   "cell_type": "markdown",
   "id": "wUZ2m_AbAsvg",
   "metadata": {
    "id": "wUZ2m_AbAsvg"
   },
   "source": [
    "**Task**: Predicting Patient Health using TensorFlow and Jupyter Notebook."
   ]
  },
  {
   "cell_type": "markdown",
   "id": "Vm2gWCn5C-0l",
   "metadata": {
    "id": "Vm2gWCn5C-0l"
   },
   "source": [
    "**Objective**:\n",
    "Develop instructional materials for students to learn machine learning using Jupyter Notebook and other ML tools.The aim is to accurately predict patient health conditions(normal,serious,dischargeable) based on temperature, pulse, and blood cell counts.\n"
   ]
  },
  {
   "cell_type": "markdown",
   "id": "IBzg9QTEDEeI",
   "metadata": {
    "id": "IBzg9QTEDEeI"
   },
   "source": [
    "**Tools and Technologies**:\n",
    "\n",
    "**1**.\tJupyter Notebook: For data preprocessing, model development, and training.\n",
    "\n",
    "**2**.\tProgramming Language: Python - Widely used for its simplicity, extensive libraries, and ecosystem support.\n",
    "\n"
   ]
  },
  {
   "cell_type": "markdown",
   "id": "lVtdjpVNDQdj",
   "metadata": {
    "id": "lVtdjpVNDQdj"
   },
   "source": [
    "## **Task Steps:**"
   ]
  },
  {
   "cell_type": "markdown",
   "id": "GmqCkoG9Juf5",
   "metadata": {
    "id": "GmqCkoG9Juf5"
   },
   "source": [
    "### **1. Import libraries:**\n",
    "We will import the necessary libraries first"
   ]
  },
  {
   "cell_type": "code",
   "execution_count": 1,
   "id": "cxf2RSmXJhoG",
   "metadata": {
    "id": "cxf2RSmXJhoG"
   },
   "outputs": [],
   "source": [
    "import pandas as pd     # for data acquisition\n",
    "import numpy as np      # for data processing\n",
    "import tensorflow as tf # for making the model"
   ]
  },
  {
   "cell_type": "code",
   "execution_count": 2,
   "id": "966398fd-64a6-4e87-a59f-7f7efe754613",
   "metadata": {
    "id": "966398fd-64a6-4e87-a59f-7f7efe754613"
   },
   "outputs": [],
   "source": [
    "from sklearn.model_selection import train_test_split\n",
    "from sklearn.tree import DecisionTreeClassifier\n",
    "from micromlgen import port\n",
    "from sklearn import metrics\n",
    "import seaborn as sns\n",
    "import warnings\n",
    "warnings.filterwarnings('ignore')"
   ]
  },
  {
   "cell_type": "markdown",
   "id": "da6EwHUXBLr2",
   "metadata": {
    "id": "da6EwHUXBLr2"
   },
   "source": [
    "### **2. Dataset Acquisition:**\n",
    "We will use the provided medical dataset for this project.\n"
   ]
  },
  {
   "cell_type": "code",
   "execution_count": 3,
   "id": "26760d37-0b57-41dc-888b-4f96562a4296",
   "metadata": {
    "id": "26760d37-0b57-41dc-888b-4f96562a4296"
   },
   "outputs": [],
   "source": [
    "data = pd.read_csv('dataset.csv')  # Load the dataset"
   ]
  },
  {
   "cell_type": "code",
   "execution_count": 4,
   "id": "b2mNI5xxLvSF",
   "metadata": {
    "id": "b2mNI5xxLvSF",
    "outputId": "d6c84b59-eee8-4407-a53d-538398352830"
   },
   "outputs": [
    {
     "data": {
      "text/html": [
       "<div>\n",
       "<style scoped>\n",
       "    .dataframe tbody tr th:only-of-type {\n",
       "        vertical-align: middle;\n",
       "    }\n",
       "\n",
       "    .dataframe tbody tr th {\n",
       "        vertical-align: top;\n",
       "    }\n",
       "\n",
       "    .dataframe thead th {\n",
       "        text-align: right;\n",
       "    }\n",
       "</style>\n",
       "<table border=\"1\" class=\"dataframe\">\n",
       "  <thead>\n",
       "    <tr style=\"text-align: right;\">\n",
       "      <th></th>\n",
       "      <th>id</th>\n",
       "      <th>gender</th>\n",
       "      <th>age</th>\n",
       "      <th>heart_rate</th>\n",
       "      <th>temperature</th>\n",
       "      <th>SpO2_saturation</th>\n",
       "      <th>bpm</th>\n",
       "      <th>Health_status</th>\n",
       "    </tr>\n",
       "  </thead>\n",
       "  <tbody>\n",
       "    <tr>\n",
       "      <th>0</th>\n",
       "      <td>1</td>\n",
       "      <td>male</td>\n",
       "      <td>66.0</td>\n",
       "      <td>70</td>\n",
       "      <td>38.6</td>\n",
       "      <td>88.0</td>\n",
       "      <td>75</td>\n",
       "      <td>Infected</td>\n",
       "    </tr>\n",
       "    <tr>\n",
       "      <th>1</th>\n",
       "      <td>2</td>\n",
       "      <td>female</td>\n",
       "      <td>56.0</td>\n",
       "      <td>74</td>\n",
       "      <td>39.6</td>\n",
       "      <td>88.0</td>\n",
       "      <td>70</td>\n",
       "      <td>Infected</td>\n",
       "    </tr>\n",
       "    <tr>\n",
       "      <th>2</th>\n",
       "      <td>3</td>\n",
       "      <td>male</td>\n",
       "      <td>46.0</td>\n",
       "      <td>82</td>\n",
       "      <td>37.2</td>\n",
       "      <td>98.0</td>\n",
       "      <td>83</td>\n",
       "      <td>Non Infected</td>\n",
       "    </tr>\n",
       "    <tr>\n",
       "      <th>3</th>\n",
       "      <td>4</td>\n",
       "      <td>female</td>\n",
       "      <td>60.0</td>\n",
       "      <td>90</td>\n",
       "      <td>38.6</td>\n",
       "      <td>98.0</td>\n",
       "      <td>75</td>\n",
       "      <td>Non Infected</td>\n",
       "    </tr>\n",
       "    <tr>\n",
       "      <th>4</th>\n",
       "      <td>5</td>\n",
       "      <td>male</td>\n",
       "      <td>58.0</td>\n",
       "      <td>72</td>\n",
       "      <td>39.6</td>\n",
       "      <td>93.0</td>\n",
       "      <td>78</td>\n",
       "      <td>Infected</td>\n",
       "    </tr>\n",
       "  </tbody>\n",
       "</table>\n",
       "</div>"
      ],
      "text/plain": [
       "   id  gender   age  heart_rate  temperature  SpO2_saturation  bpm  \\\n",
       "0   1    male  66.0          70         38.6             88.0   75   \n",
       "1   2  female  56.0          74         39.6             88.0   70   \n",
       "2   3    male  46.0          82         37.2             98.0   83   \n",
       "3   4  female  60.0          90         38.6             98.0   75   \n",
       "4   5    male  58.0          72         39.6             93.0   78   \n",
       "\n",
       "  Health_status  \n",
       "0      Infected  \n",
       "1      Infected  \n",
       "2  Non Infected  \n",
       "3  Non Infected  \n",
       "4      Infected  "
      ]
     },
     "execution_count": 4,
     "metadata": {},
     "output_type": "execute_result"
    }
   ],
   "source": [
    "data.head(5)  # Display the first few rows of the dataset"
   ]
  },
  {
   "cell_type": "markdown",
   "id": "e3d9a693-bdcd-42f0-8b99-3691ce96af7f",
   "metadata": {
    "id": "e3d9a693-bdcd-42f0-8b99-3691ce96af7f"
   },
   "source": [
    "## Determine Medical Condition"
   ]
  },
  {
   "cell_type": "code",
   "execution_count": 8,
   "id": "ff7a52c2-7d93-4a21-bab4-bb3c230f67ab",
   "metadata": {
    "id": "ff7a52c2-7d93-4a21-bab4-bb3c230f67ab"
   },
   "outputs": [],
   "source": [
    "def determine_medical_condition(row):\n",
    "    heart_rate = row['heart_rate']\n",
    "    temperature = row['temperature']\n",
    "    spo2 = row['SpO2_saturation']\n",
    "    \n",
    "    if 60 <= heart_rate <= 100 and 36.1 <= temperature <= 37.2 and 95 <= spo2 <= 100:\n",
    "        return 0 #\"Normal\"\n",
    "    elif heart_rate > 100 or heart_rate < 60 or temperature > 37.2 or temperature < 36.1 or spo2 < 95:\n",
    "        return 1 #\"Serious\"\n",
    "    else:\n",
    "        return 2 #\"Dischargeable\"\n"
   ]
  },
  {
   "cell_type": "code",
   "execution_count": 9,
   "id": "7acdb25d-d6fa-43f5-9293-aba2a66d3fde",
   "metadata": {
    "id": "7acdb25d-d6fa-43f5-9293-aba2a66d3fde"
   },
   "outputs": [],
   "source": [
    "# Apply the function to the DataFrame to create the 'health_condition' column\n",
    "data['health_condition'] = data.apply(determine_medical_condition, axis=1)"
   ]
  },
  {
   "cell_type": "code",
   "execution_count": 10,
   "id": "bfe276d7-0ea8-41e8-962d-94075819d91a",
   "metadata": {
    "id": "bfe276d7-0ea8-41e8-962d-94075819d91a",
    "outputId": "761503d1-a2f5-49a9-8039-25ff2abf318c"
   },
   "outputs": [
    {
     "name": "stdout",
     "output_type": "stream",
     "text": [
      "    id  gender   age  heart_rate  temperature  SpO2_saturation  bpm  \\\n",
      "0    1    male  66.0          70         38.6             88.0   75   \n",
      "1    2  female  56.0          74         39.6             88.0   70   \n",
      "2    3    male  46.0          82         37.2             98.0   83   \n",
      "3    4  female  60.0          90         38.6             98.0   75   \n",
      "4    5    male  58.0          72         39.6             93.0   78   \n",
      "5    6  female  44.0          72         37.2             93.0   69   \n",
      "6    7    male  34.0          67         38.6             98.0   73   \n",
      "7    8    male  37.0          72         39.6             97.0   73   \n",
      "8    9    male  39.0          65         37.2             96.0   84   \n",
      "9   10    male  56.0          76         38.0             92.0   68   \n",
      "10  11  female  18.0          73         38.6             50.0   73   \n",
      "11  12  female  32.0          64         39.6             97.0   79   \n",
      "12  13    male  37.0          63         37.2             70.0   81   \n",
      "13  14    male  51.0          94         38.6             70.0   69   \n",
      "14  15    male  57.0          73         39.6             70.0   72   \n",
      "15  16    male  56.0          75         37.2             70.0   74   \n",
      "16  17    male  50.0          78         38.6             70.0   66   \n",
      "17  18  female  52.0          68         39.6             95.0   74   \n",
      "18  19    male  33.0          71         37.2             95.0   82   \n",
      "19  20    male  40.0          70         38.6             95.0   90   \n",
      "\n",
      "   Health_status  health_condition  \n",
      "0       Infected                 1  \n",
      "1       Infected                 1  \n",
      "2   Non Infected                 0  \n",
      "3   Non Infected                 1  \n",
      "4       Infected                 1  \n",
      "5       Infected                 1  \n",
      "6   Non Infected                 1  \n",
      "7   Non Infected                 1  \n",
      "8   Non Infected                 0  \n",
      "9       Infected                 1  \n",
      "10      Infected                 1  \n",
      "11  Non Infected                 1  \n",
      "12      Infected                 1  \n",
      "13      Infected                 1  \n",
      "14      Infected                 1  \n",
      "15      Infected                 1  \n",
      "16      Infected                 1  \n",
      "17  Non Infected                 1  \n",
      "18  Non Infected                 0  \n",
      "19  Non Infected                 1  \n"
     ]
    }
   ],
   "source": [
    "# Display the updated DataFrame\n",
    "print(data.head(20))"
   ]
  },
  {
   "cell_type": "markdown",
   "id": "4jcYMC2SERMm",
   "metadata": {
    "id": "4jcYMC2SERMm"
   },
   "source": [
    "### **Data Preprocessing & Visualization**:\n",
    "\n",
    "Handle missing values and encode categorical variables."
   ]
  },
  {
   "cell_type": "code",
   "execution_count": 11,
   "id": "wbtz2oV9KY5_",
   "metadata": {
    "id": "wbtz2oV9KY5_"
   },
   "outputs": [],
   "source": [
    "# Dataset Preprocessing\n",
    "X = data[['heart_rate', 'temperature', 'SpO2_saturation']] #features\n",
    "y = data['health_condition'] #target\n"
   ]
  },
  {
   "cell_type": "code",
   "execution_count": 12,
   "id": "e2bddac5-4d2c-4199-b63c-011ae9bce559",
   "metadata": {
    "id": "e2bddac5-4d2c-4199-b63c-011ae9bce559",
    "outputId": "e6c41515-0112-4804-932b-c5c4ef270289"
   },
   "outputs": [
    {
     "data": {
      "text/plain": [
       "<Axes: >"
      ]
     },
     "execution_count": 12,
     "metadata": {},
     "output_type": "execute_result"
    },
    {
     "data": {
      "image/png": "[encoded data removed]",
      "text/plain": [
       "<Figure size 640x480 with 1 Axes>"
      ]
     },
     "metadata": {},
     "output_type": "display_data"
    }
   ],
   "source": [
    "X[['heart_rate']].plot()  # plot of heart_rate"
   ]
  },
  {
   "cell_type": "code",
   "execution_count": 13,
   "id": "a2b2272a-b25c-4954-8d34-5797f053a0fa",
   "metadata": {
    "id": "a2b2272a-b25c-4954-8d34-5797f053a0fa",
    "outputId": "c856913c-0b1a-48de-dcfc-c3acef90052c"
   },
   "outputs": [
    {
     "data": {
      "text/plain": [
       "<Axes: >"
      ]
     },
     "execution_count": 13,
     "metadata": {},
     "output_type": "execute_result"
    },
    {
     "data": {
      "image/png": "[encoded data removed]",
      "text/plain": [
       "<Figure size 640x480 with 1 Axes>"
      ]
     },
     "metadata": {},
     "output_type": "display_data"
    }
   ],
   "source": [
    "X[['temperature']].plot() # plot of temperature"
   ]
  },
  {
   "cell_type": "code",
   "execution_count": 14,
   "id": "a92df9c2-60f8-43f8-9c41-f81772755b63",
   "metadata": {
    "id": "a92df9c2-60f8-43f8-9c41-f81772755b63",
    "outputId": "f2dae6b2-af90-4c51-d7dd-de82662702e6"
   },
   "outputs": [
    {
     "data": {
      "text/plain": [
       "<Axes: >"
      ]
     },
     "execution_count": 14,
     "metadata": {},
     "output_type": "execute_result"
    },
    {
     "data": {
      "image/png": "[encoded data removed]",
      "text/plain": [
       "<Figure size 640x480 with 1 Axes>"
      ]
     },
     "metadata": {},
     "output_type": "display_data"
    }
   ],
   "source": [
    "X[['SpO2_saturation']].plot()  # plot of SpO2_saturation"
   ]
  },
  {
   "cell_type": "code",
   "execution_count": 15,
   "id": "7d1bd566-ef1c-4ddb-9d46-9863d413ac9a",
   "metadata": {
    "id": "7d1bd566-ef1c-4ddb-9d46-9863d413ac9a",
    "outputId": "99cae568-5bcd-48e1-8c4e-93e5ab359cf1"
   },
   "outputs": [
    {
     "data": {
      "text/plain": [
       "id                  1085\n",
       "gender                 2\n",
       "age                   85\n",
       "heart_rate            69\n",
       "temperature           29\n",
       "SpO2_saturation       39\n",
       "bpm                   64\n",
       "Health_status          4\n",
       "health_condition       2\n",
       "dtype: int64"
      ]
     },
     "execution_count": 15,
     "metadata": {},
     "output_type": "execute_result"
    }
   ],
   "source": [
    "data.nunique()  # finding for the count of unique values"
   ]
  },
  {
   "cell_type": "code",
   "execution_count": 16,
   "id": "5e5828fb-19f6-407d-9b77-790da197a092",
   "metadata": {
    "id": "5e5828fb-19f6-407d-9b77-790da197a092",
    "outputId": "bed02608-b45d-4664-e546-6ce46909726f"
   },
   "outputs": [
    {
     "data": {
      "text/plain": [
       "(1085, 9)"
      ]
     },
     "execution_count": 16,
     "metadata": {},
     "output_type": "execute_result"
    }
   ],
   "source": [
    "data.shape # gives the shape of data"
   ]
  },
  {
   "cell_type": "code",
   "execution_count": 17,
   "id": "5f27f2c0-c9ef-4a15-afe9-749a52866eb8",
   "metadata": {
    "id": "5f27f2c0-c9ef-4a15-afe9-749a52866eb8",
    "outputId": "e383aa3b-b26f-43d2-be16-dad365b9de4c"
   },
   "outputs": [
    {
     "data": {
      "text/plain": [
       "Index(['id', 'gender', 'age', 'heart_rate', 'temperature', 'SpO2_saturation',\n",
       "       'bpm', 'Health_status', 'health_condition'],\n",
       "      dtype='object')"
      ]
     },
     "execution_count": 17,
     "metadata": {},
     "output_type": "execute_result"
    }
   ],
   "source": [
    "data.columns # gives the columns of data"
   ]
  },
  {
   "cell_type": "code",
   "execution_count": 18,
   "id": "9e77009e-deaf-4457-a240-13d5813950b0",
   "metadata": {
    "id": "9e77009e-deaf-4457-a240-13d5813950b0",
    "outputId": "d788a19d-bef3-44ab-a2ab-afba796c3532"
   },
   "outputs": [
    {
     "name": "stdout",
     "output_type": "stream",
     "text": [
      "<class 'pandas.core.frame.DataFrame'>\n",
      "RangeIndex: 1085 entries, 0 to 1084\n",
      "Data columns (total 9 columns):\n",
      " #   Column            Non-Null Count  Dtype  \n",
      "---  ------            --------------  -----  \n",
      " 0   id                1085 non-null   int64  \n",
      " 1   gender            902 non-null    object \n",
      " 2   age               843 non-null    float64\n",
      " 3   heart_rate        1085 non-null   int64  \n",
      " 4   temperature       1085 non-null   float64\n",
      " 5   SpO2_saturation   1085 non-null   float64\n",
      " 6   bpm               1085 non-null   int64  \n",
      " 7   Health_status     1085 non-null   object \n",
      " 8   health_condition  1085 non-null   int64  \n",
      "dtypes: float64(3), int64(4), object(2)\n",
      "memory usage: 76.4+ KB\n"
     ]
    }
   ],
   "source": [
    "data.info() # All information about data"
   ]
  },
  {
   "cell_type": "code",
   "execution_count": 20,
   "id": "27265752-7453-4e5d-b26b-3012eb44e0c2",
   "metadata": {
    "id": "27265752-7453-4e5d-b26b-3012eb44e0c2"
   },
   "outputs": [],
   "source": [
    "data= data[[\"heart_rate\",\"temperature\",\"SpO2_saturation\",\"health_condition\"]] # taking only the required data"
   ]
  },
  {
   "cell_type": "code",
   "execution_count": 21,
   "id": "9fc570ff-263a-40b4-a651-b0e94a2d3e9a",
   "metadata": {
    "id": "9fc570ff-263a-40b4-a651-b0e94a2d3e9a",
    "outputId": "abd91138-713c-4cce-9595-77226f121126"
   },
   "outputs": [
    {
     "data": {
      "text/html": [
       "<div>\n",
       "<style scoped>\n",
       "    .dataframe tbody tr th:only-of-type {\n",
       "        vertical-align: middle;\n",
       "    }\n",
       "\n",
       "    .dataframe tbody tr th {\n",
       "        vertical-align: top;\n",
       "    }\n",
       "\n",
       "    .dataframe thead th {\n",
       "        text-align: right;\n",
       "    }\n",
       "</style>\n",
       "<table border=\"1\" class=\"dataframe\">\n",
       "  <thead>\n",
       "    <tr style=\"text-align: right;\">\n",
       "      <th></th>\n",
       "      <th>heart_rate</th>\n",
       "      <th>temperature</th>\n",
       "      <th>SpO2_saturation</th>\n",
       "      <th>health_condition</th>\n",
       "    </tr>\n",
       "  </thead>\n",
       "  <tbody>\n",
       "    <tr>\n",
       "      <th>0</th>\n",
       "      <td>70</td>\n",
       "      <td>38.6</td>\n",
       "      <td>88.0</td>\n",
       "      <td>1</td>\n",
       "    </tr>\n",
       "    <tr>\n",
       "      <th>1</th>\n",
       "      <td>74</td>\n",
       "      <td>39.6</td>\n",
       "      <td>88.0</td>\n",
       "      <td>1</td>\n",
       "    </tr>\n",
       "    <tr>\n",
       "      <th>2</th>\n",
       "      <td>82</td>\n",
       "      <td>37.2</td>\n",
       "      <td>98.0</td>\n",
       "      <td>0</td>\n",
       "    </tr>\n",
       "    <tr>\n",
       "      <th>3</th>\n",
       "      <td>90</td>\n",
       "      <td>38.6</td>\n",
       "      <td>98.0</td>\n",
       "      <td>1</td>\n",
       "    </tr>\n",
       "    <tr>\n",
       "      <th>4</th>\n",
       "      <td>72</td>\n",
       "      <td>39.6</td>\n",
       "      <td>93.0</td>\n",
       "      <td>1</td>\n",
       "    </tr>\n",
       "  </tbody>\n",
       "</table>\n",
       "</div>"
      ],
      "text/plain": [
       "   heart_rate  temperature  SpO2_saturation  health_condition\n",
       "0          70         38.6             88.0                 1\n",
       "1          74         39.6             88.0                 1\n",
       "2          82         37.2             98.0                 0\n",
       "3          90         38.6             98.0                 1\n",
       "4          72         39.6             93.0                 1"
      ]
     },
     "execution_count": 21,
     "metadata": {},
     "output_type": "execute_result"
    }
   ],
   "source": [
    "data.head()  # shows some data from starting"
   ]
  },
  {
   "cell_type": "code",
   "execution_count": 22,
   "id": "757db057-87e1-4b0d-b6db-8d1314fea1ff",
   "metadata": {
    "id": "757db057-87e1-4b0d-b6db-8d1314fea1ff",
    "outputId": "5e3801ec-f31e-489e-b350-7a9fafee2778"
   },
   "outputs": [
    {
     "name": "stdout",
     "output_type": "stream",
     "text": [
      "<class 'pandas.core.frame.DataFrame'>\n",
      "RangeIndex: 1085 entries, 0 to 1084\n",
      "Data columns (total 4 columns):\n",
      " #   Column            Non-Null Count  Dtype  \n",
      "---  ------            --------------  -----  \n",
      " 0   heart_rate        1085 non-null   int64  \n",
      " 1   temperature       1085 non-null   float64\n",
      " 2   SpO2_saturation   1085 non-null   float64\n",
      " 3   health_condition  1085 non-null   int64  \n",
      "dtypes: float64(2), int64(2)\n",
      "memory usage: 34.0 KB\n"
     ]
    }
   ],
   "source": [
    "data.info()  # again checking the data info"
   ]
  },
  {
   "cell_type": "code",
   "execution_count": 23,
   "id": "2615bc26-feb7-49cb-ab9b-b91ba60289af",
   "metadata": {
    "id": "2615bc26-feb7-49cb-ab9b-b91ba60289af",
    "outputId": "79b51af1-72be-4a09-c00c-012965bd64e4"
   },
   "outputs": [
    {
     "data": {
      "text/plain": [
       "heart_rate          0\n",
       "temperature         0\n",
       "SpO2_saturation     0\n",
       "health_condition    0\n",
       "dtype: int64"
      ]
     },
     "execution_count": 23,
     "metadata": {},
     "output_type": "execute_result"
    }
   ],
   "source": [
    "data.isna().sum() # searching for null values"
   ]
  },
  {
   "cell_type": "code",
   "execution_count": 24,
   "id": "e5ea2699-6047-4202-91b0-0b8c48aa49a1",
   "metadata": {
    "id": "e5ea2699-6047-4202-91b0-0b8c48aa49a1",
    "outputId": "c82fe169-39c1-447a-9b10-79c413208e4b"
   },
   "outputs": [
    {
     "data": {
      "text/plain": [
       "516"
      ]
     },
     "execution_count": 24,
     "metadata": {},
     "output_type": "execute_result"
    }
   ],
   "source": [
    "data.duplicated().sum() # searching for the duplicate values"
   ]
  },
  {
   "cell_type": "code",
   "execution_count": 25,
   "id": "00502630-e742-4528-b743-90ddd7820823",
   "metadata": {
    "id": "00502630-e742-4528-b743-90ddd7820823",
    "outputId": "fafca0ed-08b8-45ef-92bf-22eec238ebc0"
   },
   "outputs": [
    {
     "data": {
      "text/plain": [
       "(569, 4)"
      ]
     },
     "execution_count": 25,
     "metadata": {},
     "output_type": "execute_result"
    }
   ],
   "source": [
    "data.drop_duplicates(inplace=True)  # deleting the duplicate values\n",
    "data.shape"
   ]
  },
  {
   "cell_type": "code",
   "execution_count": 26,
   "id": "2a4d0a7c-f8da-46e6-be1b-c92802f045c1",
   "metadata": {
    "id": "2a4d0a7c-f8da-46e6-be1b-c92802f045c1",
    "outputId": "c0d85ce0-4c11-4590-ba26-c85697381980"
   },
   "outputs": [
    {
     "data": {
      "text/plain": [
       "array([1, 0], dtype=int64)"
      ]
     },
     "execution_count": 26,
     "metadata": {},
     "output_type": "execute_result"
    }
   ],
   "source": [
    "data[\"health_condition\"].unique() # gives the unique values of health_condition"
   ]
  },
  {
   "cell_type": "code",
   "execution_count": 27,
   "id": "36b10ad8-e3e2-40fa-880a-5afce71c6acf",
   "metadata": {
    "id": "36b10ad8-e3e2-40fa-880a-5afce71c6acf",
    "outputId": "12a3ab15-a6b2-49f5-a5dd-10e5561315bf"
   },
   "outputs": [
    {
     "data": {
      "text/plain": [
       "<Axes: xlabel='health_condition'>"
      ]
     },
     "execution_count": 27,
     "metadata": {},
     "output_type": "execute_result"
    },
    {
     "data": {
      "image/png": "[encoded data removed]",
      "text/plain": [
       "<Figure size 640x480 with 1 Axes>"
      ]
     },
     "metadata": {},
     "output_type": "display_data"
    }
   ],
   "source": [
    "data[\"health_condition\"].value_counts().plot.bar()  # plot of health_condition"
   ]
  },
  {
   "cell_type": "code",
   "execution_count": 28,
   "id": "0917a262-f412-448c-a85f-8b29e7163370",
   "metadata": {
    "id": "0917a262-f412-448c-a85f-8b29e7163370",
    "outputId": "9320b9f5-0be7-4c8e-c0dc-20b2aec1d543"
   },
   "outputs": [
    {
     "data": {
      "text/plain": [
       "health_condition\n",
       "1    543\n",
       "0     26\n",
       "Name: count, dtype: int64"
      ]
     },
     "execution_count": 28,
     "metadata": {},
     "output_type": "execute_result"
    }
   ],
   "source": [
    "data[\"health_condition\"].value_counts()  # gives the value count of every unique health conditions"
   ]
  },
  {
   "cell_type": "markdown",
   "id": "-s6FjDfTiWXC",
   "metadata": {
    "id": "-s6FjDfTiWXC"
   },
   "source": [
    "### A Seaborn heatmap is a data visualization tool that displays a matrix of values as a grid of colors, making it easy to identify patterns, correlations, and variations in the data. It is particularly useful for visualizing correlation matrices, confusion matrices, and other types of matrix data."
   ]
  },
  {
   "cell_type": "code",
   "execution_count": 29,
   "id": "b0639500-5651-454e-8326-80e0b38c325d",
   "metadata": {
    "id": "b0639500-5651-454e-8326-80e0b38c325d",
    "outputId": "dcb5289c-3c01-4fce-860c-a754453a21b8"
   },
   "outputs": [
    {
     "data": {
      "text/plain": [
       "<Axes: >"
      ]
     },
     "execution_count": 29,
     "metadata": {},
     "output_type": "execute_result"
    },
    {
     "data": {
      "image/png": "[encoded data removed]",
      "text/plain": [
       "<Figure size 640x480 with 2 Axes>"
      ]
     },
     "metadata": {},
     "output_type": "display_data"
    }
   ],
   "source": [
    "sns.heatmap(data.corr())  # plot the heat map of the data"
   ]
  },
  {
   "cell_type": "code",
   "execution_count": 30,
   "id": "_YsaJoHziqPC",
   "metadata": {
    "id": "_YsaJoHziqPC"
   },
   "outputs": [],
   "source": [
    "# Fill missing values\n",
    "data.fillna(method='ffill', inplace=True)"
   ]
  },
  {
   "cell_type": "code",
   "execution_count": 31,
   "id": "6NpNPZOiivE4",
   "metadata": {
    "id": "6NpNPZOiivE4"
   },
   "outputs": [],
   "source": [
    "# Convert all feature columns to numeric\n",
    "for col in data.columns:\n",
    "    data[col] = pd.to_numeric(data[col], errors='coerce')"
   ]
  },
  {
   "cell_type": "code",
   "execution_count": 32,
   "id": "fthKrROZiu33",
   "metadata": {
    "id": "fthKrROZiu33"
   },
   "outputs": [],
   "source": [
    "# Fill any remaining NaNs that might have been introduced\n",
    "data.fillna(0, inplace=True)"
   ]
  },
  {
   "cell_type": "code",
   "execution_count": 34,
   "id": "scg8GT-siukT",
   "metadata": {
    "id": "scg8GT-siukT"
   },
   "outputs": [],
   "source": [
    "# Encode the target variable\n",
    "from sklearn.preprocessing import LabelEncoder\n",
    "label_encoder = LabelEncoder()\n",
    "data['health_condition'] = label_encoder.fit_transform(data['health_condition'])"
   ]
  },
  {
   "cell_type": "code",
   "execution_count": 35,
   "id": "6ff31ff3-13bc-419a-aa3b-b68b4866299c",
   "metadata": {
    "id": "6ff31ff3-13bc-419a-aa3b-b68b4866299c"
   },
   "outputs": [],
   "source": [
    "# Define features and target\n",
    "X = data.drop('health_condition', axis=1)\n",
    "y = data['health_condition']"
   ]
  },
  {
   "cell_type": "markdown",
   "id": "JXHwmjcQFEug",
   "metadata": {
    "id": "JXHwmjcQFEug"
   },
   "source": [
    "### **3. Model Development:**\n",
    "Split the dataset into training and testing sets, and implement a Decision Tree Classifier using TensorFlow."
   ]
  },
  {
   "cell_type": "code",
   "execution_count": 36,
   "id": "6oaWSvJtjMjX",
   "metadata": {
    "id": "6oaWSvJtjMjX"
   },
   "outputs": [],
   "source": [
    "# Split the dataset into training and testing sets\n",
    "X_train, X_test, y_train, y_test = train_test_split(X, y, test_size=0.2, random_state=42)"
   ]
  },
  {
   "cell_type": "code",
   "execution_count": 37,
   "id": "S-4Y0tTHjN36",
   "metadata": {
    "id": "S-4Y0tTHjN36"
   },
   "outputs": [],
   "source": [
    "# Build the Decision Tree Classifier model\n",
    "model = tf.keras.Sequential([\n",
    "    tf.keras.layers.Input(shape=(X_train.shape[1],)),\n",
    "    tf.keras.layers.Dense(128, activation='relu'),\n",
    "    tf.keras.layers.Dense(64, activation='relu'),\n",
    "    tf.keras.layers.Dense(len(label_encoder.classes_), activation='softmax')\n",
    "])"
   ]
  },
  {
   "cell_type": "code",
   "execution_count": 38,
   "id": "XFWm3eccKkzK",
   "metadata": {
    "id": "XFWm3eccKkzK"
   },
   "outputs": [],
   "source": [
    "# Compile the model\n",
    "model.compile(optimizer='adam', loss='sparse_categorical_crossentropy', metrics=['accuracy'])"
   ]
  },
  {
   "cell_type": "markdown",
   "id": "XAEHkelZFhfZ",
   "metadata": {
    "id": "XAEHkelZFhfZ"
   },
   "source": [
    "### **4. Model Training**\n",
    "Train the model using the training data and monitor its performance."
   ]
  },
  {
   "cell_type": "code",
   "execution_count": 39,
   "id": "3a198884-0e31-4304-b56c-56a2cdb9de92",
   "metadata": {
    "id": "3a198884-0e31-4304-b56c-56a2cdb9de92"
   },
   "outputs": [],
   "source": [
    "X = data.loc[:,[\"heart_rate\",\"temperature\",\"SpO2_saturation\"]]"
   ]
  },
  {
   "cell_type": "code",
   "execution_count": 40,
   "id": "686e0661-2ed9-4ba8-80a0-ee1389fa098b",
   "metadata": {
    "id": "686e0661-2ed9-4ba8-80a0-ee1389fa098b",
    "outputId": "de60aa98-46cf-4d44-8f0f-d970ebd8ada8"
   },
   "outputs": [
    {
     "data": {
      "text/html": [
       "<div>\n",
       "<style scoped>\n",
       "    .dataframe tbody tr th:only-of-type {\n",
       "        vertical-align: middle;\n",
       "    }\n",
       "\n",
       "    .dataframe tbody tr th {\n",
       "        vertical-align: top;\n",
       "    }\n",
       "\n",
       "    .dataframe thead th {\n",
       "        text-align: right;\n",
       "    }\n",
       "</style>\n",
       "<table border=\"1\" class=\"dataframe\">\n",
       "  <thead>\n",
       "    <tr style=\"text-align: right;\">\n",
       "      <th></th>\n",
       "      <th>heart_rate</th>\n",
       "      <th>temperature</th>\n",
       "      <th>SpO2_saturation</th>\n",
       "    </tr>\n",
       "  </thead>\n",
       "  <tbody>\n",
       "    <tr>\n",
       "      <th>0</th>\n",
       "      <td>70</td>\n",
       "      <td>38.6</td>\n",
       "      <td>88.0</td>\n",
       "    </tr>\n",
       "    <tr>\n",
       "      <th>1</th>\n",
       "      <td>74</td>\n",
       "      <td>39.6</td>\n",
       "      <td>88.0</td>\n",
       "    </tr>\n",
       "    <tr>\n",
       "      <th>2</th>\n",
       "      <td>82</td>\n",
       "      <td>37.2</td>\n",
       "      <td>98.0</td>\n",
       "    </tr>\n",
       "    <tr>\n",
       "      <th>3</th>\n",
       "      <td>90</td>\n",
       "      <td>38.6</td>\n",
       "      <td>98.0</td>\n",
       "    </tr>\n",
       "    <tr>\n",
       "      <th>4</th>\n",
       "      <td>72</td>\n",
       "      <td>39.6</td>\n",
       "      <td>93.0</td>\n",
       "    </tr>\n",
       "    <tr>\n",
       "      <th>...</th>\n",
       "      <td>...</td>\n",
       "      <td>...</td>\n",
       "      <td>...</td>\n",
       "    </tr>\n",
       "    <tr>\n",
       "      <th>970</th>\n",
       "      <td>111</td>\n",
       "      <td>38.0</td>\n",
       "      <td>30.0</td>\n",
       "    </tr>\n",
       "    <tr>\n",
       "      <th>1019</th>\n",
       "      <td>109</td>\n",
       "      <td>38.0</td>\n",
       "      <td>30.0</td>\n",
       "    </tr>\n",
       "    <tr>\n",
       "      <th>1020</th>\n",
       "      <td>110</td>\n",
       "      <td>38.0</td>\n",
       "      <td>30.0</td>\n",
       "    </tr>\n",
       "    <tr>\n",
       "      <th>1031</th>\n",
       "      <td>108</td>\n",
       "      <td>38.0</td>\n",
       "      <td>30.0</td>\n",
       "    </tr>\n",
       "    <tr>\n",
       "      <th>1052</th>\n",
       "      <td>107</td>\n",
       "      <td>38.0</td>\n",
       "      <td>30.0</td>\n",
       "    </tr>\n",
       "  </tbody>\n",
       "</table>\n",
       "<p>569 rows × 3 columns</p>\n",
       "</div>"
      ],
      "text/plain": [
       "      heart_rate  temperature  SpO2_saturation\n",
       "0             70         38.6             88.0\n",
       "1             74         39.6             88.0\n",
       "2             82         37.2             98.0\n",
       "3             90         38.6             98.0\n",
       "4             72         39.6             93.0\n",
       "...          ...          ...              ...\n",
       "970          111         38.0             30.0\n",
       "1019         109         38.0             30.0\n",
       "1020         110         38.0             30.0\n",
       "1031         108         38.0             30.0\n",
       "1052         107         38.0             30.0\n",
       "\n",
       "[569 rows x 3 columns]"
      ]
     },
     "execution_count": 40,
     "metadata": {},
     "output_type": "execute_result"
    }
   ],
   "source": [
    "X"
   ]
  },
  {
   "cell_type": "code",
   "execution_count": 41,
   "id": "1c574e38-29a7-44fc-8983-e24a3f264f6b",
   "metadata": {
    "id": "1c574e38-29a7-44fc-8983-e24a3f264f6b"
   },
   "outputs": [],
   "source": [
    "y = data.iloc[:,3].astype(int)"
   ]
  },
  {
   "cell_type": "code",
   "execution_count": 42,
   "id": "51060de4-0256-4e3e-915f-488cc6f28cb7",
   "metadata": {
    "id": "51060de4-0256-4e3e-915f-488cc6f28cb7",
    "outputId": "76fefacd-10d9-4003-d714-a4c776279dee"
   },
   "outputs": [
    {
     "data": {
      "text/plain": [
       "0       1\n",
       "1       1\n",
       "2       0\n",
       "3       1\n",
       "4       1\n",
       "       ..\n",
       "970     1\n",
       "1019    1\n",
       "1020    1\n",
       "1031    1\n",
       "1052    1\n",
       "Name: health_condition, Length: 569, dtype: int32"
      ]
     },
     "execution_count": 42,
     "metadata": {},
     "output_type": "execute_result"
    }
   ],
   "source": [
    "y"
   ]
  },
  {
   "cell_type": "code",
   "execution_count": 43,
   "id": "fbe2290c-0f0d-4331-ad3a-ecb9242f3c9e",
   "metadata": {
    "id": "fbe2290c-0f0d-4331-ad3a-ecb9242f3c9e"
   },
   "outputs": [],
   "source": [
    "X_train, X_test, y_train, y_test = train_test_split(X, y, train_size=0.7, random_state=42)"
   ]
  },
  {
   "cell_type": "code",
   "execution_count": 44,
   "id": "dd998b57-56c1-4e20-ab77-b565e45693f6",
   "metadata": {
    "id": "dd998b57-56c1-4e20-ab77-b565e45693f6",
    "outputId": "8593a6dc-677f-4f74-b940-feebcb8efeef"
   },
   "outputs": [
    {
     "data": {
      "text/plain": [
       "[[105.0, 39.6, 82.0],\n",
       " [91.0, 38.0, 97.0],\n",
       " [68.0, 37.6, 30.0],\n",
       " [61.0, 37.5, 85.0],\n",
       " [112.0, 38.5, 30.0],\n",
       " [74.0, 37.9, 89.0],\n",
       " [86.0, 38.0, 90.0],\n",
       " [83.0, 39.0, 30.0],\n",
       " [69.0, 38.0, 90.0],\n",
       " [107.0, 38.5, 175.0],\n",
       " [77.0, 39.0, 30.0],\n",
       " [78.0, 38.0, 97.0],\n",
       " [95.0, 38.6, 82.0],\n",
       " [97.0, 38.5, 85.0],\n",
       " [72.0, 39.6, 97.0],\n",
       " [113.0, 38.5, 87.3],\n",
       " [70.0, 38.6, 95.0],\n",
       " [60.0, 36.5, 85.0],\n",
       " [71.0, 39.0, 30.0],\n",
       " [96.0, 37.2, 91.0],\n",
       " [96.0, 38.5, 85.0],\n",
       " [84.0, 38.9, 75.0],\n",
       " [109.0, 38.5, 30.0],\n",
       " [112.0, 39.0, 85.0],\n",
       " [99.0, 39.0, 85.0],\n",
       " [87.0, 37.2, 91.0],\n",
       " [76.0, 38.0, 90.0],\n",
       " [94.0, 37.2, 96.0],\n",
       " [78.0, 38.1, 30.0],\n",
       " [82.0, 38.9, 75.0],\n",
       " [112.0, 38.5, 87.3],\n",
       " [90.0, 37.8, 91.0],\n",
       " [61.0, 38.1, 80.0],\n",
       " [75.0, 39.0, 85.0],\n",
       " [80.0, 38.0, 98.0],\n",
       " [90.0, 38.9, 75.0],\n",
       " [56.0, 38.1, 20.0],\n",
       " [101.0, 37.2, 82.0],\n",
       " [77.0, 38.0, 84.0],\n",
       " [110.0, 38.5, 30.0],\n",
       " [115.0, 37.9, 30.0],\n",
       " [90.0, 38.5, 85.0],\n",
       " [62.0, 39.6, 85.0],\n",
       " [81.0, 37.2, 96.0],\n",
       " [77.0, 38.0, 97.0],\n",
       " [107.0, 38.9, 75.0],\n",
       " [63.0, 37.2, 85.0],\n",
       " [65.0, 38.1, 35.0],\n",
       " [83.0, 38.9, 75.0],\n",
       " [86.0, 37.2, 91.0],\n",
       " [97.0, 38.2, 92.0],\n",
       " [83.0, 37.2, 96.0],\n",
       " [68.0, 39.6, 95.0],\n",
       " [71.0, 38.1, 85.0],\n",
       " [79.0, 37.8, 91.0],\n",
       " [95.0, 38.9, 85.0],\n",
       " [95.0, 39.0, 85.0],\n",
       " [82.0, 37.1, 96.0],\n",
       " [99.0, 36.8, 95.0],\n",
       " [106.0, 38.5, 175.0],\n",
       " [106.0, 38.5, 85.0],\n",
       " [92.0, 37.5, 66.0],\n",
       " [91.0, 36.7, 88.0],\n",
       " [109.0, 38.5, 99.0],\n",
       " [71.0, 38.0, 97.0],\n",
       " [60.0, 36.4, 85.0],\n",
       " [68.0, 38.1, 75.0],\n",
       " [72.0, 37.8, 92.0],\n",
       " [88.0, 39.6, 96.0],\n",
       " [115.0, 38.5, 87.3],\n",
       " [56.0, 38.1, 25.0],\n",
       " [91.0, 38.9, 75.0],\n",
       " [93.0, 39.0, 85.0],\n",
       " [72.0, 37.2, 93.0],\n",
       " [80.0, 38.0, 97.0],\n",
       " [68.0, 38.0, 91.0],\n",
       " [99.0, 38.0, 98.0],\n",
       " [82.0, 37.9, 67.0],\n",
       " [54.0, 38.1, 70.0],\n",
       " [70.0, 38.1, 55.0],\n",
       " [78.0, 38.6, 70.0],\n",
       " [67.0, 36.5, 91.0],\n",
       " [114.0, 38.5, 30.0],\n",
       " [74.0, 38.1, 70.0],\n",
       " [90.0, 38.6, 98.0],\n",
       " [95.0, 38.5, 85.0],\n",
       " [69.0, 38.1, 75.0],\n",
       " [86.0, 38.0, 98.0],\n",
       " [78.0, 39.6, 96.0],\n",
       " [77.0, 39.6, 91.0],\n",
       " [80.0, 38.0, 90.0],\n",
       " [76.0, 37.2, 96.0],\n",
       " [63.0, 39.6, 82.0],\n",
       " [93.0, 38.0, 90.0],\n",
       " [108.0, 38.5, 87.3],\n",
       " [60.0, 37.2, 85.0],\n",
       " [69.0, 37.7, 95.0],\n",
       " [69.0, 38.9, 75.0],\n",
       " [66.0, 36.5, 85.0],\n",
       " [96.0, 38.2, 92.0],\n",
       " [65.0, 36.5, 91.0],\n",
       " [116.0, 39.0, 85.0],\n",
       " [59.0, 38.0, 85.0],\n",
       " [104.0, 37.6, 84.0],\n",
       " [88.0, 38.5, 79.0],\n",
       " [58.0, 36.5, 85.0],\n",
       " [87.0, 39.6, 82.0],\n",
       " [55.0, 38.1, 40.0],\n",
       " [88.0, 38.9, 75.0],\n",
       " [70.0, 38.1, 70.0],\n",
       " [85.0, 38.9, 75.0],\n",
       " [92.0, 36.9, 92.0],\n",
       " [56.0, 37.6, 30.0],\n",
       " [77.0, 37.8, 91.0],\n",
       " [77.0, 37.6, 30.0],\n",
       " [111.0, 38.5, 30.0],\n",
       " [89.0, 38.0, 97.0],\n",
       " [58.0, 38.1, 30.0],\n",
       " [61.0, 38.1, 40.0],\n",
       " [69.0, 38.3, 70.0],\n",
       " [101.0, 36.8, 95.0],\n",
       " [95.0, 38.9, 75.0],\n",
       " [60.0, 38.1, 80.0],\n",
       " [60.0, 38.1, 30.0],\n",
       " [92.0, 36.1, 66.0],\n",
       " [67.0, 38.1, 55.0],\n",
       " [87.0, 37.2, 96.0],\n",
       " [113.0, 38.0, 82.0],\n",
       " [87.0, 37.9, 89.0],\n",
       " [100.0, 38.5, 85.0],\n",
       " [86.0, 37.5, 91.0],\n",
       " [72.0, 38.0, 97.0],\n",
       " [93.0, 38.5, 75.0],\n",
       " [60.0, 38.1, 45.0],\n",
       " [84.0, 37.9, 67.0],\n",
       " [60.0, 38.1, 98.0],\n",
       " [81.0, 38.9, 92.0],\n",
       " [103.0, 37.2, 82.0],\n",
       " [78.0, 37.9, 85.0],\n",
       " [94.0, 36.1, 66.0],\n",
       " [97.0, 37.2, 96.0],\n",
       " [65.0, 39.0, 30.0],\n",
       " [96.0, 38.9, 75.0],\n",
       " [63.0, 37.8, 85.0],\n",
       " [79.0, 38.9, 75.0],\n",
       " [118.0, 38.6, 82.0],\n",
       " [92.0, 36.8, 88.0],\n",
       " [94.0, 39.6, 82.0],\n",
       " [62.0, 38.1, 70.0],\n",
       " [56.0, 38.1, 60.0],\n",
       " [88.0, 38.0, 97.0],\n",
       " [109.0, 38.5, 175.0],\n",
       " [72.0, 37.8, 70.0],\n",
       " [79.0, 37.2, 82.0],\n",
       " [94.0, 38.0, 90.0],\n",
       " [96.0, 39.4, 90.0],\n",
       " [68.0, 36.5, 70.0],\n",
       " [97.0, 38.9, 75.0],\n",
       " [110.0, 38.5, 45.0],\n",
       " [82.0, 37.6, 84.0],\n",
       " [72.0, 37.3, 97.0],\n",
       " [85.0, 38.0, 97.0],\n",
       " [60.0, 37.8, 85.0],\n",
       " [63.0, 37.8, 70.0],\n",
       " [99.0, 38.9, 75.0],\n",
       " [97.0, 38.0, 89.0],\n",
       " [64.0, 38.1, 80.0],\n",
       " [60.0, 38.1, 20.0],\n",
       " [73.0, 37.3, 97.0],\n",
       " [60.0, 38.1, 340.0],\n",
       " [96.0, 39.4, 88.0],\n",
       " [55.0, 38.1, 80.0],\n",
       " [86.0, 38.0, 97.0],\n",
       " [63.0, 38.1, 80.0],\n",
       " [89.0, 38.0, 98.0],\n",
       " [60.0, 38.1, 55.0],\n",
       " [68.0, 39.6, 91.0],\n",
       " [79.0, 38.0, 98.0],\n",
       " [80.0, 38.0, 82.0],\n",
       " [107.0, 38.5, 85.0],\n",
       " [56.0, 38.1, 55.0],\n",
       " [69.0, 39.0, 30.0],\n",
       " [90.0, 38.2, 87.0],\n",
       " [55.0, 38.1, 55.0],\n",
       " [67.0, 38.1, 70.0],\n",
       " [58.0, 38.1, 45.0],\n",
       " [81.0, 37.6, 84.0],\n",
       " [89.0, 37.7, 95.0],\n",
       " [82.0, 37.7, 95.0],\n",
       " [57.0, 38.1, 40.0],\n",
       " [68.0, 38.0, 97.0],\n",
       " [64.0, 37.2, 85.0],\n",
       " [77.0, 38.5, 79.0],\n",
       " [81.0, 39.0, 30.0],\n",
       " [73.0, 39.0, 30.0],\n",
       " [71.0, 38.9, 75.0],\n",
       " [117.0, 37.2, 82.0],\n",
       " [71.0, 38.1, 98.0],\n",
       " [105.0, 38.0, 90.0],\n",
       " [92.0, 38.9, 75.0],\n",
       " [63.0, 38.1, 20.0],\n",
       " [62.0, 37.5, 82.0],\n",
       " [81.0, 38.9, 75.0],\n",
       " [72.0, 38.6, 82.0],\n",
       " [62.0, 38.0, 85.0],\n",
       " [73.0, 38.1, 70.0],\n",
       " [84.0, 37.9, 89.0],\n",
       " [110.0, 38.0, 90.0],\n",
       " [83.0, 38.0, 97.0],\n",
       " [79.0, 38.0, 97.0],\n",
       " [68.0, 37.3, 97.0],\n",
       " [66.0, 38.1, 130.0],\n",
       " [84.0, 38.0, 98.0],\n",
       " [97.0, 39.0, 85.0],\n",
       " [64.0, 39.0, 30.0],\n",
       " [54.0, 38.1, 20.0],\n",
       " [83.0, 38.0, 84.0],\n",
       " [114.0, 38.0, 30.0],\n",
       " [85.0, 39.0, 85.0],\n",
       " [107.0, 38.5, 100.0],\n",
       " [92.0, 38.5, 85.0],\n",
       " [47.0, 95.0, 92.0],\n",
       " [113.0, 38.5, 79.0],\n",
       " [78.0, 39.0, 30.0],\n",
       " [65.0, 38.6, 82.0],\n",
       " [64.0, 40.0, 93.0],\n",
       " [77.0, 38.0, 91.0],\n",
       " [65.0, 38.0, 85.0],\n",
       " [67.0, 38.0, 91.0],\n",
       " [76.0, 39.0, 85.0],\n",
       " [77.0, 37.8, 98.0],\n",
       " [88.0, 38.0, 89.0],\n",
       " [61.0, 36.5, 85.0],\n",
       " [91.0, 36.1, 66.0],\n",
       " [69.0, 37.2, 82.0],\n",
       " [63.0, 37.2, 70.0],\n",
       " [75.0, 39.6, 96.0],\n",
       " [75.0, 37.2, 96.0],\n",
       " [64.0, 38.0, 85.0],\n",
       " [98.0, 39.6, 82.0],\n",
       " [97.0, 36.8, 95.0],\n",
       " [74.0, 37.6, 30.0],\n",
       " [62.0, 38.5, 93.0],\n",
       " [77.0, 38.0, 98.0],\n",
       " [109.0, 38.5, 85.0],\n",
       " [73.0, 38.0, 70.0],\n",
       " [100.0, 37.2, 91.0],\n",
       " [83.0, 38.0, 89.0],\n",
       " [115.0, 38.0, 30.0],\n",
       " [55.0, 38.1, 45.0],\n",
       " [83.0, 38.2, 66.0],\n",
       " [61.0, 37.2, 85.0],\n",
       " [90.0, 37.0, 88.0],\n",
       " [95.0, 37.5, 91.0],\n",
       " [106.0, 38.5, 105.0],\n",
       " [88.0, 38.5, 85.0],\n",
       " [61.0, 39.0, 70.0],\n",
       " [59.0, 38.1, 55.0],\n",
       " [78.0, 39.0, 85.0],\n",
       " [59.0, 38.1, 25.0],\n",
       " [95.0, 38.1, 30.0],\n",
       " [48.0, 37.9, 89.0],\n",
       " [91.0, 38.5, 85.0],\n",
       " [72.0, 39.6, 93.0],\n",
       " [79.0, 37.9, 89.0],\n",
       " [110.0, 38.5, 99.0],\n",
       " [69.0, 37.3, 97.0],\n",
       " [90.0, 39.0, 95.0],\n",
       " [79.0, 38.0, 90.0],\n",
       " [106.0, 38.5, 65.0],\n",
       " [78.0, 36.9, 98.0],\n",
       " [60.0, 38.1, 90.0],\n",
       " [65.0, 37.8, 85.0],\n",
       " [71.0, 36.5, 70.0],\n",
       " [93.0, 37.6, 84.0],\n",
       " [83.0, 36.9, 98.0],\n",
       " [89.0, 37.8, 91.0],\n",
       " [70.0, 39.0, 30.0],\n",
       " [85.0, 37.8, 91.0],\n",
       " [80.0, 39.6, 96.0],\n",
       " [67.0, 37.6, 30.0],\n",
       " [70.0, 37.9, 85.0],\n",
       " [104.0, 38.9, 75.0],\n",
       " [59.0, 37.8, 85.0],\n",
       " [77.0, 39.6, 82.0],\n",
       " [89.0, 37.2, 96.0],\n",
       " [90.0, 40.0, 88.0],\n",
       " [75.0, 38.0, 90.0],\n",
       " [81.0, 37.9, 89.0],\n",
       " [66.0, 38.1, 165.0],\n",
       " [119.0, 39.0, 85.0],\n",
       " [76.0, 37.6, 30.0],\n",
       " [61.0, 37.2, 82.0],\n",
       " [60.0, 38.1, 35.0],\n",
       " [111.0, 38.5, 85.0],\n",
       " [93.0, 37.2, 82.0],\n",
       " [72.0, 37.8, 91.0],\n",
       " [81.0, 37.2, 82.0],\n",
       " [90.0, 38.0, 82.0],\n",
       " [116.0, 38.5, 30.0],\n",
       " [65.0, 37.2, 96.0],\n",
       " [106.0, 38.9, 75.0],\n",
       " [58.0, 38.1, 40.0],\n",
       " [66.0, 38.0, 91.0],\n",
       " [77.0, 38.9, 75.0],\n",
       " [73.0, 39.6, 70.0],\n",
       " [65.0, 37.2, 82.0],\n",
       " [79.0, 37.5, 91.0],\n",
       " [67.0, 38.1, 35.0],\n",
       " [64.0, 36.4, 85.0],\n",
       " [96.0, 39.0, 85.0],\n",
       " [87.0, 38.0, 98.0],\n",
       " [66.0, 39.0, 30.0],\n",
       " [68.0, 39.0, 85.0],\n",
       " [78.0, 37.2, 91.0],\n",
       " [108.0, 38.5, 175.0],\n",
       " [67.0, 38.1, 75.0],\n",
       " [72.0, 38.0, 90.0],\n",
       " [59.0, 39.0, 70.0],\n",
       " [81.0, 36.9, 98.0],\n",
       " [80.0, 37.1, 96.0],\n",
       " [110.0, 38.5, 87.3],\n",
       " [96.0, 38.0, 89.0],\n",
       " [112.0, 38.0, 30.0],\n",
       " [90.0, 38.5, 79.0],\n",
       " [66.0, 39.6, 80.0],\n",
       " [110.0, 38.0, 30.0],\n",
       " [87.0, 38.9, 75.0],\n",
       " [55.0, 38.1, 130.0],\n",
       " [91.0, 38.1, 85.0],\n",
       " [92.0, 38.5, 88.0],\n",
       " [64.0, 38.1, 98.0],\n",
       " [61.0, 38.0, 70.0],\n",
       " [59.0, 37.2, 82.0],\n",
       " [95.0, 37.8, 91.0],\n",
       " [78.0, 38.0, 98.0],\n",
       " [72.0, 39.0, 30.0],\n",
       " [60.0, 38.0, 85.0],\n",
       " [93.0, 36.8, 97.0],\n",
       " [67.0, 38.9, 75.0],\n",
       " [76.0, 37.9, 89.0],\n",
       " [92.0, 95.0, 92.0],\n",
       " [57.0, 38.1, 20.0],\n",
       " [74.0, 39.6, 88.0],\n",
       " [108.0, 38.5, 75.0],\n",
       " [70.0, 36.5, 61.3],\n",
       " [63.0, 39.0, 70.0],\n",
       " [80.0, 37.2, 96.0],\n",
       " [89.0, 38.5, 85.0],\n",
       " [66.0, 37.6, 30.0],\n",
       " [72.0, 38.0, 95.0],\n",
       " [62.0, 38.1, 20.0],\n",
       " [68.0, 36.5, 96.0],\n",
       " [65.0, 38.1, 55.0],\n",
       " [58.0, 38.1, 20.0],\n",
       " [89.0, 38.0, 89.0],\n",
       " [94.0, 38.6, 70.0],\n",
       " [73.0, 38.9, 75.0],\n",
       " [56.0, 38.1, 30.0],\n",
       " [88.0, 38.9, 85.0],\n",
       " [65.0, 37.8, 89.0],\n",
       " [113.0, 38.0, 30.0],\n",
       " [95.0, 38.5, 88.0],\n",
       " [116.0, 39.1, 30.0],\n",
       " [93.0, 38.5, 85.0],\n",
       " [85.0, 38.0, 89.0],\n",
       " [64.0, 37.8, 85.0],\n",
       " [91.0, 39.1, 97.0],\n",
       " [98.0, 38.5, 85.0],\n",
       " [92.0, 36.4, 91.0],\n",
       " [92.0, 36.0, 97.0],\n",
       " [90.0, 38.0, 89.0],\n",
       " [72.0, 37.2, 97.0],\n",
       " [74.0, 38.9, 75.0],\n",
       " [62.0, 38.5, 79.0],\n",
       " [68.0, 39.6, 82.0],\n",
       " [94.0, 39.0, 85.0],\n",
       " [66.0, 37.8, 85.0],\n",
       " [65.0, 38.1, 40.0],\n",
       " [60.0, 39.0, 30.0],\n",
       " [96.0, 39.0, 95.0],\n",
       " [59.0, 38.1, 40.0],\n",
       " [80.0, 38.9, 75.0],\n",
       " [84.0, 38.6, 82.0],\n",
       " [64.0, 36.5, 70.0],\n",
       " [66.0, 38.1, 80.0],\n",
       " [74.0, 38.0, 93.0],\n",
       " [108.0, 38.5, 79.0],\n",
       " [86.0, 38.5, 75.0],\n",
       " [76.0, 36.9, 98.0],\n",
       " [85.0, 38.2, 66.0],\n",
       " [87.0, 38.0, 97.0],\n",
       " [70.0, 39.6, 97.0],\n",
       " [68.0, 37.5, 91.0],\n",
       " [86.0, 95.0, 92.0],\n",
       " [80.0, 38.1, 85.0],\n",
       " [67.0, 38.3, 70.0],\n",
       " [92.0, 39.0, 95.0]]"
      ]
     },
     "execution_count": 44,
     "metadata": {},
     "output_type": "execute_result"
    }
   ],
   "source": [
    "X_train.values.tolist()"
   ]
  },
  {
   "cell_type": "code",
   "execution_count": 45,
   "id": "Sc6NkbVfjYJt",
   "metadata": {
    "id": "Sc6NkbVfjYJt"
   },
   "outputs": [],
   "source": [
    "# Convert to Pandas Series if y_train is a NumPy array\n",
    "if isinstance(y_train, np.ndarray):\n",
    "    y_train = pd.Series(y_train)"
   ]
  },
  {
   "cell_type": "code",
   "execution_count": 46,
   "id": "437734ae-7a8b-4634-9679-1c440212bd7f",
   "metadata": {
    "id": "437734ae-7a8b-4634-9679-1c440212bd7f",
    "outputId": "f59e4a62-01b9-4e24-d132-ab531b893554"
   },
   "outputs": [
    {
     "name": "stdout",
     "output_type": "stream",
     "text": [
      "[1, 1, 1, 1, 1, 1, 1, 1, 1, 1, 1, 1, 1, 1, 1, 1, 1, 1, 1, 1, 1, 1, 1, 1, 1, 1, 1, 0, 1, 1, 1, 1, 1, 1, 1, 1, 1, 1, 1, 1, 1, 1, 1, 0, 1, 1, 1, 1, 1, 1, 1, 0, 1, 1, 1, 1, 1, 0, 0, 1, 1, 1, 1, 1, 1, 1, 1, 1, 1, 1, 1, 1, 1, 1, 1, 1, 1, 1, 1, 1, 1, 1, 1, 1, 1, 1, 1, 1, 1, 1, 1, 0, 1, 1, 1, 1, 1, 1, 1, 1, 1, 1, 1, 1, 1, 1, 1, 1, 1, 1, 1, 1, 1, 1, 1, 1, 1, 1, 1, 1, 1, 1, 1, 1, 1, 1, 0, 1, 1, 1, 1, 1, 1, 1, 1, 1, 1, 1, 1, 1, 0, 1, 1, 1, 1, 1, 1, 1, 1, 1, 1, 1, 1, 1, 1, 1, 1, 1, 1, 1, 1, 1, 1, 1, 1, 1, 1, 1, 1, 1, 1, 1, 1, 1, 1, 1, 1, 1, 1, 1, 1, 1, 1, 1, 1, 1, 1, 1, 1, 1, 1, 1, 1, 1, 1, 1, 1, 1, 1, 1, 1, 1, 1, 1, 1, 1, 1, 1, 1, 1, 1, 1, 1, 1, 1, 1, 1, 1, 1, 1, 1, 1, 1, 1, 1, 1, 1, 1, 1, 1, 1, 1, 1, 1, 1, 1, 1, 0, 1, 1, 0, 1, 1, 1, 1, 1, 1, 1, 1, 1, 1, 1, 1, 1, 1, 1, 1, 1, 1, 1, 1, 1, 1, 1, 1, 1, 1, 1, 1, 1, 0, 1, 1, 1, 1, 0, 1, 1, 1, 1, 1, 1, 1, 1, 1, 0, 1, 1, 1, 1, 1, 1, 1, 1, 1, 1, 1, 1, 1, 1, 0, 1, 1, 1, 1, 1, 1, 1, 1, 1, 1, 1, 1, 1, 1, 1, 1, 1, 1, 0, 0, 1, 1, 1, 1, 1, 1, 1, 1, 1, 1, 1, 1, 1, 1, 1, 1, 1, 0, 1, 1, 1, 1, 1, 1, 1, 1, 0, 1, 1, 1, 1, 0, 1, 1, 1, 1, 1, 1, 1, 1, 1, 1, 1, 1, 1, 1, 1, 1, 1, 1, 1, 0, 1, 1, 1, 1, 1, 1, 1, 1, 1, 1, 1, 1, 1, 1, 1, 1, 0, 1, 1, 1, 1, 1, 1, 1, 1]\n"
     ]
    }
   ],
   "source": [
    "# Now you can use y_train.values.tolist() if necessary\n",
    "y_train_list = y_train.values.tolist()\n",
    "print(y_train_list)"
   ]
  },
  {
   "cell_type": "code",
   "execution_count": 61,
   "id": "01aa50dd-9ffe-430a-9325-78fb8a3dec0e",
   "metadata": {
    "id": "01aa50dd-9ffe-430a-9325-78fb8a3dec0e",
    "outputId": "0bfc92aa-a318-4067-8541-e4984ef1827b"
   },
   "outputs": [
    {
     "data": {
      "text/html": [
       "<style>#sk-container-id-2 {color: black;}#sk-container-id-2 pre{padding: 0;}#sk-container-id-2 div.sk-toggleable {background-color: white;}#sk-container-id-2 label.sk-toggleable__label {cursor: pointer;display: block;width: 100%;margin-bottom: 0;padding: 0.3em;box-sizing: border-box;text-align: center;}#sk-container-id-2 label.sk-toggleable__label-arrow:before {content: \"▸\";float: left;margin-right: 0.25em;color: #696969;}#sk-container-id-2 label.sk-toggleable__label-arrow:hover:before {color: black;}#sk-container-id-2 div.sk-estimator:hover label.sk-toggleable__label-arrow:before {color: black;}#sk-container-id-2 div.sk-toggleable__content {max-height: 0;max-width: 0;overflow: hidden;text-align: left;background-color: #f0f8ff;}#sk-container-id-2 div.sk-toggleable__content pre {margin: 0.2em;color: black;border-radius: 0.25em;background-color: #f0f8ff;}#sk-container-id-2 input.sk-toggleable__control:checked~div.sk-toggleable__content {max-height: 200px;max-width: 100%;overflow: auto;}#sk-container-id-2 input.sk-toggleable__control:checked~label.sk-toggleable__label-arrow:before {content: \"▾\";}#sk-container-id-2 div.sk-estimator input.sk-toggleable__control:checked~label.sk-toggleable__label {background-color: #d4ebff;}#sk-container-id-2 div.sk-label input.sk-toggleable__control:checked~label.sk-toggleable__label {background-color: #d4ebff;}#sk-container-id-2 input.sk-hidden--visually {border: 0;clip: rect(1px 1px 1px 1px);clip: rect(1px, 1px, 1px, 1px);height: 1px;margin: -1px;overflow: hidden;padding: 0;position: absolute;width: 1px;}#sk-container-id-2 div.sk-estimator {font-family: monospace;background-color: #f0f8ff;border: 1px dotted black;border-radius: 0.25em;box-sizing: border-box;margin-bottom: 0.5em;}#sk-container-id-2 div.sk-estimator:hover {background-color: #d4ebff;}#sk-container-id-2 div.sk-parallel-item::after {content: \"\";width: 100%;border-bottom: 1px solid gray;flex-grow: 1;}#sk-container-id-2 div.sk-label:hover label.sk-toggleable__label {background-color: #d4ebff;}#sk-container-id-2 div.sk-serial::before {content: \"\";position: absolute;border-left: 1px solid gray;box-sizing: border-box;top: 0;bottom: 0;left: 50%;z-index: 0;}#sk-container-id-2 div.sk-serial {display: flex;flex-direction: column;align-items: center;background-color: white;padding-right: 0.2em;padding-left: 0.2em;position: relative;}#sk-container-id-2 div.sk-item {position: relative;z-index: 1;}#sk-container-id-2 div.sk-parallel {display: flex;align-items: stretch;justify-content: center;background-color: white;position: relative;}#sk-container-id-2 div.sk-item::before, #sk-container-id-2 div.sk-parallel-item::before {content: \"\";position: absolute;border-left: 1px solid gray;box-sizing: border-box;top: 0;bottom: 0;left: 50%;z-index: -1;}#sk-container-id-2 div.sk-parallel-item {display: flex;flex-direction: column;z-index: 1;position: relative;background-color: white;}#sk-container-id-2 div.sk-parallel-item:first-child::after {align-self: flex-end;width: 50%;}#sk-container-id-2 div.sk-parallel-item:last-child::after {align-self: flex-start;width: 50%;}#sk-container-id-2 div.sk-parallel-item:only-child::after {width: 0;}#sk-container-id-2 div.sk-dashed-wrapped {border: 1px dashed gray;margin: 0 0.4em 0.5em 0.4em;box-sizing: border-box;padding-bottom: 0.4em;background-color: white;}#sk-container-id-2 div.sk-label label {font-family: monospace;font-weight: bold;display: inline-block;line-height: 1.2em;}#sk-container-id-2 div.sk-label-container {text-align: center;}#sk-container-id-2 div.sk-container {/* jupyter's `normalize.less` sets `[hidden] { display: none; }` but bootstrap.min.css set `[hidden] { display: none !important; }` so we also need the `!important` here to be able to override the default hidden behavior on the sphinx rendered scikit-learn.org. See: https://github.com/scikit-learn/scikit-learn/issues/21755 */display: inline-block !important;position: relative;}#sk-container-id-2 div.sk-text-repr-fallback {display: none;}</style><div id=\"sk-container-id-2\" class=\"sk-top-container\"><div class=\"sk-text-repr-fallback\"><pre>DecisionTreeClassifier(random_state=0)</pre><b>In a Jupyter environment, please rerun this cell to show the HTML representation or trust the notebook. <br />On GitHub, the HTML representation is unable to render, please try loading this page with nbviewer.org.</b></div><div class=\"sk-container\" hidden><div class=\"sk-item\"><div class=\"sk-estimator sk-toggleable\"><input class=\"sk-toggleable__control sk-hidden--visually\" id=\"sk-estimator-id-2\" type=\"checkbox\" checked><label for=\"sk-estimator-id-2\" class=\"sk-toggleable__label sk-toggleable__label-arrow\">DecisionTreeClassifier</label><div class=\"sk-toggleable__content\"><pre>DecisionTreeClassifier(random_state=0)</pre></div></div></div></div></div>"
      ],
      "text/plain": [
       "DecisionTreeClassifier(random_state=0)"
      ]
     },
     "execution_count": 61,
     "metadata": {},
     "output_type": "execute_result"
    }
   ],
   "source": [
    "health_classifier = DecisionTreeClassifier(random_state = 0)\n",
    "health_classifier.fit(X_train, y_train)"
   ]
  },
  {
   "cell_type": "code",
   "execution_count": 62,
   "id": "82c869a1-bb28-48ee-996f-52ab26ec0cbc",
   "metadata": {
    "id": "82c869a1-bb28-48ee-996f-52ab26ec0cbc",
    "outputId": "a38bc68b-7ea6-453c-a92c-84bf334afd77"
   },
   "outputs": [
    {
     "data": {
      "text/plain": [
       "sklearn.tree._classes.DecisionTreeClassifier"
      ]
     },
     "execution_count": 62,
     "metadata": {},
     "output_type": "execute_result"
    }
   ],
   "source": [
    "type(health_classifier)"
   ]
  },
  {
   "cell_type": "markdown",
   "id": "vULqmNvVF4q4",
   "metadata": {
    "id": "vULqmNvVF4q4"
   },
   "source": [
    "### **5. Model Evaluation**\n",
    "Evaluate the model's performance using metrics such as accuracy, precision, recall, and F1-score."
   ]
  },
  {
   "cell_type": "code",
   "execution_count": 63,
   "id": "lYjAaucHjeij",
   "metadata": {
    "id": "lYjAaucHjeij"
   },
   "outputs": [],
   "source": [
    "# Make predictions\n",
    "y_pred_array = health_classifier.predict(X_test)"
   ]
  },
  {
   "cell_type": "code",
   "execution_count": 64,
   "id": "68E1R0hGjee_",
   "metadata": {
    "id": "68E1R0hGjee_"
   },
   "outputs": [],
   "source": [
    "# Ensure y_test is a Pandas Series to access its index\n",
    "if isinstance(y_test, np.ndarray):\n",
    "    y_test = pd.Series(y_test)"
   ]
  },
  {
   "cell_type": "code",
   "execution_count": 65,
   "id": "UL0yIOXcjeYi",
   "metadata": {
    "id": "UL0yIOXcjeYi"
   },
   "outputs": [],
   "source": [
    "# Create DataFrame from the predictions\n",
    "y_pred = pd.DataFrame(y_pred_array, columns=[\"health_condition\"])"
   ]
  },
  {
   "cell_type": "code",
   "execution_count": 66,
   "id": "chg9gMVRjkH9",
   "metadata": {
    "id": "chg9gMVRjkH9"
   },
   "outputs": [],
   "source": [
    "# Set the index of the DataFrame to match y_test index\n",
    "y_pred.index = y_test.index"
   ]
  },
  {
   "cell_type": "code",
   "execution_count": 67,
   "id": "acb6ff0f-e48c-4184-9cd7-75281b5a5c9b",
   "metadata": {
    "id": "acb6ff0f-e48c-4184-9cd7-75281b5a5c9b"
   },
   "outputs": [],
   "source": [
    "# Ensure the data type is int\n",
    "y_pred = y_pred.astype(int)"
   ]
  },
  {
   "cell_type": "code",
   "execution_count": 68,
   "id": "rHo5wG80jpeR",
   "metadata": {
    "id": "rHo5wG80jpeR",
    "outputId": "1af26bdc-025b-44d1-bffc-c45a31690b8f"
   },
   "outputs": [
    {
     "name": "stdout",
     "output_type": "stream",
     "text": [
      "     health_condition\n",
      "0                   1\n",
      "1                   1\n",
      "2                   1\n",
      "3                   1\n",
      "4                   1\n",
      "..                ...\n",
      "166                 1\n",
      "167                 1\n",
      "168                 1\n",
      "169                 1\n",
      "170                 1\n",
      "\n",
      "[171 rows x 1 columns]\n"
     ]
    }
   ],
   "source": [
    "print(y_pred)"
   ]
  },
  {
   "cell_type": "code",
   "execution_count": 69,
   "id": "65aab513-c6cf-4489-96f9-7d750754233e",
   "metadata": {
    "id": "65aab513-c6cf-4489-96f9-7d750754233e"
   },
   "outputs": [],
   "source": [
    "y_test = np.array(y_test,dtype = int)"
   ]
  },
  {
   "cell_type": "code",
   "execution_count": 70,
   "id": "05ca175a-a41b-42c3-92bc-97375c6aab73",
   "metadata": {
    "id": "05ca175a-a41b-42c3-92bc-97375c6aab73",
    "outputId": "a8a8d78d-a60a-43c3-e47f-a639693c2581"
   },
   "outputs": [
    {
     "data": {
      "text/plain": [
       "numpy.ndarray"
      ]
     },
     "execution_count": 70,
     "metadata": {},
     "output_type": "execute_result"
    }
   ],
   "source": [
    "type(y_test)"
   ]
  },
  {
   "cell_type": "code",
   "execution_count": 71,
   "id": "c1e80c44-e162-4ca1-83a5-13f64b036b19",
   "metadata": {
    "id": "c1e80c44-e162-4ca1-83a5-13f64b036b19",
    "outputId": "dc82542c-f329-43da-ceb9-f250d80dc13b"
   },
   "outputs": [
    {
     "data": {
      "text/plain": [
       "array([1, 1, 1, 1, 1, 1, 1, 1, 1, 1, 1, 1, 1, 1, 1, 1, 1, 1, 1, 1, 1, 1,\n",
       "       1, 1, 1, 1, 1, 1, 1, 1, 1, 1, 1, 1, 1, 1, 1, 1, 1, 1, 1, 1, 1, 1,\n",
       "       1, 1, 1, 1, 1, 1, 1, 0, 1, 1, 1, 1, 1, 1, 1, 1, 1, 0, 1, 1, 1, 1,\n",
       "       1, 1, 1, 1, 1, 1, 1, 1, 1, 1, 1, 1, 1, 1, 1, 1, 1, 1, 1, 1, 1, 1,\n",
       "       1, 1, 1, 1, 1, 1, 1, 1, 1, 1, 1, 1, 1, 1, 1, 1, 1, 1, 1, 1, 1, 1,\n",
       "       1, 1, 1, 1, 1, 1, 1, 1, 1, 1, 1, 1, 1, 1, 1, 1, 1, 1, 1, 0, 1, 1,\n",
       "       1, 1, 1, 0, 1, 1, 1, 1, 1, 0, 1, 1, 1, 1, 1, 1, 1, 1, 1, 1, 1, 1,\n",
       "       1, 1, 1, 1, 1, 1, 1, 1, 1, 1, 1, 1, 1, 1, 1, 1, 1])"
      ]
     },
     "execution_count": 71,
     "metadata": {},
     "output_type": "execute_result"
    }
   ],
   "source": [
    "y_test"
   ]
  },
  {
   "cell_type": "code",
   "execution_count": 72,
   "id": "42c4582e-1a9e-4ca5-9133-d4ff0bc7ca92",
   "metadata": {
    "id": "42c4582e-1a9e-4ca5-9133-d4ff0bc7ca92",
    "outputId": "e89de9c1-c051-4a9f-b24f-878cfec381fb"
   },
   "outputs": [
    {
     "data": {
      "text/plain": [
       "0.9941520467836257"
      ]
     },
     "execution_count": 72,
     "metadata": {},
     "output_type": "execute_result"
    }
   ],
   "source": [
    "# Measure Accuracy\n",
    "metrics.accuracy_score(y_test,y_pred)"
   ]
  },
  {
   "cell_type": "code",
   "execution_count": 73,
   "id": "181bd3c2-6026-4092-ac0b-4a51c928d6b6",
   "metadata": {
    "id": "181bd3c2-6026-4092-ac0b-4a51c928d6b6",
    "outputId": "477ee0bb-907c-4371-cf85-a5400fe46ca9"
   },
   "outputs": [
    {
     "name": "stdout",
     "output_type": "stream",
     "text": [
      "              precision    recall  f1-score   support\n",
      "\n",
      "           0       0.83      1.00      0.91         5\n",
      "           1       1.00      0.99      1.00       166\n",
      "\n",
      "    accuracy                           0.99       171\n",
      "   macro avg       0.92      1.00      0.95       171\n",
      "weighted avg       1.00      0.99      0.99       171\n",
      "\n"
     ]
    }
   ],
   "source": [
    "print(metrics.classification_report(y_test, y_pred))"
   ]
  },
  {
   "cell_type": "markdown",
   "id": "566afdb7-c26f-46b0-9ae2-0e0ca73ef037",
   "metadata": {
    "id": "566afdb7-c26f-46b0-9ae2-0e0ca73ef037"
   },
   "source": [
    "### **6. Model Deployment**\n",
    "Save the trained model for future use and deploying it in real-world applications."
   ]
  },
  {
   "cell_type": "code",
   "execution_count": 74,
   "id": "2f755dff-26ee-407e-8c0b-2a3056d0c1cb",
   "metadata": {
    "id": "2f755dff-26ee-407e-8c0b-2a3056d0c1cb",
    "outputId": "5d97b85e-45af-46ee-82dc-0ee0fcfe0b96"
   },
   "outputs": [
    {
     "name": "stdout",
     "output_type": "stream",
     "text": [
      "#pragma once\n",
      "#include <cstdarg>\n",
      "namespace Eloquent {\n",
      "    namespace ML {\n",
      "        namespace Port {\n",
      "            class DecisionTree {\n",
      "                public:\n",
      "                    /**\n",
      "                    * Predict class for features vector\n",
      "                    */\n",
      "                    int predict(float *x) {\n",
      "                        if (x[1] <= 37.25) {\n",
      "                            if (x[2] <= 94.0) {\n",
      "                                return 1;\n",
      "                            }\n",
      "\n",
      "                            else {\n",
      "                                if (x[0] <= 100.0) {\n",
      "                                    if (x[1] <= 36.25) {\n",
      "                                        return 1;\n",
      "                                    }\n",
      "\n",
      "                                    else {\n",
      "                                        return 0;\n",
      "                                    }\n",
      "                                }\n",
      "\n",
      "                                else {\n",
      "                                    return 1;\n",
      "                                }\n",
      "                            }\n",
      "                        }\n",
      "\n",
      "                        else {\n",
      "                            return 1;\n",
      "                        }\n",
      "                    }\n",
      "\n",
      "                protected:\n",
      "                };\n",
      "            }\n",
      "        }\n",
      "    }\n"
     ]
    }
   ],
   "source": [
    "print(port(health_classifier))"
   ]
  },
  {
   "cell_type": "markdown",
   "id": "ScKF5VgskBQq",
   "metadata": {
    "id": "ScKF5VgskBQq"
   },
   "source": [
    "Now copy the above Decision Tree classifier code and save in any text file with name\n",
    "\n",
    "```\n",
    "DecisionTree.h\n",
    "```\n",
    "\n",
    "Then copy the below arduino code and save it named as\n",
    "\n",
    "```\n",
    "health_determining_model.ino\n",
    "```\n"
   ]
  },
  {
   "cell_type": "markdown",
   "id": "q_eDDNaljuW6",
   "metadata": {
    "id": "q_eDDNaljuW6"
   },
   "source": [
    "\n",
    "\n",
    "```\n",
    "#include <Wire.h>  \n",
    "#include \"MAX30100_PulseOximeter.h\" \n",
    "#include \"DecisionTree.h\"\n",
    "\n",
    "Eloquent::ML::Port::DecisionTree health_Classifier;\n",
    "\n",
    "#define TEMPERATURE_SENSOR_PIN 32  // Analog pin for the temperature sensor (replace with the actual pin number)\n",
    "#define HEART_RATE_SENSOR_PIN 35   // Analog pin for the heart rate sensor (replace with the actual pin number)\n",
    "\n",
    "// Initialize the PulseOximeter library\n",
    "PulseOximeter pox;\n",
    "\n",
    "// Variable Declaration\n",
    "float t;\n",
    "int h;\n",
    "int s;\n",
    "int prediction;\n",
    "\n",
    "void setup() {\n",
    "  Serial.begin(9600);\n",
    "  Serial.println(\"Welcome!\");\n",
    "\n",
    "  pinMode(TEMPERATURE_SENSOR_PIN, INPUT);  \n",
    "  pinMode(HEART_RATE_SENSOR_PIN, INPUT);   \n",
    "\n",
    "  // Initialize the Pulse Oximeter\n",
    "  if (!pox.begin()) {\n",
    "    Serial.println(\"Failed to initialize pulse oximeter!\");\n",
    "    while (1);\n",
    "  } else {\n",
    "    Serial.println(\"Pulse oximeter initialized successfully!\");\n",
    "  }\n",
    "}\n",
    "\n",
    "void loop() {\n",
    "  delay(2000);\n",
    "\n",
    "  // Sensor data Collection part\n",
    "\n",
    "  // Read temperature value\n",
    "  int temperatureValue = analogRead(TEMPERATURE_SENSOR_PIN);\n",
    "  t = convertToCelsius(temperatureValue);\n",
    "  Serial.print(\"Temperature (°C): \");\n",
    "  Serial.println(t);\n",
    "\n",
    "  // Read heart rate value\n",
    "  h = analogRead(HEART_RATE_SENSOR_PIN);\n",
    "  Serial.print(\"Heart Rate (bpm): \");\n",
    "  Serial.println(h);\n",
    "\n",
    "  // Read SpO2 value\n",
    "  int s = pox.getSpO2();\n",
    "  Serial.print(\"SpO2 (%): \");\n",
    "  Serial.println(s);\n",
    "\n",
    "  // Print values of heart_rate, temperature, and SpO2_saturation to serial monitor\n",
    "  Serial.print(F(\"Heart_rate: \"));\n",
    "  Serial.print(h);\n",
    "  Serial.print(F(\"  Temperature: \"));\n",
    "  Serial.print(t);\n",
    "  Serial.print(F(\"  SpO2: \"));\n",
    "  Serial.println(s);\n",
    "\n",
    "  float input[3] = {h, t, s};\n",
    "  // Giving input values to predict Function\n",
    "  int prediction = health_Classifier.predict(input);\n",
    "\n",
    "  // Checking Condition\n",
    "  Serial.print(\"Prediction: \");\n",
    "  switch (prediction) {\n",
    "    case 0:\n",
    "      Serial.println(\"Normal\");\n",
    "      break;\n",
    "    case 1:\n",
    "      Serial.println(\"Serious\");\n",
    "      break;\n",
    "    case 2:\n",
    "      Serial.println(\"Dischargeable\");\n",
    "      break;\n",
    "    default:\n",
    "      Serial.println(\"Unknown\");\n",
    "      break;\n",
    "  }\n",
    "\n",
    "  Serial.println();\n",
    "  delay(1000);\n",
    "}\n",
    "\n",
    "float convertToCelsius(int adcValue) {\n",
    "  float voltage = adcValue * 3.3 / 4095.0;  // Convert ADC value to voltage for ESP32\n",
    "  float temperatureCelsius = (voltage - 0.5) * 100;  // Convert voltage to temperature in Celsius\n",
    "  return temperatureCelsius;\n",
    "}\n",
    "\n",
    "\n",
    "```\n",
    "\n"
   ]
  },
  {
   "cell_type": "code",
   "execution_count": null,
   "id": "3ab7a75f-a119-40b0-a116-4c8e8a7d9d44",
   "metadata": {
    "colab": {
     "base_uri": "https://localhost:8080/",
     "height": 386
    },
    "executionInfo": {
     "elapsed": 9,
     "status": "error",
     "timestamp": 1718088026077,
     "user": {
      "displayName": "PRATIK NEMANE",
      "userId": "11241874782334487163"
     },
     "user_tz": -330
    },
    "id": "3ab7a75f-a119-40b0-a116-4c8e8a7d9d44",
    "outputId": "fcc205c8-214b-493b-ab55-ae4780b08511"
   },
   "outputs": [],
   "source": [
    "import serial\n",
    "import time\n",
    "\n",
    "# Replace 'COM10' with the appropriate serial port for your system\n",
    "SERIAL_PORT = 'COM13'\n",
    "BAUD_RATE = 9600  # the baud rate set on your ESP32\n",
    "\n",
    "def read_from_esp32():\n",
    "    # Open the serial connection\n",
    "    with serial.Serial(SERIAL_PORT, BAUD_RATE, timeout=1) as ser:\n",
    "        # Give some time for the serial connection to establish\n",
    "        time.sleep(2)\n",
    "\n",
    "        # Clear any existing input in the buffer\n",
    "        ser.flushInput()\n",
    "\n",
    "        try:\n",
    "            while True:\n",
    "                # Read data from the ESP32\n",
    "                if ser.in_waiting > 0:\n",
    "                    line = ser.readline().decode('utf-8').rstrip()\n",
    "                    print(f\"{line}\")\n",
    "                time.sleep(0.1)\n",
    "\n",
    "        except KeyboardInterrupt:\n",
    "            print(\"Serial read stopped.\")\n",
    "\n",
    "if __name__ == \"__main__\":\n",
    "    read_from_esp32()\n"
   ]
  },
  {
   "cell_type": "markdown",
   "id": "ecTNmC1xmal_",
   "metadata": {
    "id": "ecTNmC1xmal_"
   },
   "source": [
    "Now move these both files in same folder then open the \"health_determining_model.ino\" file in your arduino IDE and upload the code to your Esp32 microcontroller.\n",
    "\n",
    "Before uploading the code to the board, do verify that the \"DecisionTree.h\" file is also opened in the same arduino IDE beside the .ino file.\n",
    "\n",
    "If any error occurs then open the \"DecisionTree.h\" file and comment the line containing this code\n",
    "\n",
    "```\n",
    "#include <cstdarg> // comment this line\n",
    "```\n",
    "\n",
    "\n"
   ]
  },
  {
   "cell_type": "markdown",
   "id": "8d2d1a42-aca1-4369-867d-8203479aad9b",
   "metadata": {
    "id": "8d2d1a42-aca1-4369-867d-8203479aad9b"
   },
   "source": [
    "# Happy Learning"
   ]
  }
 ],
 "metadata": {
  "colab": {
   "provenance": []
  },
  "kernelspec": {
   "display_name": "Python 3 (ipykernel)",
   "language": "python",
   "name": "python3"
  },
  "language_info": {
   "codemirror_mode": {
    "name": "ipython",
    "version": 3
   },
   "file_extension": ".py",
   "mimetype": "text/x-python",
   "name": "python",
   "nbconvert_exporter": "python",
   "pygments_lexer": "ipython3",
   "version": "3.12.4"
  }
 },
 "nbformat": 4,
 "nbformat_minor": 5
}
