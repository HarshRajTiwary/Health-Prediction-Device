{
  "cells": [
    {
      "cell_type": "markdown",
      "id": "hrPMSSu2taoh",
      "metadata": {
        "id": "hrPMSSu2taoh"
      },
      "source": [
        "# **Introduction to Machine Learning with Jupyter Notebooks**\n",
        "Welcome to the world of Machine Learning. This instructional materials will guide you to learn machine learning using Jupyter Notebook."
      ]
    },
    {
      "cell_type": "markdown",
      "id": "hmsg3MWmvNjq",
      "metadata": {
        "id": "hmsg3MWmvNjq",
        "jp-MarkdownHeadingCollapsed": true
      },
      "source": [
        "## **Getting Started**\n",
        "### **1. Setting Up Your Environment**\n",
        "Before we go deep into machine learning, you'll need to set up your environment.\n",
        "follow these steps to set up your environment.\n",
        "\n",
        "**Install Jupyter Notebook**:\n",
        "\n",
        "Install the classic Jupyter Notebook by writting the below command in your terminal:\n",
        "\n",
        "`pip install notebook`\n",
        "\n",
        "### **2. Launching Jupyter Notebook**\n",
        "\n",
        "To run the notebook:\n",
        "\n",
        "`jupyter notebook`\n",
        "\n",
        "or if this doesnt work, write this insteade.\n",
        "\n",
        "`python -m notebook`"
      ]
    },
    {
      "cell_type": "markdown",
      "id": "1z9COW_-v4_2",
      "metadata": {
        "id": "1z9COW_-v4_2",
        "jp-MarkdownHeadingCollapsed": true
      },
      "source": [
        "## **Basics of Machain Learning (ML)**\n",
        "### **What is Machine Learning?**\n",
        "It is a subset of Artificial Inteligence (AI). It focuses on making a model capable of learning from data to make predictions or decisions.\n",
        "\n",
        "### **Types of Machaine Learning:**\n",
        "1. *Supervised Learning*: Learning from labeled data (e.g., classification, regression).\n",
        "2. *Unsupervised Learning*: Finding patterns in unlabeled data (e.g., clustering, dimensionality reduction).\n",
        "3. *Reinforcement Learning*: Learning through rewards and punishments."
      ]
    },
    {
      "cell_type": "markdown",
      "id": "07hppMV2tpwd",
      "metadata": {
        "id": "07hppMV2tpwd"
      },
      "source": [
        "## **Building your first ML Model**"
      ]
    },
    {
      "cell_type": "markdown",
      "id": "wUZ2m_AbAsvg",
      "metadata": {
        "id": "wUZ2m_AbAsvg"
      },
      "source": [
        "**Task**: Predicting Patient Health using TensorFlow and Jupyter Notebook."
      ]
    },
    {
      "cell_type": "markdown",
      "id": "Vm2gWCn5C-0l",
      "metadata": {
        "id": "Vm2gWCn5C-0l"
      },
      "source": [
        "**Objective**:\n",
        "Develop instructional materials for students to learn machine learning using Jupyter Notebook and other ML tools.The aim is to accurately predict patient health conditions(normal,serious,dischargeable) based on temperature, pulse, and blood cell counts.\n"
      ]
    },
    {
      "cell_type": "markdown",
      "id": "IBzg9QTEDEeI",
      "metadata": {
        "id": "IBzg9QTEDEeI"
      },
      "source": [
        "**Tools and Technologies**:\n",
        "\n",
        "**1**.\tJupyter Notebook: For data preprocessing, model development, and training.\n",
        "\n",
        "**2**.\tProgramming Language: Python - Widely used for its simplicity, extensive libraries, and ecosystem support.\n",
        "\n"
      ]
    },
    {
      "cell_type": "markdown",
      "id": "lVtdjpVNDQdj",
      "metadata": {
        "id": "lVtdjpVNDQdj"
      },
      "source": [
        "## **Task Steps:**"
      ]
    },
    {
      "cell_type": "markdown",
      "id": "GmqCkoG9Juf5",
      "metadata": {
        "id": "GmqCkoG9Juf5"
      },
      "source": [
        "### **1. Import libraries:**\n",
        "We will import the necessary libraries first"
      ]
    },
    {
      "cell_type": "code",
      "source": [
        "!pip install tensorflow"
      ],
      "metadata": {
        "colab": {
          "base_uri": "https://localhost:8080/"
        },
        "id": "Q7RqE9YyhCHG",
        "outputId": "d56d3890-6196-4d84-8d9a-354d4541b409"
      },
      "id": "Q7RqE9YyhCHG",
      "execution_count": 1,
      "outputs": [
        {
          "output_type": "stream",
          "name": "stdout",
          "text": [
            "Requirement already satisfied: tensorflow in /usr/local/lib/python3.10/dist-packages (2.15.0)\n",
            "Requirement already satisfied: absl-py>=1.0.0 in /usr/local/lib/python3.10/dist-packages (from tensorflow) (1.4.0)\n",
            "Requirement already satisfied: astunparse>=1.6.0 in /usr/local/lib/python3.10/dist-packages (from tensorflow) (1.6.3)\n",
            "Requirement already satisfied: flatbuffers>=23.5.26 in /usr/local/lib/python3.10/dist-packages (from tensorflow) (24.3.25)\n",
            "Requirement already satisfied: gast!=0.5.0,!=0.5.1,!=0.5.2,>=0.2.1 in /usr/local/lib/python3.10/dist-packages (from tensorflow) (0.6.0)\n",
            "Requirement already satisfied: google-pasta>=0.1.1 in /usr/local/lib/python3.10/dist-packages (from tensorflow) (0.2.0)\n",
            "Requirement already satisfied: h5py>=2.9.0 in /usr/local/lib/python3.10/dist-packages (from tensorflow) (3.9.0)\n",
            "Requirement already satisfied: libclang>=13.0.0 in /usr/local/lib/python3.10/dist-packages (from tensorflow) (18.1.1)\n",
            "Requirement already satisfied: ml-dtypes~=0.2.0 in /usr/local/lib/python3.10/dist-packages (from tensorflow) (0.2.0)\n",
            "Requirement already satisfied: numpy<2.0.0,>=1.23.5 in /usr/local/lib/python3.10/dist-packages (from tensorflow) (1.25.2)\n",
            "Requirement already satisfied: opt-einsum>=2.3.2 in /usr/local/lib/python3.10/dist-packages (from tensorflow) (3.3.0)\n",
            "Requirement already satisfied: packaging in /usr/local/lib/python3.10/dist-packages (from tensorflow) (24.1)\n",
            "Requirement already satisfied: protobuf!=4.21.0,!=4.21.1,!=4.21.2,!=4.21.3,!=4.21.4,!=4.21.5,<5.0.0dev,>=3.20.3 in /usr/local/lib/python3.10/dist-packages (from tensorflow) (3.20.3)\n",
            "Requirement already satisfied: setuptools in /usr/local/lib/python3.10/dist-packages (from tensorflow) (67.7.2)\n",
            "Requirement already satisfied: six>=1.12.0 in /usr/local/lib/python3.10/dist-packages (from tensorflow) (1.16.0)\n",
            "Requirement already satisfied: termcolor>=1.1.0 in /usr/local/lib/python3.10/dist-packages (from tensorflow) (2.4.0)\n",
            "Requirement already satisfied: typing-extensions>=3.6.6 in /usr/local/lib/python3.10/dist-packages (from tensorflow) (4.12.2)\n",
            "Requirement already satisfied: wrapt<1.15,>=1.11.0 in /usr/local/lib/python3.10/dist-packages (from tensorflow) (1.14.1)\n",
            "Requirement already satisfied: tensorflow-io-gcs-filesystem>=0.23.1 in /usr/local/lib/python3.10/dist-packages (from tensorflow) (0.37.1)\n",
            "Requirement already satisfied: grpcio<2.0,>=1.24.3 in /usr/local/lib/python3.10/dist-packages (from tensorflow) (1.64.1)\n",
            "Requirement already satisfied: tensorboard<2.16,>=2.15 in /usr/local/lib/python3.10/dist-packages (from tensorflow) (2.15.2)\n",
            "Requirement already satisfied: tensorflow-estimator<2.16,>=2.15.0 in /usr/local/lib/python3.10/dist-packages (from tensorflow) (2.15.0)\n",
            "Requirement already satisfied: keras<2.16,>=2.15.0 in /usr/local/lib/python3.10/dist-packages (from tensorflow) (2.15.0)\n",
            "Requirement already satisfied: wheel<1.0,>=0.23.0 in /usr/local/lib/python3.10/dist-packages (from astunparse>=1.6.0->tensorflow) (0.43.0)\n",
            "Requirement already satisfied: google-auth<3,>=1.6.3 in /usr/local/lib/python3.10/dist-packages (from tensorboard<2.16,>=2.15->tensorflow) (2.27.0)\n",
            "Requirement already satisfied: google-auth-oauthlib<2,>=0.5 in /usr/local/lib/python3.10/dist-packages (from tensorboard<2.16,>=2.15->tensorflow) (1.2.1)\n",
            "Requirement already satisfied: markdown>=2.6.8 in /usr/local/lib/python3.10/dist-packages (from tensorboard<2.16,>=2.15->tensorflow) (3.6)\n",
            "Requirement already satisfied: requests<3,>=2.21.0 in /usr/local/lib/python3.10/dist-packages (from tensorboard<2.16,>=2.15->tensorflow) (2.31.0)\n",
            "Requirement already satisfied: tensorboard-data-server<0.8.0,>=0.7.0 in /usr/local/lib/python3.10/dist-packages (from tensorboard<2.16,>=2.15->tensorflow) (0.7.2)\n",
            "Requirement already satisfied: werkzeug>=1.0.1 in /usr/local/lib/python3.10/dist-packages (from tensorboard<2.16,>=2.15->tensorflow) (3.0.3)\n",
            "Requirement already satisfied: cachetools<6.0,>=2.0.0 in /usr/local/lib/python3.10/dist-packages (from google-auth<3,>=1.6.3->tensorboard<2.16,>=2.15->tensorflow) (5.4.0)\n",
            "Requirement already satisfied: pyasn1-modules>=0.2.1 in /usr/local/lib/python3.10/dist-packages (from google-auth<3,>=1.6.3->tensorboard<2.16,>=2.15->tensorflow) (0.4.0)\n",
            "Requirement already satisfied: rsa<5,>=3.1.4 in /usr/local/lib/python3.10/dist-packages (from google-auth<3,>=1.6.3->tensorboard<2.16,>=2.15->tensorflow) (4.9)\n",
            "Requirement already satisfied: requests-oauthlib>=0.7.0 in /usr/local/lib/python3.10/dist-packages (from google-auth-oauthlib<2,>=0.5->tensorboard<2.16,>=2.15->tensorflow) (1.3.1)\n",
            "Requirement already satisfied: charset-normalizer<4,>=2 in /usr/local/lib/python3.10/dist-packages (from requests<3,>=2.21.0->tensorboard<2.16,>=2.15->tensorflow) (3.3.2)\n",
            "Requirement already satisfied: idna<4,>=2.5 in /usr/local/lib/python3.10/dist-packages (from requests<3,>=2.21.0->tensorboard<2.16,>=2.15->tensorflow) (3.7)\n",
            "Requirement already satisfied: urllib3<3,>=1.21.1 in /usr/local/lib/python3.10/dist-packages (from requests<3,>=2.21.0->tensorboard<2.16,>=2.15->tensorflow) (2.0.7)\n",
            "Requirement already satisfied: certifi>=2017.4.17 in /usr/local/lib/python3.10/dist-packages (from requests<3,>=2.21.0->tensorboard<2.16,>=2.15->tensorflow) (2024.7.4)\n",
            "Requirement already satisfied: MarkupSafe>=2.1.1 in /usr/local/lib/python3.10/dist-packages (from werkzeug>=1.0.1->tensorboard<2.16,>=2.15->tensorflow) (2.1.5)\n",
            "Requirement already satisfied: pyasn1<0.7.0,>=0.4.6 in /usr/local/lib/python3.10/dist-packages (from pyasn1-modules>=0.2.1->google-auth<3,>=1.6.3->tensorboard<2.16,>=2.15->tensorflow) (0.6.0)\n",
            "Requirement already satisfied: oauthlib>=3.0.0 in /usr/local/lib/python3.10/dist-packages (from requests-oauthlib>=0.7.0->google-auth-oauthlib<2,>=0.5->tensorboard<2.16,>=2.15->tensorflow) (3.2.2)\n"
          ]
        }
      ]
    },
    {
      "cell_type": "code",
      "execution_count": 2,
      "id": "cxf2RSmXJhoG",
      "metadata": {
        "id": "cxf2RSmXJhoG"
      },
      "outputs": [],
      "source": [
        "import pandas as pd     # for data acquisition\n",
        "import numpy as np      # for data processing\n",
        "import tensorflow as tf # for making the model"
      ]
    },
    {
      "cell_type": "code",
      "source": [
        "!pip install micromlgen"
      ],
      "metadata": {
        "colab": {
          "base_uri": "https://localhost:8080/"
        },
        "id": "H-aQmCZePpJ2",
        "outputId": "683cc68e-a0a8-421b-9e6e-8025ec97bad5"
      },
      "id": "H-aQmCZePpJ2",
      "execution_count": 3,
      "outputs": [
        {
          "output_type": "stream",
          "name": "stdout",
          "text": [
            "Collecting micromlgen\n",
            "  Downloading micromlgen-1.1.28.tar.gz (12 kB)\n",
            "  Preparing metadata (setup.py) ... \u001b[?25l\u001b[?25hdone\n",
            "Requirement already satisfied: jinja2 in /usr/local/lib/python3.10/dist-packages (from micromlgen) (3.1.4)\n",
            "Requirement already satisfied: MarkupSafe>=2.0 in /usr/local/lib/python3.10/dist-packages (from jinja2->micromlgen) (2.1.5)\n",
            "Building wheels for collected packages: micromlgen\n",
            "  Building wheel for micromlgen (setup.py) ... \u001b[?25l\u001b[?25hdone\n",
            "  Created wheel for micromlgen: filename=micromlgen-1.1.28-py3-none-any.whl size=32152 sha256=9ce3a2a097a57d2f0f38c24cf9877cca0def9b1a05c4c5c810a454ee76abfce9\n",
            "  Stored in directory: /root/.cache/pip/wheels/97/54/64/5d82c310920abe1be0d120313ceb9e12c88f5701f53f6ed248\n",
            "Successfully built micromlgen\n",
            "Installing collected packages: micromlgen\n",
            "Successfully installed micromlgen-1.1.28\n"
          ]
        }
      ]
    },
    {
      "cell_type": "code",
      "source": [
        "!pip install skicit-learn"
      ],
      "metadata": {
        "colab": {
          "base_uri": "https://localhost:8080/"
        },
        "id": "t3SeRL0zhJip",
        "outputId": "086dcab5-49be-4a9a-ce8f-fee19df396fe"
      },
      "id": "t3SeRL0zhJip",
      "execution_count": 4,
      "outputs": [
        {
          "output_type": "stream",
          "name": "stdout",
          "text": [
            "\u001b[31mERROR: Could not find a version that satisfies the requirement skicit-learn (from versions: none)\u001b[0m\u001b[31m\n",
            "\u001b[0m\u001b[31mERROR: No matching distribution found for skicit-learn\u001b[0m\u001b[31m\n",
            "\u001b[0m"
          ]
        }
      ]
    },
    {
      "cell_type": "code",
      "source": [
        "!pip install seaborn"
      ],
      "metadata": {
        "colab": {
          "base_uri": "https://localhost:8080/"
        },
        "id": "OmG7VbdyhFku",
        "outputId": "20ab456f-fa95-4b62-a0f7-4bb3db1d61d8"
      },
      "id": "OmG7VbdyhFku",
      "execution_count": 5,
      "outputs": [
        {
          "output_type": "stream",
          "name": "stdout",
          "text": [
            "Requirement already satisfied: seaborn in /usr/local/lib/python3.10/dist-packages (0.13.1)\n",
            "Requirement already satisfied: numpy!=1.24.0,>=1.20 in /usr/local/lib/python3.10/dist-packages (from seaborn) (1.25.2)\n",
            "Requirement already satisfied: pandas>=1.2 in /usr/local/lib/python3.10/dist-packages (from seaborn) (2.0.3)\n",
            "Requirement already satisfied: matplotlib!=3.6.1,>=3.4 in /usr/local/lib/python3.10/dist-packages (from seaborn) (3.7.1)\n",
            "Requirement already satisfied: contourpy>=1.0.1 in /usr/local/lib/python3.10/dist-packages (from matplotlib!=3.6.1,>=3.4->seaborn) (1.2.1)\n",
            "Requirement already satisfied: cycler>=0.10 in /usr/local/lib/python3.10/dist-packages (from matplotlib!=3.6.1,>=3.4->seaborn) (0.12.1)\n",
            "Requirement already satisfied: fonttools>=4.22.0 in /usr/local/lib/python3.10/dist-packages (from matplotlib!=3.6.1,>=3.4->seaborn) (4.53.1)\n",
            "Requirement already satisfied: kiwisolver>=1.0.1 in /usr/local/lib/python3.10/dist-packages (from matplotlib!=3.6.1,>=3.4->seaborn) (1.4.5)\n",
            "Requirement already satisfied: packaging>=20.0 in /usr/local/lib/python3.10/dist-packages (from matplotlib!=3.6.1,>=3.4->seaborn) (24.1)\n",
            "Requirement already satisfied: pillow>=6.2.0 in /usr/local/lib/python3.10/dist-packages (from matplotlib!=3.6.1,>=3.4->seaborn) (9.4.0)\n",
            "Requirement already satisfied: pyparsing>=2.3.1 in /usr/local/lib/python3.10/dist-packages (from matplotlib!=3.6.1,>=3.4->seaborn) (3.1.2)\n",
            "Requirement already satisfied: python-dateutil>=2.7 in /usr/local/lib/python3.10/dist-packages (from matplotlib!=3.6.1,>=3.4->seaborn) (2.8.2)\n",
            "Requirement already satisfied: pytz>=2020.1 in /usr/local/lib/python3.10/dist-packages (from pandas>=1.2->seaborn) (2023.4)\n",
            "Requirement already satisfied: tzdata>=2022.1 in /usr/local/lib/python3.10/dist-packages (from pandas>=1.2->seaborn) (2024.1)\n",
            "Requirement already satisfied: six>=1.5 in /usr/local/lib/python3.10/dist-packages (from python-dateutil>=2.7->matplotlib!=3.6.1,>=3.4->seaborn) (1.16.0)\n"
          ]
        }
      ]
    },
    {
      "cell_type": "code",
      "execution_count": 6,
      "id": "966398fd-64a6-4e87-a59f-7f7efe754613",
      "metadata": {
        "id": "966398fd-64a6-4e87-a59f-7f7efe754613"
      },
      "outputs": [],
      "source": [
        "from sklearn.model_selection import train_test_split\n",
        "from sklearn.tree import DecisionTreeClassifier\n",
        "from micromlgen import port\n",
        "from sklearn import metrics\n",
        "import seaborn as sns\n",
        "import warnings\n",
        "warnings.filterwarnings('ignore')"
      ]
    },
    {
      "cell_type": "markdown",
      "id": "da6EwHUXBLr2",
      "metadata": {
        "id": "da6EwHUXBLr2"
      },
      "source": [
        "### **2. Dataset Acquisition:**\n",
        "We will use the provided medical dataset for this project.\n"
      ]
    },
    {
      "cell_type": "code",
      "execution_count": 7,
      "id": "26760d37-0b57-41dc-888b-4f96562a4296",
      "metadata": {
        "id": "26760d37-0b57-41dc-888b-4f96562a4296"
      },
      "outputs": [],
      "source": [
        "data = pd.read_csv('dataset.csv')  # Load the dataset"
      ]
    },
    {
      "cell_type": "code",
      "execution_count": 8,
      "id": "b2mNI5xxLvSF",
      "metadata": {
        "id": "b2mNI5xxLvSF",
        "outputId": "c944a617-f7f0-445f-ff5f-2bd2eb6352c6",
        "colab": {
          "base_uri": "https://localhost:8080/",
          "height": 206
        }
      },
      "outputs": [
        {
          "output_type": "execute_result",
          "data": {
            "text/plain": [
              "    id  gender   age  heart_rate  temperature  SpO2_saturation   bpm  \\\n",
              "0  1.0    male  66.0        70.0         38.6             88.0  75.0   \n",
              "1  2.0  female  56.0        74.0         39.6             88.0  70.0   \n",
              "2  3.0    male  46.0        82.0         37.2             98.0  83.0   \n",
              "3  4.0  female  60.0        90.0         38.6             98.0  75.0   \n",
              "4  5.0    male  58.0        72.0         39.6             93.0  78.0   \n",
              "\n",
              "  Health_status  \n",
              "0      Infected  \n",
              "1      Infected  \n",
              "2  Non Infected  \n",
              "3  Non Infected  \n",
              "4      Infected  "
            ],
            "text/html": [
              "\n",
              "  <div id=\"df-7d7badb4-3045-4d15-827c-5fe2e4d99515\" class=\"colab-df-container\">\n",
              "    <div>\n",
              "<style scoped>\n",
              "    .dataframe tbody tr th:only-of-type {\n",
              "        vertical-align: middle;\n",
              "    }\n",
              "\n",
              "    .dataframe tbody tr th {\n",
              "        vertical-align: top;\n",
              "    }\n",
              "\n",
              "    .dataframe thead th {\n",
              "        text-align: right;\n",
              "    }\n",
              "</style>\n",
              "<table border=\"1\" class=\"dataframe\">\n",
              "  <thead>\n",
              "    <tr style=\"text-align: right;\">\n",
              "      <th></th>\n",
              "      <th>id</th>\n",
              "      <th>gender</th>\n",
              "      <th>age</th>\n",
              "      <th>heart_rate</th>\n",
              "      <th>temperature</th>\n",
              "      <th>SpO2_saturation</th>\n",
              "      <th>bpm</th>\n",
              "      <th>Health_status</th>\n",
              "    </tr>\n",
              "  </thead>\n",
              "  <tbody>\n",
              "    <tr>\n",
              "      <th>0</th>\n",
              "      <td>1.0</td>\n",
              "      <td>male</td>\n",
              "      <td>66.0</td>\n",
              "      <td>70.0</td>\n",
              "      <td>38.6</td>\n",
              "      <td>88.0</td>\n",
              "      <td>75.0</td>\n",
              "      <td>Infected</td>\n",
              "    </tr>\n",
              "    <tr>\n",
              "      <th>1</th>\n",
              "      <td>2.0</td>\n",
              "      <td>female</td>\n",
              "      <td>56.0</td>\n",
              "      <td>74.0</td>\n",
              "      <td>39.6</td>\n",
              "      <td>88.0</td>\n",
              "      <td>70.0</td>\n",
              "      <td>Infected</td>\n",
              "    </tr>\n",
              "    <tr>\n",
              "      <th>2</th>\n",
              "      <td>3.0</td>\n",
              "      <td>male</td>\n",
              "      <td>46.0</td>\n",
              "      <td>82.0</td>\n",
              "      <td>37.2</td>\n",
              "      <td>98.0</td>\n",
              "      <td>83.0</td>\n",
              "      <td>Non Infected</td>\n",
              "    </tr>\n",
              "    <tr>\n",
              "      <th>3</th>\n",
              "      <td>4.0</td>\n",
              "      <td>female</td>\n",
              "      <td>60.0</td>\n",
              "      <td>90.0</td>\n",
              "      <td>38.6</td>\n",
              "      <td>98.0</td>\n",
              "      <td>75.0</td>\n",
              "      <td>Non Infected</td>\n",
              "    </tr>\n",
              "    <tr>\n",
              "      <th>4</th>\n",
              "      <td>5.0</td>\n",
              "      <td>male</td>\n",
              "      <td>58.0</td>\n",
              "      <td>72.0</td>\n",
              "      <td>39.6</td>\n",
              "      <td>93.0</td>\n",
              "      <td>78.0</td>\n",
              "      <td>Infected</td>\n",
              "    </tr>\n",
              "  </tbody>\n",
              "</table>\n",
              "</div>\n",
              "    <div class=\"colab-df-buttons\">\n",
              "\n",
              "  <div class=\"colab-df-container\">\n",
              "    <button class=\"colab-df-convert\" onclick=\"convertToInteractive('df-7d7badb4-3045-4d15-827c-5fe2e4d99515')\"\n",
              "            title=\"Convert this dataframe to an interactive table.\"\n",
              "            style=\"display:none;\">\n",
              "\n",
              "  <svg xmlns=\"http://www.w3.org/2000/svg\" height=\"24px\" viewBox=\"0 -960 960 960\">\n",
              "    <path d=\"M120-120v-720h720v720H120Zm60-500h600v-160H180v160Zm220 220h160v-160H400v160Zm0 220h160v-160H400v160ZM180-400h160v-160H180v160Zm440 0h160v-160H620v160ZM180-180h160v-160H180v160Zm440 0h160v-160H620v160Z\"/>\n",
              "  </svg>\n",
              "    </button>\n",
              "\n",
              "  <style>\n",
              "    .colab-df-container {\n",
              "      display:flex;\n",
              "      gap: 12px;\n",
              "    }\n",
              "\n",
              "    .colab-df-convert {\n",
              "      background-color: #E8F0FE;\n",
              "      border: none;\n",
              "      border-radius: 50%;\n",
              "      cursor: pointer;\n",
              "      display: none;\n",
              "      fill: #1967D2;\n",
              "      height: 32px;\n",
              "      padding: 0 0 0 0;\n",
              "      width: 32px;\n",
              "    }\n",
              "\n",
              "    .colab-df-convert:hover {\n",
              "      background-color: #E2EBFA;\n",
              "      box-shadow: 0px 1px 2px rgba(60, 64, 67, 0.3), 0px 1px 3px 1px rgba(60, 64, 67, 0.15);\n",
              "      fill: #174EA6;\n",
              "    }\n",
              "\n",
              "    .colab-df-buttons div {\n",
              "      margin-bottom: 4px;\n",
              "    }\n",
              "\n",
              "    [theme=dark] .colab-df-convert {\n",
              "      background-color: #3B4455;\n",
              "      fill: #D2E3FC;\n",
              "    }\n",
              "\n",
              "    [theme=dark] .colab-df-convert:hover {\n",
              "      background-color: #434B5C;\n",
              "      box-shadow: 0px 1px 3px 1px rgba(0, 0, 0, 0.15);\n",
              "      filter: drop-shadow(0px 1px 2px rgba(0, 0, 0, 0.3));\n",
              "      fill: #FFFFFF;\n",
              "    }\n",
              "  </style>\n",
              "\n",
              "    <script>\n",
              "      const buttonEl =\n",
              "        document.querySelector('#df-7d7badb4-3045-4d15-827c-5fe2e4d99515 button.colab-df-convert');\n",
              "      buttonEl.style.display =\n",
              "        google.colab.kernel.accessAllowed ? 'block' : 'none';\n",
              "\n",
              "      async function convertToInteractive(key) {\n",
              "        const element = document.querySelector('#df-7d7badb4-3045-4d15-827c-5fe2e4d99515');\n",
              "        const dataTable =\n",
              "          await google.colab.kernel.invokeFunction('convertToInteractive',\n",
              "                                                    [key], {});\n",
              "        if (!dataTable) return;\n",
              "\n",
              "        const docLinkHtml = 'Like what you see? Visit the ' +\n",
              "          '<a target=\"_blank\" href=https://colab.research.google.com/notebooks/data_table.ipynb>data table notebook</a>'\n",
              "          + ' to learn more about interactive tables.';\n",
              "        element.innerHTML = '';\n",
              "        dataTable['output_type'] = 'display_data';\n",
              "        await google.colab.output.renderOutput(dataTable, element);\n",
              "        const docLink = document.createElement('div');\n",
              "        docLink.innerHTML = docLinkHtml;\n",
              "        element.appendChild(docLink);\n",
              "      }\n",
              "    </script>\n",
              "  </div>\n",
              "\n",
              "\n",
              "<div id=\"df-ae65d3e7-7d07-4ff3-b3bd-1f9fe63a7099\">\n",
              "  <button class=\"colab-df-quickchart\" onclick=\"quickchart('df-ae65d3e7-7d07-4ff3-b3bd-1f9fe63a7099')\"\n",
              "            title=\"Suggest charts\"\n",
              "            style=\"display:none;\">\n",
              "\n",
              "<svg xmlns=\"http://www.w3.org/2000/svg\" height=\"24px\"viewBox=\"0 0 24 24\"\n",
              "     width=\"24px\">\n",
              "    <g>\n",
              "        <path d=\"M19 3H5c-1.1 0-2 .9-2 2v14c0 1.1.9 2 2 2h14c1.1 0 2-.9 2-2V5c0-1.1-.9-2-2-2zM9 17H7v-7h2v7zm4 0h-2V7h2v10zm4 0h-2v-4h2v4z\"/>\n",
              "    </g>\n",
              "</svg>\n",
              "  </button>\n",
              "\n",
              "<style>\n",
              "  .colab-df-quickchart {\n",
              "      --bg-color: #E8F0FE;\n",
              "      --fill-color: #1967D2;\n",
              "      --hover-bg-color: #E2EBFA;\n",
              "      --hover-fill-color: #174EA6;\n",
              "      --disabled-fill-color: #AAA;\n",
              "      --disabled-bg-color: #DDD;\n",
              "  }\n",
              "\n",
              "  [theme=dark] .colab-df-quickchart {\n",
              "      --bg-color: #3B4455;\n",
              "      --fill-color: #D2E3FC;\n",
              "      --hover-bg-color: #434B5C;\n",
              "      --hover-fill-color: #FFFFFF;\n",
              "      --disabled-bg-color: #3B4455;\n",
              "      --disabled-fill-color: #666;\n",
              "  }\n",
              "\n",
              "  .colab-df-quickchart {\n",
              "    background-color: var(--bg-color);\n",
              "    border: none;\n",
              "    border-radius: 50%;\n",
              "    cursor: pointer;\n",
              "    display: none;\n",
              "    fill: var(--fill-color);\n",
              "    height: 32px;\n",
              "    padding: 0;\n",
              "    width: 32px;\n",
              "  }\n",
              "\n",
              "  .colab-df-quickchart:hover {\n",
              "    background-color: var(--hover-bg-color);\n",
              "    box-shadow: 0 1px 2px rgba(60, 64, 67, 0.3), 0 1px 3px 1px rgba(60, 64, 67, 0.15);\n",
              "    fill: var(--button-hover-fill-color);\n",
              "  }\n",
              "\n",
              "  .colab-df-quickchart-complete:disabled,\n",
              "  .colab-df-quickchart-complete:disabled:hover {\n",
              "    background-color: var(--disabled-bg-color);\n",
              "    fill: var(--disabled-fill-color);\n",
              "    box-shadow: none;\n",
              "  }\n",
              "\n",
              "  .colab-df-spinner {\n",
              "    border: 2px solid var(--fill-color);\n",
              "    border-color: transparent;\n",
              "    border-bottom-color: var(--fill-color);\n",
              "    animation:\n",
              "      spin 1s steps(1) infinite;\n",
              "  }\n",
              "\n",
              "  @keyframes spin {\n",
              "    0% {\n",
              "      border-color: transparent;\n",
              "      border-bottom-color: var(--fill-color);\n",
              "      border-left-color: var(--fill-color);\n",
              "    }\n",
              "    20% {\n",
              "      border-color: transparent;\n",
              "      border-left-color: var(--fill-color);\n",
              "      border-top-color: var(--fill-color);\n",
              "    }\n",
              "    30% {\n",
              "      border-color: transparent;\n",
              "      border-left-color: var(--fill-color);\n",
              "      border-top-color: var(--fill-color);\n",
              "      border-right-color: var(--fill-color);\n",
              "    }\n",
              "    40% {\n",
              "      border-color: transparent;\n",
              "      border-right-color: var(--fill-color);\n",
              "      border-top-color: var(--fill-color);\n",
              "    }\n",
              "    60% {\n",
              "      border-color: transparent;\n",
              "      border-right-color: var(--fill-color);\n",
              "    }\n",
              "    80% {\n",
              "      border-color: transparent;\n",
              "      border-right-color: var(--fill-color);\n",
              "      border-bottom-color: var(--fill-color);\n",
              "    }\n",
              "    90% {\n",
              "      border-color: transparent;\n",
              "      border-bottom-color: var(--fill-color);\n",
              "    }\n",
              "  }\n",
              "</style>\n",
              "\n",
              "  <script>\n",
              "    async function quickchart(key) {\n",
              "      const quickchartButtonEl =\n",
              "        document.querySelector('#' + key + ' button');\n",
              "      quickchartButtonEl.disabled = true;  // To prevent multiple clicks.\n",
              "      quickchartButtonEl.classList.add('colab-df-spinner');\n",
              "      try {\n",
              "        const charts = await google.colab.kernel.invokeFunction(\n",
              "            'suggestCharts', [key], {});\n",
              "      } catch (error) {\n",
              "        console.error('Error during call to suggestCharts:', error);\n",
              "      }\n",
              "      quickchartButtonEl.classList.remove('colab-df-spinner');\n",
              "      quickchartButtonEl.classList.add('colab-df-quickchart-complete');\n",
              "    }\n",
              "    (() => {\n",
              "      let quickchartButtonEl =\n",
              "        document.querySelector('#df-ae65d3e7-7d07-4ff3-b3bd-1f9fe63a7099 button');\n",
              "      quickchartButtonEl.style.display =\n",
              "        google.colab.kernel.accessAllowed ? 'block' : 'none';\n",
              "    })();\n",
              "  </script>\n",
              "</div>\n",
              "\n",
              "    </div>\n",
              "  </div>\n"
            ],
            "application/vnd.google.colaboratory.intrinsic+json": {
              "type": "dataframe",
              "variable_name": "data",
              "summary": "{\n  \"name\": \"data\",\n  \"rows\": 1059,\n  \"fields\": [\n    {\n      \"column\": \"id\",\n      \"properties\": {\n        \"dtype\": \"number\",\n        \"std\": 236.50357695673262,\n        \"min\": 1.0,\n        \"max\": 826.0,\n        \"num_unique_values\": 800,\n        \"samples\": [\n          708.0,\n          679.0,\n          64.0\n        ],\n        \"semantic_type\": \"\",\n        \"description\": \"\"\n      }\n    },\n    {\n      \"column\": \"gender\",\n      \"properties\": {\n        \"dtype\": \"category\",\n        \"num_unique_values\": 2,\n        \"samples\": [\n          \"female\",\n          \"male\"\n        ],\n        \"semantic_type\": \"\",\n        \"description\": \"\"\n      }\n    },\n    {\n      \"column\": \"age\",\n      \"properties\": {\n        \"dtype\": \"number\",\n        \"std\": 18.02863036758322,\n        \"min\": 0.25,\n        \"max\": 89.0,\n        \"num_unique_values\": 83,\n        \"samples\": [\n          49.0,\n          66.0\n        ],\n        \"semantic_type\": \"\",\n        \"description\": \"\"\n      }\n    },\n    {\n      \"column\": \"heart_rate\",\n      \"properties\": {\n        \"dtype\": \"number\",\n        \"std\": 16.95579354102182,\n        \"min\": 48.0,\n        \"max\": 119.0,\n        \"num_unique_values\": 67,\n        \"samples\": [\n          93.0,\n          88.0\n        ],\n        \"semantic_type\": \"\",\n        \"description\": \"\"\n      }\n    },\n    {\n      \"column\": \"temperature\",\n      \"properties\": {\n        \"dtype\": \"number\",\n        \"std\": 0.7077547282209767,\n        \"min\": 36.0,\n        \"max\": 40.0,\n        \"num_unique_values\": 28,\n        \"samples\": [\n          36.9,\n          37.0\n        ],\n        \"semantic_type\": \"\",\n        \"description\": \"\"\n      }\n    },\n    {\n      \"column\": \"SpO2_saturation\",\n      \"properties\": {\n        \"dtype\": \"number\",\n        \"std\": 21.514817129891338,\n        \"min\": 20.0,\n        \"max\": 99.0,\n        \"num_unique_values\": 33,\n        \"samples\": [\n          99.0,\n          90.0\n        ],\n        \"semantic_type\": \"\",\n        \"description\": \"\"\n      }\n    },\n    {\n      \"column\": \"bpm\",\n      \"properties\": {\n        \"dtype\": \"number\",\n        \"std\": 13.193723381625013,\n        \"min\": 46.0,\n        \"max\": 106.0,\n        \"num_unique_values\": 60,\n        \"samples\": [\n          75.0,\n          73.0\n        ],\n        \"semantic_type\": \"\",\n        \"description\": \"\"\n      }\n    },\n    {\n      \"column\": \"Health_status\",\n      \"properties\": {\n        \"dtype\": \"category\",\n        \"num_unique_values\": 4,\n        \"samples\": [\n          \"Non Infected\",\n          \"Non infected\"\n        ],\n        \"semantic_type\": \"\",\n        \"description\": \"\"\n      }\n    }\n  ]\n}"
            }
          },
          "metadata": {},
          "execution_count": 8
        }
      ],
      "source": [
        "data.head(5)  # Display the first few rows of the dataset"
      ]
    },
    {
      "cell_type": "markdown",
      "id": "e3d9a693-bdcd-42f0-8b99-3691ce96af7f",
      "metadata": {
        "id": "e3d9a693-bdcd-42f0-8b99-3691ce96af7f"
      },
      "source": [
        "## Determine Medical Condition"
      ]
    },
    {
      "cell_type": "code",
      "execution_count": 9,
      "id": "ff7a52c2-7d93-4a21-bab4-bb3c230f67ab",
      "metadata": {
        "id": "ff7a52c2-7d93-4a21-bab4-bb3c230f67ab"
      },
      "outputs": [],
      "source": [
        "def determine_medical_condition(row):\n",
        "    heart_rate = row['heart_rate']\n",
        "    temperature = row['temperature']\n",
        "    spo2 = row['SpO2_saturation']\n",
        "\n",
        "    if 60 <= heart_rate <= 100 and 36.1 <= temperature <= 37.2 and 95 <= spo2 <= 100:\n",
        "        return 0 #\"Normal\"\n",
        "    elif heart_rate > 100 or heart_rate < 60 or temperature > 37.2 or temperature < 36.1 or spo2 < 95:\n",
        "        return 1 #\"Serious\"\n",
        "    else:\n",
        "        return 2 #\"Dischargeable\"\n",
        "# refer data website"
      ]
    },
    {
      "cell_type": "code",
      "execution_count": 10,
      "id": "7acdb25d-d6fa-43f5-9293-aba2a66d3fde",
      "metadata": {
        "id": "7acdb25d-d6fa-43f5-9293-aba2a66d3fde"
      },
      "outputs": [],
      "source": [
        "# Apply the function to the DataFrame to create the 'health_condition' column\n",
        "data['health_condition'] = data.apply(determine_medical_condition, axis=1)"
      ]
    },
    {
      "cell_type": "code",
      "execution_count": 11,
      "id": "bfe276d7-0ea8-41e8-962d-94075819d91a",
      "metadata": {
        "id": "bfe276d7-0ea8-41e8-962d-94075819d91a",
        "outputId": "23f60c49-714d-48d9-b6fe-a1870bea98fc",
        "colab": {
          "base_uri": "https://localhost:8080/"
        }
      },
      "outputs": [
        {
          "output_type": "stream",
          "name": "stdout",
          "text": [
            "      id  gender   age  heart_rate  temperature  SpO2_saturation   bpm  \\\n",
            "0    1.0    male  66.0        70.0         38.6             88.0  75.0   \n",
            "1    2.0  female  56.0        74.0         39.6             88.0  70.0   \n",
            "2    3.0    male  46.0        82.0         37.2             98.0  83.0   \n",
            "3    4.0  female  60.0        90.0         38.6             98.0  75.0   \n",
            "4    5.0    male  58.0        72.0         39.6             93.0  78.0   \n",
            "5    6.0  female  44.0        72.0         37.2             93.0  69.0   \n",
            "6    7.0    male  34.0        67.0         38.6             98.0  73.0   \n",
            "7    8.0    male  37.0        72.0         39.6             97.0  73.0   \n",
            "8    9.0    male  39.0        65.0         37.2             96.0  84.0   \n",
            "9   10.0    male  56.0        76.0         38.0             92.0  68.0   \n",
            "10  11.0  female  18.0        73.0         38.6             50.0  73.0   \n",
            "11  12.0  female  32.0        64.0         39.6             97.0  79.0   \n",
            "12  13.0    male  37.0        63.0         37.2             70.0  81.0   \n",
            "13  14.0    male  51.0        94.0         38.6             70.0  69.0   \n",
            "14  15.0    male  57.0        73.0         39.6             70.0  72.0   \n",
            "15  16.0    male  56.0        75.0         37.2             70.0  74.0   \n",
            "16  17.0    male  50.0        78.0         38.6             70.0  66.0   \n",
            "17  18.0  female  52.0        68.0         39.6             95.0  74.0   \n",
            "18  19.0    male  33.0        71.0         37.2             95.0  82.0   \n",
            "19  20.0    male  40.0        70.0         38.6             95.0  90.0   \n",
            "\n",
            "   Health_status  health_condition  \n",
            "0       Infected                 1  \n",
            "1       Infected                 1  \n",
            "2   Non Infected                 0  \n",
            "3   Non Infected                 1  \n",
            "4       Infected                 1  \n",
            "5       Infected                 1  \n",
            "6   Non Infected                 1  \n",
            "7   Non Infected                 1  \n",
            "8   Non Infected                 0  \n",
            "9       Infected                 1  \n",
            "10      Infected                 1  \n",
            "11  Non Infected                 1  \n",
            "12      Infected                 1  \n",
            "13      Infected                 1  \n",
            "14      Infected                 1  \n",
            "15      Infected                 1  \n",
            "16      Infected                 1  \n",
            "17  Non Infected                 1  \n",
            "18  Non Infected                 0  \n",
            "19  Non Infected                 1  \n"
          ]
        }
      ],
      "source": [
        "# Display the updated DataFrame\n",
        "print(data.head(20))"
      ]
    },
    {
      "cell_type": "markdown",
      "id": "4jcYMC2SERMm",
      "metadata": {
        "id": "4jcYMC2SERMm"
      },
      "source": [
        "### **Data Preprocessing & Visualization**:\n",
        "\n",
        "Handle missing values and encode categorical variables."
      ]
    },
    {
      "cell_type": "code",
      "execution_count": 12,
      "id": "wbtz2oV9KY5_",
      "metadata": {
        "id": "wbtz2oV9KY5_"
      },
      "outputs": [],
      "source": [
        "# Dataset Preprocessing\n",
        "X = data[['heart_rate', 'temperature', 'SpO2_saturation']] #features\n",
        "y = data['health_condition'] #target\n"
      ]
    },
    {
      "cell_type": "code",
      "execution_count": 13,
      "id": "e2bddac5-4d2c-4199-b63c-011ae9bce559",
      "metadata": {
        "id": "e2bddac5-4d2c-4199-b63c-011ae9bce559",
        "outputId": "6eede5bb-c96d-4c22-b6b9-6b6d5652f879",
        "colab": {
          "base_uri": "https://localhost:8080/",
          "height": 447
        }
      },
      "outputs": [
        {
          "output_type": "execute_result",
          "data": {
            "text/plain": [
              "<Axes: >"
            ]
          },
          "metadata": {},
          "execution_count": 13
        },
        {
          "output_type": "display_data",
          "data": {
            "text/plain": [
              "<Figure size 640x480 with 1 Axes>"
            ],
            "image/png": "[encoded data removed]"
          },
          "metadata": {}
        }
      ],
      "source": [
        "X[['heart_rate']].plot()  # plot of heart_rate"
      ]
    },
    {
      "cell_type": "code",
      "execution_count": 14,
      "id": "a2b2272a-b25c-4954-8d34-5797f053a0fa",
      "metadata": {
        "id": "a2b2272a-b25c-4954-8d34-5797f053a0fa",
        "outputId": "5cccd010-a921-4aa4-ce04-9199b67bdbde",
        "colab": {
          "base_uri": "https://localhost:8080/",
          "height": 447
        }
      },
      "outputs": [
        {
          "output_type": "execute_result",
          "data": {
            "text/plain": [
              "<Axes: >"
            ]
          },
          "metadata": {},
          "execution_count": 14
        },
        {
          "output_type": "display_data",
          "data": {
            "text/plain": [
              "<Figure size 640x480 with 1 Axes>"
            ],
            "image/png": "[encoded data removed]"
          },
          "metadata": {}
        }
      ],
      "source": [
        "X[['temperature']].plot() # plot of temperature"
      ]
    },
    {
      "cell_type": "code",
      "execution_count": 15,
      "id": "a92df9c2-60f8-43f8-9c41-f81772755b63",
      "metadata": {
        "id": "a92df9c2-60f8-43f8-9c41-f81772755b63",
        "outputId": "ed0758b0-0c23-42af-ceac-fac1484fb605",
        "colab": {
          "base_uri": "https://localhost:8080/",
          "height": 447
        }
      },
      "outputs": [
        {
          "output_type": "execute_result",
          "data": {
            "text/plain": [
              "<Axes: >"
            ]
          },
          "metadata": {},
          "execution_count": 15
        },
        {
          "output_type": "display_data",
          "data": {
            "text/plain": [
              "<Figure size 640x480 with 1 Axes>"
            ],
            "image/png": "[encoded data removed]"
          },
          "metadata": {}
        }
      ],
      "source": [
        "X[['SpO2_saturation']].plot()  # plot of SpO2_saturation"
      ]
    },
    {
      "cell_type": "code",
      "execution_count": 16,
      "id": "7d1bd566-ef1c-4ddb-9d46-9863d413ac9a",
      "metadata": {
        "id": "7d1bd566-ef1c-4ddb-9d46-9863d413ac9a",
        "outputId": "03f8e583-3ffa-404e-b8a0-af0ef7461cda",
        "colab": {
          "base_uri": "https://localhost:8080/"
        }
      },
      "outputs": [
        {
          "output_type": "execute_result",
          "data": {
            "text/plain": [
              "id                  800\n",
              "gender                2\n",
              "age                  83\n",
              "heart_rate           67\n",
              "temperature          28\n",
              "SpO2_saturation      33\n",
              "bpm                  60\n",
              "Health_status         4\n",
              "health_condition      3\n",
              "dtype: int64"
            ]
          },
          "metadata": {},
          "execution_count": 16
        }
      ],
      "source": [
        "data.nunique()  # finding for the count of unique values"
      ]
    },
    {
      "cell_type": "code",
      "execution_count": 17,
      "id": "5e5828fb-19f6-407d-9b77-790da197a092",
      "metadata": {
        "id": "5e5828fb-19f6-407d-9b77-790da197a092",
        "outputId": "e86f0c49-7cb9-4ea9-90d5-692ec7207121",
        "colab": {
          "base_uri": "https://localhost:8080/"
        }
      },
      "outputs": [
        {
          "output_type": "execute_result",
          "data": {
            "text/plain": [
              "(1059, 9)"
            ]
          },
          "metadata": {},
          "execution_count": 17
        }
      ],
      "source": [
        "data.shape # gives the shape of data"
      ]
    },
    {
      "cell_type": "code",
      "execution_count": 18,
      "id": "5f27f2c0-c9ef-4a15-afe9-749a52866eb8",
      "metadata": {
        "id": "5f27f2c0-c9ef-4a15-afe9-749a52866eb8",
        "outputId": "eb0069b4-dbb6-4e64-88e3-6d15f45691af",
        "colab": {
          "base_uri": "https://localhost:8080/"
        }
      },
      "outputs": [
        {
          "output_type": "execute_result",
          "data": {
            "text/plain": [
              "Index(['id', 'gender', 'age', 'heart_rate', 'temperature', 'SpO2_saturation',\n",
              "       'bpm', 'Health_status', 'health_condition'],\n",
              "      dtype='object')"
            ]
          },
          "metadata": {},
          "execution_count": 18
        }
      ],
      "source": [
        "data.columns # gives the columns of data"
      ]
    },
    {
      "cell_type": "code",
      "execution_count": 19,
      "id": "9e77009e-deaf-4457-a240-13d5813950b0",
      "metadata": {
        "id": "9e77009e-deaf-4457-a240-13d5813950b0",
        "outputId": "2f905e63-f84b-4f2a-d5e1-04f9e4266565",
        "colab": {
          "base_uri": "https://localhost:8080/"
        }
      },
      "outputs": [
        {
          "output_type": "stream",
          "name": "stdout",
          "text": [
            "<class 'pandas.core.frame.DataFrame'>\n",
            "RangeIndex: 1059 entries, 0 to 1058\n",
            "Data columns (total 9 columns):\n",
            " #   Column            Non-Null Count  Dtype  \n",
            "---  ------            --------------  -----  \n",
            " 0   id                800 non-null    float64\n",
            " 1   gender            705 non-null    object \n",
            " 2   age               690 non-null    float64\n",
            " 3   heart_rate        800 non-null    float64\n",
            " 4   temperature       800 non-null    float64\n",
            " 5   SpO2_saturation   800 non-null    float64\n",
            " 6   bpm               800 non-null    float64\n",
            " 7   Health_status     800 non-null    object \n",
            " 8   health_condition  1059 non-null   int64  \n",
            "dtypes: float64(6), int64(1), object(2)\n",
            "memory usage: 74.6+ KB\n"
          ]
        }
      ],
      "source": [
        "data.info() # All information about data"
      ]
    },
    {
      "cell_type": "code",
      "execution_count": 20,
      "id": "27265752-7453-4e5d-b26b-3012eb44e0c2",
      "metadata": {
        "id": "27265752-7453-4e5d-b26b-3012eb44e0c2"
      },
      "outputs": [],
      "source": [
        "data= data[[\"heart_rate\",\"temperature\",\"SpO2_saturation\",\"health_condition\"]] # taking only the required data"
      ]
    },
    {
      "cell_type": "code",
      "execution_count": 21,
      "id": "9fc570ff-263a-40b4-a651-b0e94a2d3e9a",
      "metadata": {
        "id": "9fc570ff-263a-40b4-a651-b0e94a2d3e9a",
        "outputId": "134af0d2-c728-4802-9f62-b527ad01cd03",
        "colab": {
          "base_uri": "https://localhost:8080/",
          "height": 206
        }
      },
      "outputs": [
        {
          "output_type": "execute_result",
          "data": {
            "text/plain": [
              "   heart_rate  temperature  SpO2_saturation  health_condition\n",
              "0        70.0         38.6             88.0                 1\n",
              "1        74.0         39.6             88.0                 1\n",
              "2        82.0         37.2             98.0                 0\n",
              "3        90.0         38.6             98.0                 1\n",
              "4        72.0         39.6             93.0                 1"
            ],
            "text/html": [
              "\n",
              "  <div id=\"df-fa5d1ae6-f6db-4bbe-96de-80320d81fcde\" class=\"colab-df-container\">\n",
              "    <div>\n",
              "<style scoped>\n",
              "    .dataframe tbody tr th:only-of-type {\n",
              "        vertical-align: middle;\n",
              "    }\n",
              "\n",
              "    .dataframe tbody tr th {\n",
              "        vertical-align: top;\n",
              "    }\n",
              "\n",
              "    .dataframe thead th {\n",
              "        text-align: right;\n",
              "    }\n",
              "</style>\n",
              "<table border=\"1\" class=\"dataframe\">\n",
              "  <thead>\n",
              "    <tr style=\"text-align: right;\">\n",
              "      <th></th>\n",
              "      <th>heart_rate</th>\n",
              "      <th>temperature</th>\n",
              "      <th>SpO2_saturation</th>\n",
              "      <th>health_condition</th>\n",
              "    </tr>\n",
              "  </thead>\n",
              "  <tbody>\n",
              "    <tr>\n",
              "      <th>0</th>\n",
              "      <td>70.0</td>\n",
              "      <td>38.6</td>\n",
              "      <td>88.0</td>\n",
              "      <td>1</td>\n",
              "    </tr>\n",
              "    <tr>\n",
              "      <th>1</th>\n",
              "      <td>74.0</td>\n",
              "      <td>39.6</td>\n",
              "      <td>88.0</td>\n",
              "      <td>1</td>\n",
              "    </tr>\n",
              "    <tr>\n",
              "      <th>2</th>\n",
              "      <td>82.0</td>\n",
              "      <td>37.2</td>\n",
              "      <td>98.0</td>\n",
              "      <td>0</td>\n",
              "    </tr>\n",
              "    <tr>\n",
              "      <th>3</th>\n",
              "      <td>90.0</td>\n",
              "      <td>38.6</td>\n",
              "      <td>98.0</td>\n",
              "      <td>1</td>\n",
              "    </tr>\n",
              "    <tr>\n",
              "      <th>4</th>\n",
              "      <td>72.0</td>\n",
              "      <td>39.6</td>\n",
              "      <td>93.0</td>\n",
              "      <td>1</td>\n",
              "    </tr>\n",
              "  </tbody>\n",
              "</table>\n",
              "</div>\n",
              "    <div class=\"colab-df-buttons\">\n",
              "\n",
              "  <div class=\"colab-df-container\">\n",
              "    <button class=\"colab-df-convert\" onclick=\"convertToInteractive('df-fa5d1ae6-f6db-4bbe-96de-80320d81fcde')\"\n",
              "            title=\"Convert this dataframe to an interactive table.\"\n",
              "            style=\"display:none;\">\n",
              "\n",
              "  <svg xmlns=\"http://www.w3.org/2000/svg\" height=\"24px\" viewBox=\"0 -960 960 960\">\n",
              "    <path d=\"M120-120v-720h720v720H120Zm60-500h600v-160H180v160Zm220 220h160v-160H400v160Zm0 220h160v-160H400v160ZM180-400h160v-160H180v160Zm440 0h160v-160H620v160ZM180-180h160v-160H180v160Zm440 0h160v-160H620v160Z\"/>\n",
              "  </svg>\n",
              "    </button>\n",
              "\n",
              "  <style>\n",
              "    .colab-df-container {\n",
              "      display:flex;\n",
              "      gap: 12px;\n",
              "    }\n",
              "\n",
              "    .colab-df-convert {\n",
              "      background-color: #E8F0FE;\n",
              "      border: none;\n",
              "      border-radius: 50%;\n",
              "      cursor: pointer;\n",
              "      display: none;\n",
              "      fill: #1967D2;\n",
              "      height: 32px;\n",
              "      padding: 0 0 0 0;\n",
              "      width: 32px;\n",
              "    }\n",
              "\n",
              "    .colab-df-convert:hover {\n",
              "      background-color: #E2EBFA;\n",
              "      box-shadow: 0px 1px 2px rgba(60, 64, 67, 0.3), 0px 1px 3px 1px rgba(60, 64, 67, 0.15);\n",
              "      fill: #174EA6;\n",
              "    }\n",
              "\n",
              "    .colab-df-buttons div {\n",
              "      margin-bottom: 4px;\n",
              "    }\n",
              "\n",
              "    [theme=dark] .colab-df-convert {\n",
              "      background-color: #3B4455;\n",
              "      fill: #D2E3FC;\n",
              "    }\n",
              "\n",
              "    [theme=dark] .colab-df-convert:hover {\n",
              "      background-color: #434B5C;\n",
              "      box-shadow: 0px 1px 3px 1px rgba(0, 0, 0, 0.15);\n",
              "      filter: drop-shadow(0px 1px 2px rgba(0, 0, 0, 0.3));\n",
              "      fill: #FFFFFF;\n",
              "    }\n",
              "  </style>\n",
              "\n",
              "    <script>\n",
              "      const buttonEl =\n",
              "        document.querySelector('#df-fa5d1ae6-f6db-4bbe-96de-80320d81fcde button.colab-df-convert');\n",
              "      buttonEl.style.display =\n",
              "        google.colab.kernel.accessAllowed ? 'block' : 'none';\n",
              "\n",
              "      async function convertToInteractive(key) {\n",
              "        const element = document.querySelector('#df-fa5d1ae6-f6db-4bbe-96de-80320d81fcde');\n",
              "        const dataTable =\n",
              "          await google.colab.kernel.invokeFunction('convertToInteractive',\n",
              "                                                    [key], {});\n",
              "        if (!dataTable) return;\n",
              "\n",
              "        const docLinkHtml = 'Like what you see? Visit the ' +\n",
              "          '<a target=\"_blank\" href=https://colab.research.google.com/notebooks/data_table.ipynb>data table notebook</a>'\n",
              "          + ' to learn more about interactive tables.';\n",
              "        element.innerHTML = '';\n",
              "        dataTable['output_type'] = 'display_data';\n",
              "        await google.colab.output.renderOutput(dataTable, element);\n",
              "        const docLink = document.createElement('div');\n",
              "        docLink.innerHTML = docLinkHtml;\n",
              "        element.appendChild(docLink);\n",
              "      }\n",
              "    </script>\n",
              "  </div>\n",
              "\n",
              "\n",
              "<div id=\"df-b6107451-1180-4c92-b862-145fc905ae9b\">\n",
              "  <button class=\"colab-df-quickchart\" onclick=\"quickchart('df-b6107451-1180-4c92-b862-145fc905ae9b')\"\n",
              "            title=\"Suggest charts\"\n",
              "            style=\"display:none;\">\n",
              "\n",
              "<svg xmlns=\"http://www.w3.org/2000/svg\" height=\"24px\"viewBox=\"0 0 24 24\"\n",
              "     width=\"24px\">\n",
              "    <g>\n",
              "        <path d=\"M19 3H5c-1.1 0-2 .9-2 2v14c0 1.1.9 2 2 2h14c1.1 0 2-.9 2-2V5c0-1.1-.9-2-2-2zM9 17H7v-7h2v7zm4 0h-2V7h2v10zm4 0h-2v-4h2v4z\"/>\n",
              "    </g>\n",
              "</svg>\n",
              "  </button>\n",
              "\n",
              "<style>\n",
              "  .colab-df-quickchart {\n",
              "      --bg-color: #E8F0FE;\n",
              "      --fill-color: #1967D2;\n",
              "      --hover-bg-color: #E2EBFA;\n",
              "      --hover-fill-color: #174EA6;\n",
              "      --disabled-fill-color: #AAA;\n",
              "      --disabled-bg-color: #DDD;\n",
              "  }\n",
              "\n",
              "  [theme=dark] .colab-df-quickchart {\n",
              "      --bg-color: #3B4455;\n",
              "      --fill-color: #D2E3FC;\n",
              "      --hover-bg-color: #434B5C;\n",
              "      --hover-fill-color: #FFFFFF;\n",
              "      --disabled-bg-color: #3B4455;\n",
              "      --disabled-fill-color: #666;\n",
              "  }\n",
              "\n",
              "  .colab-df-quickchart {\n",
              "    background-color: var(--bg-color);\n",
              "    border: none;\n",
              "    border-radius: 50%;\n",
              "    cursor: pointer;\n",
              "    display: none;\n",
              "    fill: var(--fill-color);\n",
              "    height: 32px;\n",
              "    padding: 0;\n",
              "    width: 32px;\n",
              "  }\n",
              "\n",
              "  .colab-df-quickchart:hover {\n",
              "    background-color: var(--hover-bg-color);\n",
              "    box-shadow: 0 1px 2px rgba(60, 64, 67, 0.3), 0 1px 3px 1px rgba(60, 64, 67, 0.15);\n",
              "    fill: var(--button-hover-fill-color);\n",
              "  }\n",
              "\n",
              "  .colab-df-quickchart-complete:disabled,\n",
              "  .colab-df-quickchart-complete:disabled:hover {\n",
              "    background-color: var(--disabled-bg-color);\n",
              "    fill: var(--disabled-fill-color);\n",
              "    box-shadow: none;\n",
              "  }\n",
              "\n",
              "  .colab-df-spinner {\n",
              "    border: 2px solid var(--fill-color);\n",
              "    border-color: transparent;\n",
              "    border-bottom-color: var(--fill-color);\n",
              "    animation:\n",
              "      spin 1s steps(1) infinite;\n",
              "  }\n",
              "\n",
              "  @keyframes spin {\n",
              "    0% {\n",
              "      border-color: transparent;\n",
              "      border-bottom-color: var(--fill-color);\n",
              "      border-left-color: var(--fill-color);\n",
              "    }\n",
              "    20% {\n",
              "      border-color: transparent;\n",
              "      border-left-color: var(--fill-color);\n",
              "      border-top-color: var(--fill-color);\n",
              "    }\n",
              "    30% {\n",
              "      border-color: transparent;\n",
              "      border-left-color: var(--fill-color);\n",
              "      border-top-color: var(--fill-color);\n",
              "      border-right-color: var(--fill-color);\n",
              "    }\n",
              "    40% {\n",
              "      border-color: transparent;\n",
              "      border-right-color: var(--fill-color);\n",
              "      border-top-color: var(--fill-color);\n",
              "    }\n",
              "    60% {\n",
              "      border-color: transparent;\n",
              "      border-right-color: var(--fill-color);\n",
              "    }\n",
              "    80% {\n",
              "      border-color: transparent;\n",
              "      border-right-color: var(--fill-color);\n",
              "      border-bottom-color: var(--fill-color);\n",
              "    }\n",
              "    90% {\n",
              "      border-color: transparent;\n",
              "      border-bottom-color: var(--fill-color);\n",
              "    }\n",
              "  }\n",
              "</style>\n",
              "\n",
              "  <script>\n",
              "    async function quickchart(key) {\n",
              "      const quickchartButtonEl =\n",
              "        document.querySelector('#' + key + ' button');\n",
              "      quickchartButtonEl.disabled = true;  // To prevent multiple clicks.\n",
              "      quickchartButtonEl.classList.add('colab-df-spinner');\n",
              "      try {\n",
              "        const charts = await google.colab.kernel.invokeFunction(\n",
              "            'suggestCharts', [key], {});\n",
              "      } catch (error) {\n",
              "        console.error('Error during call to suggestCharts:', error);\n",
              "      }\n",
              "      quickchartButtonEl.classList.remove('colab-df-spinner');\n",
              "      quickchartButtonEl.classList.add('colab-df-quickchart-complete');\n",
              "    }\n",
              "    (() => {\n",
              "      let quickchartButtonEl =\n",
              "        document.querySelector('#df-b6107451-1180-4c92-b862-145fc905ae9b button');\n",
              "      quickchartButtonEl.style.display =\n",
              "        google.colab.kernel.accessAllowed ? 'block' : 'none';\n",
              "    })();\n",
              "  </script>\n",
              "</div>\n",
              "\n",
              "    </div>\n",
              "  </div>\n"
            ],
            "application/vnd.google.colaboratory.intrinsic+json": {
              "type": "dataframe",
              "variable_name": "data",
              "summary": "{\n  \"name\": \"data\",\n  \"rows\": 1059,\n  \"fields\": [\n    {\n      \"column\": \"heart_rate\",\n      \"properties\": {\n        \"dtype\": \"number\",\n        \"std\": 16.95579354102182,\n        \"min\": 48.0,\n        \"max\": 119.0,\n        \"num_unique_values\": 67,\n        \"samples\": [\n          93.0,\n          88.0,\n          72.0\n        ],\n        \"semantic_type\": \"\",\n        \"description\": \"\"\n      }\n    },\n    {\n      \"column\": \"temperature\",\n      \"properties\": {\n        \"dtype\": \"number\",\n        \"std\": 0.7077547282209767,\n        \"min\": 36.0,\n        \"max\": 40.0,\n        \"num_unique_values\": 28,\n        \"samples\": [\n          36.9,\n          37.0,\n          39.0\n        ],\n        \"semantic_type\": \"\",\n        \"description\": \"\"\n      }\n    },\n    {\n      \"column\": \"SpO2_saturation\",\n      \"properties\": {\n        \"dtype\": \"number\",\n        \"std\": 21.514817129891338,\n        \"min\": 20.0,\n        \"max\": 99.0,\n        \"num_unique_values\": 33,\n        \"samples\": [\n          99.0,\n          90.0,\n          30.0\n        ],\n        \"semantic_type\": \"\",\n        \"description\": \"\"\n      }\n    },\n    {\n      \"column\": \"health_condition\",\n      \"properties\": {\n        \"dtype\": \"number\",\n        \"std\": 0,\n        \"min\": 0,\n        \"max\": 2,\n        \"num_unique_values\": 3,\n        \"samples\": [\n          1,\n          0,\n          2\n        ],\n        \"semantic_type\": \"\",\n        \"description\": \"\"\n      }\n    }\n  ]\n}"
            }
          },
          "metadata": {},
          "execution_count": 21
        }
      ],
      "source": [
        "data.head()  # shows some data from starting"
      ]
    },
    {
      "cell_type": "code",
      "execution_count": 22,
      "id": "757db057-87e1-4b0d-b6db-8d1314fea1ff",
      "metadata": {
        "id": "757db057-87e1-4b0d-b6db-8d1314fea1ff",
        "outputId": "b07826ca-4c9e-40a5-d59b-cb414324f318",
        "colab": {
          "base_uri": "https://localhost:8080/"
        }
      },
      "outputs": [
        {
          "output_type": "stream",
          "name": "stdout",
          "text": [
            "<class 'pandas.core.frame.DataFrame'>\n",
            "RangeIndex: 1059 entries, 0 to 1058\n",
            "Data columns (total 4 columns):\n",
            " #   Column            Non-Null Count  Dtype  \n",
            "---  ------            --------------  -----  \n",
            " 0   heart_rate        800 non-null    float64\n",
            " 1   temperature       800 non-null    float64\n",
            " 2   SpO2_saturation   800 non-null    float64\n",
            " 3   health_condition  1059 non-null   int64  \n",
            "dtypes: float64(3), int64(1)\n",
            "memory usage: 33.2 KB\n"
          ]
        }
      ],
      "source": [
        "data.info()  # again checking the data info"
      ]
    },
    {
      "cell_type": "code",
      "execution_count": 23,
      "id": "2615bc26-feb7-49cb-ab9b-b91ba60289af",
      "metadata": {
        "id": "2615bc26-feb7-49cb-ab9b-b91ba60289af",
        "outputId": "e3e561cf-9e7a-4bb7-bb96-b5d6ddb977a5",
        "colab": {
          "base_uri": "https://localhost:8080/"
        }
      },
      "outputs": [
        {
          "output_type": "execute_result",
          "data": {
            "text/plain": [
              "heart_rate          259\n",
              "temperature         259\n",
              "SpO2_saturation     259\n",
              "health_condition      0\n",
              "dtype: int64"
            ]
          },
          "metadata": {},
          "execution_count": 23
        }
      ],
      "source": [
        "data.isna().sum() # searching for null values"
      ]
    },
    {
      "cell_type": "code",
      "execution_count": 24,
      "id": "e5ea2699-6047-4202-91b0-0b8c48aa49a1",
      "metadata": {
        "id": "e5ea2699-6047-4202-91b0-0b8c48aa49a1",
        "outputId": "02c60367-ebf6-4bad-b396-3f612f2fbbbe",
        "colab": {
          "base_uri": "https://localhost:8080/"
        }
      },
      "outputs": [
        {
          "output_type": "execute_result",
          "data": {
            "text/plain": [
              "533"
            ]
          },
          "metadata": {},
          "execution_count": 24
        }
      ],
      "source": [
        "data.duplicated().sum() # searching for the duplicate values"
      ]
    },
    {
      "cell_type": "code",
      "execution_count": 25,
      "id": "00502630-e742-4528-b743-90ddd7820823",
      "metadata": {
        "id": "00502630-e742-4528-b743-90ddd7820823",
        "outputId": "835dea5f-c1c9-42d6-9307-3add9c6bd88b",
        "colab": {
          "base_uri": "https://localhost:8080/"
        }
      },
      "outputs": [
        {
          "output_type": "execute_result",
          "data": {
            "text/plain": [
              "(526, 4)"
            ]
          },
          "metadata": {},
          "execution_count": 25
        }
      ],
      "source": [
        "data.drop_duplicates(inplace=True)  # deleting the duplicate values\n",
        "data.shape"
      ]
    },
    {
      "cell_type": "code",
      "execution_count": 26,
      "id": "2a4d0a7c-f8da-46e6-be1b-c92802f045c1",
      "metadata": {
        "id": "2a4d0a7c-f8da-46e6-be1b-c92802f045c1",
        "outputId": "6f6df043-df7c-4448-e33b-23c324a13ee4",
        "colab": {
          "base_uri": "https://localhost:8080/"
        }
      },
      "outputs": [
        {
          "output_type": "execute_result",
          "data": {
            "text/plain": [
              "array([1, 0, 2])"
            ]
          },
          "metadata": {},
          "execution_count": 26
        }
      ],
      "source": [
        "data[\"health_condition\"].unique() # gives the unique values of health_condition"
      ]
    },
    {
      "cell_type": "code",
      "execution_count": 27,
      "id": "36b10ad8-e3e2-40fa-880a-5afce71c6acf",
      "metadata": {
        "id": "36b10ad8-e3e2-40fa-880a-5afce71c6acf",
        "outputId": "9802c8ab-b0d8-4916-a438-494bc42ebebb",
        "colab": {
          "base_uri": "https://localhost:8080/",
          "height": 461
        }
      },
      "outputs": [
        {
          "output_type": "execute_result",
          "data": {
            "text/plain": [
              "<Axes: xlabel='health_condition'>"
            ]
          },
          "metadata": {},
          "execution_count": 27
        },
        {
          "output_type": "display_data",
          "data": {
            "text/plain": [
              "<Figure size 640x480 with 1 Axes>"
            ],
            "image/png": "[encoded data removed]"
          },
          "metadata": {}
        }
      ],
      "source": [
        "data[\"health_condition\"].value_counts().plot.bar()  # plot of health_condition"
      ]
    },
    {
      "cell_type": "code",
      "execution_count": 28,
      "id": "0917a262-f412-448c-a85f-8b29e7163370",
      "metadata": {
        "id": "0917a262-f412-448c-a85f-8b29e7163370",
        "outputId": "40c3a0ee-5e95-4ae8-e7f0-20b1b43190a7",
        "colab": {
          "base_uri": "https://localhost:8080/"
        }
      },
      "outputs": [
        {
          "output_type": "execute_result",
          "data": {
            "text/plain": [
              "health_condition\n",
              "1    499\n",
              "0     26\n",
              "2      1\n",
              "Name: count, dtype: int64"
            ]
          },
          "metadata": {},
          "execution_count": 28
        }
      ],
      "source": [
        "data[\"health_condition\"].value_counts()  # gives the value count of every unique health conditions"
      ]
    },
    {
      "cell_type": "markdown",
      "id": "-s6FjDfTiWXC",
      "metadata": {
        "id": "-s6FjDfTiWXC"
      },
      "source": [
        "### A Seaborn heatmap is a data visualization tool that displays a matrix of values as a grid of colors, making it easy to identify patterns, correlations, and variations in the data. It is particularly useful for visualizing correlation matrices, confusion matrices, and other types of matrix data."
      ]
    },
    {
      "cell_type": "code",
      "execution_count": 29,
      "id": "b0639500-5651-454e-8326-80e0b38c325d",
      "metadata": {
        "id": "b0639500-5651-454e-8326-80e0b38c325d",
        "outputId": "8620b5d7-2752-44e8-865c-b0fa484693e8",
        "colab": {
          "base_uri": "https://localhost:8080/",
          "height": 554
        }
      },
      "outputs": [
        {
          "output_type": "execute_result",
          "data": {
            "text/plain": [
              "<Axes: >"
            ]
          },
          "metadata": {},
          "execution_count": 29
        },
        {
          "output_type": "display_data",
          "data": {
            "text/plain": [
              "<Figure size 640x480 with 2 Axes>"
            ],
            "image/png": "[encoded data removed]"
          },
          "metadata": {}
        }
      ],
      "source": [
        "sns.heatmap(data.corr())  # plot the heat map of the data"
      ]
    },
    {
      "cell_type": "code",
      "execution_count": 30,
      "id": "_YsaJoHziqPC",
      "metadata": {
        "id": "_YsaJoHziqPC"
      },
      "outputs": [],
      "source": [
        "# Fill missing values\n",
        "data.fillna(method='ffill', inplace=True)"
      ]
    },
    {
      "cell_type": "code",
      "execution_count": 31,
      "id": "6NpNPZOiivE4",
      "metadata": {
        "id": "6NpNPZOiivE4"
      },
      "outputs": [],
      "source": [
        "# Convert all feature columns to numeric\n",
        "for col in data.columns:\n",
        "    data[col] = pd.to_numeric(data[col], errors='coerce')"
      ]
    },
    {
      "cell_type": "code",
      "execution_count": 32,
      "id": "fthKrROZiu33",
      "metadata": {
        "id": "fthKrROZiu33"
      },
      "outputs": [],
      "source": [
        "# Fill any remaining NaNs that might have been introduced\n",
        "data.fillna(0, inplace=True)"
      ]
    },
    {
      "cell_type": "code",
      "execution_count": 33,
      "id": "scg8GT-siukT",
      "metadata": {
        "id": "scg8GT-siukT"
      },
      "outputs": [],
      "source": [
        "# Encode the target variable\n",
        "from sklearn.preprocessing import LabelEncoder\n",
        "label_encoder = LabelEncoder()\n",
        "data['health_condition'] = label_encoder.fit_transform(data['health_condition'])"
      ]
    },
    {
      "cell_type": "code",
      "execution_count": 34,
      "id": "6ff31ff3-13bc-419a-aa3b-b68b4866299c",
      "metadata": {
        "id": "6ff31ff3-13bc-419a-aa3b-b68b4866299c"
      },
      "outputs": [],
      "source": [
        "# Define features and target\n",
        "X = data.drop('health_condition', axis=1)\n",
        "y = data['health_condition']"
      ]
    },
    {
      "cell_type": "markdown",
      "id": "JXHwmjcQFEug",
      "metadata": {
        "id": "JXHwmjcQFEug"
      },
      "source": [
        "### **3. Model Development:**\n",
        "Split the dataset into training and testing sets, and implement a Decision Tree Classifier using TensorFlow."
      ]
    },
    {
      "cell_type": "code",
      "execution_count": 35,
      "id": "6oaWSvJtjMjX",
      "metadata": {
        "id": "6oaWSvJtjMjX"
      },
      "outputs": [],
      "source": [
        "# Split the dataset into training and testing sets\n",
        "X_train, X_test, y_train, y_test = train_test_split(X, y, test_size=0.2, random_state=42)"
      ]
    },
    {
      "cell_type": "code",
      "execution_count": 36,
      "id": "S-4Y0tTHjN36",
      "metadata": {
        "id": "S-4Y0tTHjN36"
      },
      "outputs": [],
      "source": [
        "# Build the Decision Tree Classifier model\n",
        "model = tf.keras.Sequential([\n",
        "    tf.keras.layers.Input(shape=(X_train.shape[1],)),\n",
        "    tf.keras.layers.Dense(128, activation='relu'),\n",
        "    tf.keras.layers.Dense(64, activation='relu'),\n",
        "    tf.keras.layers.Dense(len(label_encoder.classes_), activation='softmax')\n",
        "])"
      ]
    },
    {
      "cell_type": "code",
      "execution_count": 37,
      "id": "XFWm3eccKkzK",
      "metadata": {
        "id": "XFWm3eccKkzK"
      },
      "outputs": [],
      "source": [
        "# Compile the model\n",
        "model.compile(optimizer='adam', loss='sparse_categorical_crossentropy', metrics=['accuracy'])"
      ]
    },
    {
      "cell_type": "markdown",
      "id": "XAEHkelZFhfZ",
      "metadata": {
        "id": "XAEHkelZFhfZ"
      },
      "source": [
        "### **4. Model Training**\n",
        "Train the model using the training data and monitor its performance."
      ]
    },
    {
      "cell_type": "code",
      "execution_count": 38,
      "id": "3a198884-0e31-4304-b56c-56a2cdb9de92",
      "metadata": {
        "id": "3a198884-0e31-4304-b56c-56a2cdb9de92"
      },
      "outputs": [],
      "source": [
        "X = data.loc[:,[\"heart_rate\",\"temperature\",\"SpO2_saturation\"]]"
      ]
    },
    {
      "cell_type": "code",
      "execution_count": 39,
      "id": "686e0661-2ed9-4ba8-80a0-ee1389fa098b",
      "metadata": {
        "id": "686e0661-2ed9-4ba8-80a0-ee1389fa098b",
        "outputId": "0392b6fe-7bca-460f-d79e-3fa30e7366ca",
        "colab": {
          "base_uri": "https://localhost:8080/",
          "height": 423
        }
      },
      "outputs": [
        {
          "output_type": "execute_result",
          "data": {
            "text/plain": [
              "     heart_rate  temperature  SpO2_saturation\n",
              "0          70.0         38.6             88.0\n",
              "1          74.0         39.6             88.0\n",
              "2          82.0         37.2             98.0\n",
              "3          90.0         38.6             98.0\n",
              "4          72.0         39.6             93.0\n",
              "..          ...          ...              ...\n",
              "742       113.0         38.5             87.3\n",
              "743       114.0         38.5             87.3\n",
              "763       108.0         38.5             87.3\n",
              "796       115.0         38.5             87.3\n",
              "800       115.0         38.5             87.3\n",
              "\n",
              "[526 rows x 3 columns]"
            ],
            "text/html": [
              "\n",
              "  <div id=\"df-8fb7bbb5-43e3-483d-9f66-35d00a42e68b\" class=\"colab-df-container\">\n",
              "    <div>\n",
              "<style scoped>\n",
              "    .dataframe tbody tr th:only-of-type {\n",
              "        vertical-align: middle;\n",
              "    }\n",
              "\n",
              "    .dataframe tbody tr th {\n",
              "        vertical-align: top;\n",
              "    }\n",
              "\n",
              "    .dataframe thead th {\n",
              "        text-align: right;\n",
              "    }\n",
              "</style>\n",
              "<table border=\"1\" class=\"dataframe\">\n",
              "  <thead>\n",
              "    <tr style=\"text-align: right;\">\n",
              "      <th></th>\n",
              "      <th>heart_rate</th>\n",
              "      <th>temperature</th>\n",
              "      <th>SpO2_saturation</th>\n",
              "    </tr>\n",
              "  </thead>\n",
              "  <tbody>\n",
              "    <tr>\n",
              "      <th>0</th>\n",
              "      <td>70.0</td>\n",
              "      <td>38.6</td>\n",
              "      <td>88.0</td>\n",
              "    </tr>\n",
              "    <tr>\n",
              "      <th>1</th>\n",
              "      <td>74.0</td>\n",
              "      <td>39.6</td>\n",
              "      <td>88.0</td>\n",
              "    </tr>\n",
              "    <tr>\n",
              "      <th>2</th>\n",
              "      <td>82.0</td>\n",
              "      <td>37.2</td>\n",
              "      <td>98.0</td>\n",
              "    </tr>\n",
              "    <tr>\n",
              "      <th>3</th>\n",
              "      <td>90.0</td>\n",
              "      <td>38.6</td>\n",
              "      <td>98.0</td>\n",
              "    </tr>\n",
              "    <tr>\n",
              "      <th>4</th>\n",
              "      <td>72.0</td>\n",
              "      <td>39.6</td>\n",
              "      <td>93.0</td>\n",
              "    </tr>\n",
              "    <tr>\n",
              "      <th>...</th>\n",
              "      <td>...</td>\n",
              "      <td>...</td>\n",
              "      <td>...</td>\n",
              "    </tr>\n",
              "    <tr>\n",
              "      <th>742</th>\n",
              "      <td>113.0</td>\n",
              "      <td>38.5</td>\n",
              "      <td>87.3</td>\n",
              "    </tr>\n",
              "    <tr>\n",
              "      <th>743</th>\n",
              "      <td>114.0</td>\n",
              "      <td>38.5</td>\n",
              "      <td>87.3</td>\n",
              "    </tr>\n",
              "    <tr>\n",
              "      <th>763</th>\n",
              "      <td>108.0</td>\n",
              "      <td>38.5</td>\n",
              "      <td>87.3</td>\n",
              "    </tr>\n",
              "    <tr>\n",
              "      <th>796</th>\n",
              "      <td>115.0</td>\n",
              "      <td>38.5</td>\n",
              "      <td>87.3</td>\n",
              "    </tr>\n",
              "    <tr>\n",
              "      <th>800</th>\n",
              "      <td>115.0</td>\n",
              "      <td>38.5</td>\n",
              "      <td>87.3</td>\n",
              "    </tr>\n",
              "  </tbody>\n",
              "</table>\n",
              "<p>526 rows × 3 columns</p>\n",
              "</div>\n",
              "    <div class=\"colab-df-buttons\">\n",
              "\n",
              "  <div class=\"colab-df-container\">\n",
              "    <button class=\"colab-df-convert\" onclick=\"convertToInteractive('df-8fb7bbb5-43e3-483d-9f66-35d00a42e68b')\"\n",
              "            title=\"Convert this dataframe to an interactive table.\"\n",
              "            style=\"display:none;\">\n",
              "\n",
              "  <svg xmlns=\"http://www.w3.org/2000/svg\" height=\"24px\" viewBox=\"0 -960 960 960\">\n",
              "    <path d=\"M120-120v-720h720v720H120Zm60-500h600v-160H180v160Zm220 220h160v-160H400v160Zm0 220h160v-160H400v160ZM180-400h160v-160H180v160Zm440 0h160v-160H620v160ZM180-180h160v-160H180v160Zm440 0h160v-160H620v160Z\"/>\n",
              "  </svg>\n",
              "    </button>\n",
              "\n",
              "  <style>\n",
              "    .colab-df-container {\n",
              "      display:flex;\n",
              "      gap: 12px;\n",
              "    }\n",
              "\n",
              "    .colab-df-convert {\n",
              "      background-color: #E8F0FE;\n",
              "      border: none;\n",
              "      border-radius: 50%;\n",
              "      cursor: pointer;\n",
              "      display: none;\n",
              "      fill: #1967D2;\n",
              "      height: 32px;\n",
              "      padding: 0 0 0 0;\n",
              "      width: 32px;\n",
              "    }\n",
              "\n",
              "    .colab-df-convert:hover {\n",
              "      background-color: #E2EBFA;\n",
              "      box-shadow: 0px 1px 2px rgba(60, 64, 67, 0.3), 0px 1px 3px 1px rgba(60, 64, 67, 0.15);\n",
              "      fill: #174EA6;\n",
              "    }\n",
              "\n",
              "    .colab-df-buttons div {\n",
              "      margin-bottom: 4px;\n",
              "    }\n",
              "\n",
              "    [theme=dark] .colab-df-convert {\n",
              "      background-color: #3B4455;\n",
              "      fill: #D2E3FC;\n",
              "    }\n",
              "\n",
              "    [theme=dark] .colab-df-convert:hover {\n",
              "      background-color: #434B5C;\n",
              "      box-shadow: 0px 1px 3px 1px rgba(0, 0, 0, 0.15);\n",
              "      filter: drop-shadow(0px 1px 2px rgba(0, 0, 0, 0.3));\n",
              "      fill: #FFFFFF;\n",
              "    }\n",
              "  </style>\n",
              "\n",
              "    <script>\n",
              "      const buttonEl =\n",
              "        document.querySelector('#df-8fb7bbb5-43e3-483d-9f66-35d00a42e68b button.colab-df-convert');\n",
              "      buttonEl.style.display =\n",
              "        google.colab.kernel.accessAllowed ? 'block' : 'none';\n",
              "\n",
              "      async function convertToInteractive(key) {\n",
              "        const element = document.querySelector('#df-8fb7bbb5-43e3-483d-9f66-35d00a42e68b');\n",
              "        const dataTable =\n",
              "          await google.colab.kernel.invokeFunction('convertToInteractive',\n",
              "                                                    [key], {});\n",
              "        if (!dataTable) return;\n",
              "\n",
              "        const docLinkHtml = 'Like what you see? Visit the ' +\n",
              "          '<a target=\"_blank\" href=https://colab.research.google.com/notebooks/data_table.ipynb>data table notebook</a>'\n",
              "          + ' to learn more about interactive tables.';\n",
              "        element.innerHTML = '';\n",
              "        dataTable['output_type'] = 'display_data';\n",
              "        await google.colab.output.renderOutput(dataTable, element);\n",
              "        const docLink = document.createElement('div');\n",
              "        docLink.innerHTML = docLinkHtml;\n",
              "        element.appendChild(docLink);\n",
              "      }\n",
              "    </script>\n",
              "  </div>\n",
              "\n",
              "\n",
              "<div id=\"df-c45812e7-aaab-48e2-bac3-09e7312dd71c\">\n",
              "  <button class=\"colab-df-quickchart\" onclick=\"quickchart('df-c45812e7-aaab-48e2-bac3-09e7312dd71c')\"\n",
              "            title=\"Suggest charts\"\n",
              "            style=\"display:none;\">\n",
              "\n",
              "<svg xmlns=\"http://www.w3.org/2000/svg\" height=\"24px\"viewBox=\"0 0 24 24\"\n",
              "     width=\"24px\">\n",
              "    <g>\n",
              "        <path d=\"M19 3H5c-1.1 0-2 .9-2 2v14c0 1.1.9 2 2 2h14c1.1 0 2-.9 2-2V5c0-1.1-.9-2-2-2zM9 17H7v-7h2v7zm4 0h-2V7h2v10zm4 0h-2v-4h2v4z\"/>\n",
              "    </g>\n",
              "</svg>\n",
              "  </button>\n",
              "\n",
              "<style>\n",
              "  .colab-df-quickchart {\n",
              "      --bg-color: #E8F0FE;\n",
              "      --fill-color: #1967D2;\n",
              "      --hover-bg-color: #E2EBFA;\n",
              "      --hover-fill-color: #174EA6;\n",
              "      --disabled-fill-color: #AAA;\n",
              "      --disabled-bg-color: #DDD;\n",
              "  }\n",
              "\n",
              "  [theme=dark] .colab-df-quickchart {\n",
              "      --bg-color: #3B4455;\n",
              "      --fill-color: #D2E3FC;\n",
              "      --hover-bg-color: #434B5C;\n",
              "      --hover-fill-color: #FFFFFF;\n",
              "      --disabled-bg-color: #3B4455;\n",
              "      --disabled-fill-color: #666;\n",
              "  }\n",
              "\n",
              "  .colab-df-quickchart {\n",
              "    background-color: var(--bg-color);\n",
              "    border: none;\n",
              "    border-radius: 50%;\n",
              "    cursor: pointer;\n",
              "    display: none;\n",
              "    fill: var(--fill-color);\n",
              "    height: 32px;\n",
              "    padding: 0;\n",
              "    width: 32px;\n",
              "  }\n",
              "\n",
              "  .colab-df-quickchart:hover {\n",
              "    background-color: var(--hover-bg-color);\n",
              "    box-shadow: 0 1px 2px rgba(60, 64, 67, 0.3), 0 1px 3px 1px rgba(60, 64, 67, 0.15);\n",
              "    fill: var(--button-hover-fill-color);\n",
              "  }\n",
              "\n",
              "  .colab-df-quickchart-complete:disabled,\n",
              "  .colab-df-quickchart-complete:disabled:hover {\n",
              "    background-color: var(--disabled-bg-color);\n",
              "    fill: var(--disabled-fill-color);\n",
              "    box-shadow: none;\n",
              "  }\n",
              "\n",
              "  .colab-df-spinner {\n",
              "    border: 2px solid var(--fill-color);\n",
              "    border-color: transparent;\n",
              "    border-bottom-color: var(--fill-color);\n",
              "    animation:\n",
              "      spin 1s steps(1) infinite;\n",
              "  }\n",
              "\n",
              "  @keyframes spin {\n",
              "    0% {\n",
              "      border-color: transparent;\n",
              "      border-bottom-color: var(--fill-color);\n",
              "      border-left-color: var(--fill-color);\n",
              "    }\n",
              "    20% {\n",
              "      border-color: transparent;\n",
              "      border-left-color: var(--fill-color);\n",
              "      border-top-color: var(--fill-color);\n",
              "    }\n",
              "    30% {\n",
              "      border-color: transparent;\n",
              "      border-left-color: var(--fill-color);\n",
              "      border-top-color: var(--fill-color);\n",
              "      border-right-color: var(--fill-color);\n",
              "    }\n",
              "    40% {\n",
              "      border-color: transparent;\n",
              "      border-right-color: var(--fill-color);\n",
              "      border-top-color: var(--fill-color);\n",
              "    }\n",
              "    60% {\n",
              "      border-color: transparent;\n",
              "      border-right-color: var(--fill-color);\n",
              "    }\n",
              "    80% {\n",
              "      border-color: transparent;\n",
              "      border-right-color: var(--fill-color);\n",
              "      border-bottom-color: var(--fill-color);\n",
              "    }\n",
              "    90% {\n",
              "      border-color: transparent;\n",
              "      border-bottom-color: var(--fill-color);\n",
              "    }\n",
              "  }\n",
              "</style>\n",
              "\n",
              "  <script>\n",
              "    async function quickchart(key) {\n",
              "      const quickchartButtonEl =\n",
              "        document.querySelector('#' + key + ' button');\n",
              "      quickchartButtonEl.disabled = true;  // To prevent multiple clicks.\n",
              "      quickchartButtonEl.classList.add('colab-df-spinner');\n",
              "      try {\n",
              "        const charts = await google.colab.kernel.invokeFunction(\n",
              "            'suggestCharts', [key], {});\n",
              "      } catch (error) {\n",
              "        console.error('Error during call to suggestCharts:', error);\n",
              "      }\n",
              "      quickchartButtonEl.classList.remove('colab-df-spinner');\n",
              "      quickchartButtonEl.classList.add('colab-df-quickchart-complete');\n",
              "    }\n",
              "    (() => {\n",
              "      let quickchartButtonEl =\n",
              "        document.querySelector('#df-c45812e7-aaab-48e2-bac3-09e7312dd71c button');\n",
              "      quickchartButtonEl.style.display =\n",
              "        google.colab.kernel.accessAllowed ? 'block' : 'none';\n",
              "    })();\n",
              "  </script>\n",
              "</div>\n",
              "\n",
              "  <div id=\"id_6095e769-1e18-49f7-8149-72f04f261dfc\">\n",
              "    <style>\n",
              "      .colab-df-generate {\n",
              "        background-color: #E8F0FE;\n",
              "        border: none;\n",
              "        border-radius: 50%;\n",
              "        cursor: pointer;\n",
              "        display: none;\n",
              "        fill: #1967D2;\n",
              "        height: 32px;\n",
              "        padding: 0 0 0 0;\n",
              "        width: 32px;\n",
              "      }\n",
              "\n",
              "      .colab-df-generate:hover {\n",
              "        background-color: #E2EBFA;\n",
              "        box-shadow: 0px 1px 2px rgba(60, 64, 67, 0.3), 0px 1px 3px 1px rgba(60, 64, 67, 0.15);\n",
              "        fill: #174EA6;\n",
              "      }\n",
              "\n",
              "      [theme=dark] .colab-df-generate {\n",
              "        background-color: #3B4455;\n",
              "        fill: #D2E3FC;\n",
              "      }\n",
              "\n",
              "      [theme=dark] .colab-df-generate:hover {\n",
              "        background-color: #434B5C;\n",
              "        box-shadow: 0px 1px 3px 1px rgba(0, 0, 0, 0.15);\n",
              "        filter: drop-shadow(0px 1px 2px rgba(0, 0, 0, 0.3));\n",
              "        fill: #FFFFFF;\n",
              "      }\n",
              "    </style>\n",
              "    <button class=\"colab-df-generate\" onclick=\"generateWithVariable('X')\"\n",
              "            title=\"Generate code using this dataframe.\"\n",
              "            style=\"display:none;\">\n",
              "\n",
              "  <svg xmlns=\"http://www.w3.org/2000/svg\" height=\"24px\"viewBox=\"0 0 24 24\"\n",
              "       width=\"24px\">\n",
              "    <path d=\"M7,19H8.4L18.45,9,17,7.55,7,17.6ZM5,21V16.75L18.45,3.32a2,2,0,0,1,2.83,0l1.4,1.43a1.91,1.91,0,0,1,.58,1.4,1.91,1.91,0,0,1-.58,1.4L9.25,21ZM18.45,9,17,7.55Zm-12,3A5.31,5.31,0,0,0,4.9,8.1,5.31,5.31,0,0,0,1,6.5,5.31,5.31,0,0,0,4.9,4.9,5.31,5.31,0,0,0,6.5,1,5.31,5.31,0,0,0,8.1,4.9,5.31,5.31,0,0,0,12,6.5,5.46,5.46,0,0,0,6.5,12Z\"/>\n",
              "  </svg>\n",
              "    </button>\n",
              "    <script>\n",
              "      (() => {\n",
              "      const buttonEl =\n",
              "        document.querySelector('#id_6095e769-1e18-49f7-8149-72f04f261dfc button.colab-df-generate');\n",
              "      buttonEl.style.display =\n",
              "        google.colab.kernel.accessAllowed ? 'block' : 'none';\n",
              "\n",
              "      buttonEl.onclick = () => {\n",
              "        google.colab.notebook.generateWithVariable('X');\n",
              "      }\n",
              "      })();\n",
              "    </script>\n",
              "  </div>\n",
              "\n",
              "    </div>\n",
              "  </div>\n"
            ],
            "application/vnd.google.colaboratory.intrinsic+json": {
              "type": "dataframe",
              "variable_name": "X",
              "summary": "{\n  \"name\": \"X\",\n  \"rows\": 526,\n  \"fields\": [\n    {\n      \"column\": \"heart_rate\",\n      \"properties\": {\n        \"dtype\": \"number\",\n        \"std\": 15.291015137769923,\n        \"min\": 48.0,\n        \"max\": 119.0,\n        \"num_unique_values\": 67,\n        \"samples\": [\n          93.0,\n          88.0,\n          72.0\n        ],\n        \"semantic_type\": \"\",\n        \"description\": \"\"\n      }\n    },\n    {\n      \"column\": \"temperature\",\n      \"properties\": {\n        \"dtype\": \"number\",\n        \"std\": 0.7693388316692308,\n        \"min\": 36.0,\n        \"max\": 40.0,\n        \"num_unique_values\": 28,\n        \"samples\": [\n          36.9,\n          37.0,\n          39.0\n        ],\n        \"semantic_type\": \"\",\n        \"description\": \"\"\n      }\n    },\n    {\n      \"column\": \"SpO2_saturation\",\n      \"properties\": {\n        \"dtype\": \"number\",\n        \"std\": 20.36121188820549,\n        \"min\": 20.0,\n        \"max\": 99.0,\n        \"num_unique_values\": 33,\n        \"samples\": [\n          99.0,\n          90.0,\n          30.0\n        ],\n        \"semantic_type\": \"\",\n        \"description\": \"\"\n      }\n    }\n  ]\n}"
            }
          },
          "metadata": {},
          "execution_count": 39
        }
      ],
      "source": [
        "X"
      ]
    },
    {
      "cell_type": "code",
      "execution_count": 40,
      "id": "1c574e38-29a7-44fc-8983-e24a3f264f6b",
      "metadata": {
        "id": "1c574e38-29a7-44fc-8983-e24a3f264f6b"
      },
      "outputs": [],
      "source": [
        "y = data.iloc[:,3].astype(int)"
      ]
    },
    {
      "cell_type": "code",
      "execution_count": 41,
      "id": "51060de4-0256-4e3e-915f-488cc6f28cb7",
      "metadata": {
        "id": "51060de4-0256-4e3e-915f-488cc6f28cb7",
        "outputId": "4328f83f-0a1b-4896-de21-1ffe01f99ec8",
        "colab": {
          "base_uri": "https://localhost:8080/"
        }
      },
      "outputs": [
        {
          "output_type": "execute_result",
          "data": {
            "text/plain": [
              "0      1\n",
              "1      1\n",
              "2      0\n",
              "3      1\n",
              "4      1\n",
              "      ..\n",
              "742    1\n",
              "743    1\n",
              "763    1\n",
              "796    1\n",
              "800    2\n",
              "Name: health_condition, Length: 526, dtype: int64"
            ]
          },
          "metadata": {},
          "execution_count": 41
        }
      ],
      "source": [
        "y"
      ]
    },
    {
      "cell_type": "code",
      "execution_count": 42,
      "id": "fbe2290c-0f0d-4331-ad3a-ecb9242f3c9e",
      "metadata": {
        "id": "fbe2290c-0f0d-4331-ad3a-ecb9242f3c9e"
      },
      "outputs": [],
      "source": [
        "X_train, X_test, y_train, y_test = train_test_split(X, y, train_size=0.7, random_state=42)"
      ]
    },
    {
      "cell_type": "code",
      "execution_count": 43,
      "id": "dd998b57-56c1-4e20-ab77-b565e45693f6",
      "metadata": {
        "id": "dd998b57-56c1-4e20-ab77-b565e45693f6",
        "outputId": "4b3adf3c-188b-445b-9ccf-ae08c804dc5a",
        "colab": {
          "base_uri": "https://localhost:8080/"
        }
      },
      "outputs": [
        {
          "output_type": "execute_result",
          "data": {
            "text/plain": [
              "[[83.0, 38.0, 89.0],\n",
              " [90.0, 40.0, 88.0],\n",
              " [71.0, 38.0, 97.0],\n",
              " [56.0, 38.1, 20.0],\n",
              " [59.0, 38.1, 65.0],\n",
              " [88.0, 39.6, 96.0],\n",
              " [79.0, 37.9, 89.0],\n",
              " [89.0, 38.3, 88.0],\n",
              " [82.0, 38.9, 75.0],\n",
              " [72.0, 37.2, 93.0],\n",
              " [85.0, 38.0, 97.0],\n",
              " [68.0, 38.0, 91.0],\n",
              " [98.0, 38.5, 85.0],\n",
              " [80.0, 37.1, 96.0],\n",
              " [78.0, 38.6, 70.0],\n",
              " [101.0, 38.5, 85.0],\n",
              " [58.0, 38.1, 30.0],\n",
              " [90.0, 38.6, 98.0],\n",
              " [92.0, 38.0, 89.0],\n",
              " [62.0, 38.5, 79.0],\n",
              " [80.0, 37.5, 91.0],\n",
              " [80.0, 38.0, 97.0],\n",
              " [61.0, 38.1, 55.0],\n",
              " [72.0, 39.0, 85.0],\n",
              " [101.0, 39.6, 96.0],\n",
              " [102.0, 38.5, 79.0],\n",
              " [66.0, 37.8, 85.0],\n",
              " [78.0, 39.6, 96.0],\n",
              " [72.0, 39.6, 97.0],\n",
              " [64.0, 36.4, 85.0],\n",
              " [97.0, 36.8, 95.0],\n",
              " [78.0, 38.0, 97.0],\n",
              " [76.0, 37.2, 96.0],\n",
              " [61.0, 36.4, 82.0],\n",
              " [93.0, 38.5, 85.0],\n",
              " [91.0, 38.0, 97.0],\n",
              " [79.0, 38.0, 97.0],\n",
              " [93.0, 39.0, 85.0],\n",
              " [58.0, 37.5, 85.0],\n",
              " [76.0, 36.9, 98.0],\n",
              " [87.0, 36.9, 70.0],\n",
              " [103.0, 37.2, 82.0],\n",
              " [59.0, 37.8, 85.0],\n",
              " [89.0, 37.7, 95.0],\n",
              " [62.0, 38.1, 98.0],\n",
              " [88.0, 38.9, 75.0],\n",
              " [62.0, 38.1, 70.0],\n",
              " [96.0, 38.2, 92.0],\n",
              " [91.0, 36.7, 88.0],\n",
              " [94.0, 39.6, 82.0],\n",
              " [108.0, 38.5, 99.0],\n",
              " [65.0, 36.5, 91.0],\n",
              " [60.0, 38.1, 45.0],\n",
              " [62.0, 39.6, 85.0],\n",
              " [66.0, 36.5, 85.0],\n",
              " [81.0, 39.0, 30.0],\n",
              " [70.0, 39.0, 30.0],\n",
              " [91.0, 38.0, 89.0],\n",
              " [62.0, 36.5, 85.0],\n",
              " [69.0, 36.5, 61.3],\n",
              " [83.0, 38.0, 97.0],\n",
              " [91.0, 38.9, 85.0],\n",
              " [117.0, 37.2, 82.0],\n",
              " [72.0, 37.8, 92.0],\n",
              " [62.0, 37.2, 82.0],\n",
              " [96.0, 38.0, 89.0],\n",
              " [70.0, 37.6, 30.0],\n",
              " [99.0, 39.0, 85.0],\n",
              " [65.0, 38.1, 40.0],\n",
              " [76.0, 37.5, 88.0],\n",
              " [92.0, 36.9, 92.0],\n",
              " [65.0, 37.8, 85.0],\n",
              " [65.0, 38.0, 85.0],\n",
              " [63.0, 39.0, 70.0],\n",
              " [86.0, 38.9, 75.0],\n",
              " [77.0, 37.8, 91.0],\n",
              " [86.0, 38.5, 75.0],\n",
              " [76.0, 39.0, 85.0],\n",
              " [90.0, 38.5, 85.0],\n",
              " [86.0, 38.0, 97.0],\n",
              " [71.0, 38.3, 70.0],\n",
              " [92.0, 38.5, 85.0],\n",
              " [93.0, 38.9, 75.0],\n",
              " [63.0, 38.1, 20.0],\n",
              " [72.0, 37.3, 97.0],\n",
              " [105.0, 39.0, 85.0],\n",
              " [94.0, 38.9, 85.0],\n",
              " [70.0, 37.9, 85.0],\n",
              " [95.0, 38.9, 75.0],\n",
              " [75.0, 39.0, 30.0],\n",
              " [67.0, 38.1, 55.0],\n",
              " [82.0, 37.6, 84.0],\n",
              " [87.0, 37.2, 96.0],\n",
              " [63.0, 37.8, 70.0],\n",
              " [85.0, 37.2, 82.0],\n",
              " [76.0, 37.9, 89.0],\n",
              " [62.0, 38.1, 55.0],\n",
              " [87.0, 38.5, 79.0],\n",
              " [90.0, 38.9, 75.0],\n",
              " [86.0, 37.5, 91.0],\n",
              " [82.0, 38.0, 97.0],\n",
              " [89.0, 38.5, 85.0],\n",
              " [69.0, 38.1, 70.0],\n",
              " [56.0, 38.1, 40.0],\n",
              " [65.0, 37.2, 82.0],\n",
              " [64.0, 39.0, 30.0],\n",
              " [97.0, 37.2, 96.0],\n",
              " [67.0, 38.1, 75.0],\n",
              " [67.0, 36.5, 70.0],\n",
              " [67.0, 38.1, 70.0],\n",
              " [87.0, 39.6, 82.0],\n",
              " [73.0, 37.6, 30.0],\n",
              " [82.0, 37.2, 82.0],\n",
              " [93.0, 38.5, 75.0],\n",
              " [76.0, 37.6, 30.0],\n",
              " [80.0, 38.0, 82.0],\n",
              " [78.0, 38.1, 30.0],\n",
              " [72.0, 37.8, 70.0],\n",
              " [105.0, 39.6, 82.0],\n",
              " [86.0, 38.0, 89.0],\n",
              " [93.0, 37.6, 84.0],\n",
              " [68.0, 36.5, 70.0],\n",
              " [66.0, 37.6, 30.0],\n",
              " [67.0, 38.1, 35.0],\n",
              " [90.0, 38.0, 82.0],\n",
              " [64.0, 37.8, 85.0],\n",
              " [62.0, 36.9, 70.0],\n",
              " [90.0, 38.0, 89.0],\n",
              " [104.0, 38.9, 75.0],\n",
              " [79.0, 38.9, 75.0],\n",
              " [66.0, 38.1, 35.0],\n",
              " [94.0, 38.9, 75.0],\n",
              " [72.0, 37.6, 30.0],\n",
              " [87.0, 38.9, 75.0],\n",
              " [86.0, 39.6, 82.0],\n",
              " [100.0, 38.5, 85.0],\n",
              " [80.0, 38.0, 90.0],\n",
              " [82.0, 37.7, 95.0],\n",
              " [86.0, 38.0, 98.0],\n",
              " [81.0, 37.2, 82.0],\n",
              " [90.0, 38.0, 79.0],\n",
              " [80.0, 38.9, 75.0],\n",
              " [66.0, 38.1, 80.0],\n",
              " [68.0, 39.0, 30.0],\n",
              " [76.0, 38.9, 75.0],\n",
              " [62.0, 38.1, 40.0],\n",
              " [110.0, 38.5, 85.0],\n",
              " [77.0, 38.9, 75.0],\n",
              " [57.0, 38.1, 30.0],\n",
              " [61.0, 38.1, 25.0],\n",
              " [84.0, 38.0, 97.0],\n",
              " [61.0, 38.0, 85.0],\n",
              " [77.0, 38.5, 75.0],\n",
              " [60.0, 38.1, 30.0],\n",
              " [56.0, 38.1, 55.0],\n",
              " [109.0, 38.5, 40.0],\n",
              " [75.0, 37.6, 30.0],\n",
              " [94.0, 38.0, 90.0],\n",
              " [93.0, 38.5, 88.0],\n",
              " [72.0, 38.0, 95.0],\n",
              " [64.0, 38.0, 85.0],\n",
              " [99.0, 38.9, 75.0],\n",
              " [98.0, 39.6, 82.0],\n",
              " [63.0, 36.5, 70.0],\n",
              " [80.0, 37.9, 85.0],\n",
              " [82.0, 38.0, 90.0],\n",
              " [87.0, 38.0, 97.0],\n",
              " [77.0, 38.0, 84.0],\n",
              " [64.0, 38.1, 80.0],\n",
              " [75.0, 38.0, 90.0],\n",
              " [67.0, 38.3, 70.0],\n",
              " [58.0, 38.1, 45.0],\n",
              " [65.0, 38.6, 82.0],\n",
              " [109.0, 38.5, 99.0],\n",
              " [104.0, 37.6, 84.0],\n",
              " [60.0, 38.1, 98.0],\n",
              " [77.0, 38.0, 97.0],\n",
              " [78.0, 39.0, 30.0],\n",
              " [54.0, 38.1, 70.0],\n",
              " [113.0, 38.0, 82.0],\n",
              " [63.0, 38.1, 55.0],\n",
              " [77.0, 38.0, 91.0],\n",
              " [96.0, 38.5, 85.0],\n",
              " [67.0, 38.0, 91.0],\n",
              " [112.0, 39.0, 85.0],\n",
              " [77.0, 37.8, 98.0],\n",
              " [94.0, 38.0, 89.0],\n",
              " [63.0, 36.5, 85.0],\n",
              " [65.0, 39.0, 30.0],\n",
              " [63.0, 37.5, 89.0],\n",
              " [63.0, 37.2, 70.0],\n",
              " [75.0, 39.6, 96.0],\n",
              " [75.0, 37.2, 96.0],\n",
              " [62.0, 37.2, 85.0],\n",
              " [78.0, 37.2, 82.0],\n",
              " [64.0, 37.3, 97.0],\n",
              " [74.0, 39.0, 30.0],\n",
              " [86.0, 38.0, 90.0],\n",
              " [73.0, 38.0, 70.0],\n",
              " [100.0, 37.2, 91.0],\n",
              " [97.0, 38.0, 89.0],\n",
              " [61.0, 39.0, 30.0],\n",
              " [59.0, 38.1, 25.0],\n",
              " [77.0, 39.0, 30.0],\n",
              " [61.0, 37.8, 85.0],\n",
              " [95.0, 37.5, 91.0],\n",
              " [93.0, 36.1, 66.0],\n",
              " [80.0, 37.6, 30.0],\n",
              " [81.0, 36.9, 98.0],\n",
              " [119.0, 39.0, 85.0],\n",
              " [60.0, 38.1, 20.0],\n",
              " [81.0, 37.9, 89.0],\n",
              " [115.0, 38.5, 87.3],\n",
              " [72.0, 39.6, 93.0],\n",
              " [84.0, 37.9, 67.0],\n",
              " [92.0, 38.5, 88.0],\n",
              " [90.0, 39.0, 95.0],\n",
              " [110.0, 38.0, 90.0],\n",
              " [77.0, 38.5, 79.0],\n",
              " [79.0, 38.0, 98.0],\n",
              " [101.0, 36.8, 95.0],\n",
              " [61.0, 39.6, 85.0],\n",
              " [71.0, 36.5, 70.0],\n",
              " [109.0, 38.9, 75.0],\n",
              " [77.0, 38.0, 98.0],\n",
              " [89.0, 37.8, 91.0],\n",
              " [85.0, 37.8, 91.0],\n",
              " [80.0, 39.6, 96.0],\n",
              " [88.0, 38.9, 85.0],\n",
              " [87.0, 38.5, 75.0],\n",
              " [61.0, 39.0, 70.0],\n",
              " [92.0, 36.8, 88.0],\n",
              " [89.0, 37.2, 96.0],\n",
              " [68.0, 37.6, 30.0],\n",
              " [72.0, 38.0, 90.0],\n",
              " [78.0, 37.9, 85.0],\n",
              " [55.0, 38.1, 40.0],\n",
              " [81.0, 37.6, 84.0],\n",
              " [59.0, 38.0, 85.0],\n",
              " [72.0, 39.0, 30.0],\n",
              " [108.0, 38.5, 79.0],\n",
              " [85.0, 38.6, 82.0],\n",
              " [72.0, 37.8, 91.0],\n",
              " [95.0, 38.6, 82.0],\n",
              " [77.0, 39.6, 82.0],\n",
              " [109.0, 38.5, 85.0],\n",
              " [65.0, 37.2, 96.0],\n",
              " [83.0, 38.5, 75.0],\n",
              " [107.0, 38.5, 85.0],\n",
              " [66.0, 38.0, 91.0],\n",
              " [92.0, 38.9, 75.0],\n",
              " [73.0, 39.6, 70.0],\n",
              " [61.0, 37.2, 82.0],\n",
              " [79.0, 37.5, 91.0],\n",
              " [57.0, 38.1, 20.0],\n",
              " [97.0, 38.2, 92.0],\n",
              " [69.0, 38.3, 70.0],\n",
              " [105.0, 38.0, 98.0],\n",
              " [74.0, 37.6, 30.0],\n",
              " [85.0, 39.0, 85.0],\n",
              " [91.0, 38.5, 85.0],\n",
              " [90.0, 38.2, 87.0],\n",
              " [59.0, 38.1, 40.0],\n",
              " [88.0, 38.0, 89.0],\n",
              " [78.0, 36.9, 98.0],\n",
              " [80.0, 38.0, 98.0],\n",
              " [84.0, 38.9, 75.0],\n",
              " [97.0, 39.0, 85.0],\n",
              " [75.0, 37.9, 89.0],\n",
              " [110.0, 38.5, 87.3],\n",
              " [96.0, 39.0, 85.0],\n",
              " [67.0, 38.9, 75.0],\n",
              " [56.0, 38.1, 25.0],\n",
              " [90.0, 38.9, 85.0],\n",
              " [59.0, 39.0, 70.0],\n",
              " [64.0, 37.8, 89.0],\n",
              " [95.0, 37.8, 91.0],\n",
              " [89.0, 38.0, 98.0],\n",
              " [67.0, 39.0, 30.0],\n",
              " [63.0, 38.0, 85.0],\n",
              " [73.0, 38.9, 75.0],\n",
              " [84.0, 37.9, 85.0],\n",
              " [72.0, 38.0, 97.0],\n",
              " [68.0, 39.6, 91.0],\n",
              " [83.0, 39.0, 30.0],\n",
              " [74.0, 39.6, 88.0],\n",
              " [111.0, 38.5, 87.3],\n",
              " [109.0, 38.5, 65.0],\n",
              " [87.0, 37.2, 91.0],\n",
              " [68.0, 37.3, 97.0],\n",
              " [70.0, 36.5, 61.3],\n",
              " [57.0, 36.9, 96.0],\n",
              " [80.0, 37.2, 96.0],\n",
              " [74.0, 38.1, 70.0],\n",
              " [91.0, 38.1, 85.0],\n",
              " [73.0, 38.1, 70.0],\n",
              " [88.0, 38.5, 85.0],\n",
              " [61.0, 38.1, 80.0],\n",
              " [68.0, 36.5, 96.0],\n",
              " [58.0, 38.1, 20.0],\n",
              " [102.0, 38.5, 85.0],\n",
              " [78.0, 37.2, 91.0],\n",
              " [56.0, 38.1, 60.0],\n",
              " [80.0, 38.1, 85.0],\n",
              " [115.0, 38.0, 89.0],\n",
              " [94.0, 38.6, 70.0],\n",
              " [91.0, 38.9, 75.0],\n",
              " [87.0, 38.0, 93.0],\n",
              " [95.0, 38.1, 30.0],\n",
              " [68.0, 39.0, 85.0],\n",
              " [60.0, 36.5, 85.0],\n",
              " [90.0, 38.5, 75.0],\n",
              " [109.0, 38.5, 87.3],\n",
              " [91.0, 37.2, 82.0],\n",
              " [69.0, 38.9, 75.0],\n",
              " [107.0, 38.5, 35.0],\n",
              " [107.0, 38.9, 75.0],\n",
              " [80.0, 38.0, 89.0],\n",
              " [89.0, 37.2, 91.0],\n",
              " [63.0, 38.1, 80.0],\n",
              " [77.0, 39.6, 91.0],\n",
              " [96.0, 39.0, 95.0],\n",
              " [60.0, 36.4, 85.0],\n",
              " [66.0, 39.6, 80.0],\n",
              " [61.0, 37.5, 85.0],\n",
              " [108.0, 38.5, 87.3],\n",
              " [92.0, 37.5, 66.0],\n",
              " [58.0, 36.5, 85.0],\n",
              " [96.0, 39.4, 88.0],\n",
              " [60.0, 37.2, 85.0],\n",
              " [92.0, 36.4, 91.0],\n",
              " [95.0, 38.5, 88.0],\n",
              " [67.0, 36.5, 91.0],\n",
              " [55.0, 38.1, 45.0],\n",
              " [89.0, 38.0, 89.0],\n",
              " [84.0, 37.9, 89.0],\n",
              " [72.0, 37.2, 97.0],\n",
              " [83.0, 38.9, 75.0],\n",
              " [94.0, 36.1, 66.0],\n",
              " [65.0, 37.8, 89.0],\n",
              " [78.0, 39.0, 85.0],\n",
              " [69.0, 38.0, 90.0],\n",
              " [62.0, 38.0, 85.0],\n",
              " [61.0, 38.1, 30.0],\n",
              " [85.0, 38.9, 75.0],\n",
              " [77.0, 37.6, 30.0],\n",
              " [99.0, 38.5, 85.0],\n",
              " [55.0, 38.1, 80.0],\n",
              " [82.0, 37.9, 67.0],\n",
              " [71.0, 38.9, 75.0],\n",
              " [63.0, 37.2, 82.0],\n",
              " [72.0, 38.6, 82.0],\n",
              " [63.0, 39.6, 82.0],\n",
              " [62.0, 38.1, 20.0],\n",
              " [64.0, 36.5, 70.0],\n",
              " [64.0, 38.1, 35.0],\n",
              " [74.0, 38.0, 93.0],\n",
              " [93.0, 38.2, 66.0],\n",
              " [68.0, 38.1, 75.0],\n",
              " [99.0, 38.0, 98.0],\n",
              " [93.0, 36.8, 97.0],\n",
              " [83.0, 38.0, 84.0],\n",
              " [70.0, 39.6, 97.0],\n",
              " [68.0, 37.5, 91.0],\n",
              " [68.0, 38.0, 97.0],\n",
              " [94.0, 39.0, 85.0],\n",
              " [64.0, 38.1, 98.0],\n",
              " [92.0, 39.0, 95.0]]"
            ]
          },
          "metadata": {},
          "execution_count": 43
        }
      ],
      "source": [
        "X_train.values.tolist()"
      ]
    },
    {
      "cell_type": "code",
      "execution_count": 44,
      "id": "Sc6NkbVfjYJt",
      "metadata": {
        "id": "Sc6NkbVfjYJt"
      },
      "outputs": [],
      "source": [
        "# Convert to Pandas Series if y_train is a NumPy array\n",
        "if isinstance(y_train, np.ndarray):\n",
        "    y_train = pd.Series(y_train)"
      ]
    },
    {
      "cell_type": "code",
      "execution_count": 45,
      "id": "437734ae-7a8b-4634-9679-1c440212bd7f",
      "metadata": {
        "id": "437734ae-7a8b-4634-9679-1c440212bd7f",
        "outputId": "d34d1dfd-bcec-450d-abfe-cf589244ae38",
        "colab": {
          "base_uri": "https://localhost:8080/"
        }
      },
      "outputs": [
        {
          "output_type": "stream",
          "name": "stdout",
          "text": [
            "[1, 1, 1, 1, 1, 1, 1, 1, 1, 1, 1, 1, 1, 0, 1, 1, 1, 1, 1, 1, 1, 1, 1, 1, 1, 1, 1, 1, 1, 1, 0, 1, 0, 1, 1, 1, 1, 1, 1, 0, 1, 1, 1, 1, 1, 1, 1, 1, 1, 1, 1, 1, 1, 1, 1, 1, 1, 1, 1, 1, 1, 1, 1, 1, 1, 1, 1, 1, 1, 1, 1, 1, 1, 1, 1, 1, 1, 1, 1, 1, 1, 1, 1, 1, 1, 1, 1, 1, 1, 1, 1, 1, 0, 1, 1, 1, 1, 1, 1, 1, 1, 1, 1, 1, 1, 1, 0, 1, 1, 1, 1, 1, 1, 1, 1, 1, 1, 1, 1, 1, 1, 1, 1, 1, 1, 1, 1, 1, 1, 1, 1, 1, 1, 1, 1, 1, 1, 1, 1, 1, 1, 1, 1, 1, 1, 1, 1, 1, 1, 1, 1, 1, 1, 1, 1, 1, 1, 1, 1, 1, 1, 1, 1, 1, 1, 1, 1, 1, 1, 1, 1, 1, 1, 1, 1, 1, 1, 1, 1, 1, 1, 1, 1, 1, 1, 1, 1, 1, 1, 1, 1, 1, 0, 1, 1, 1, 1, 1, 1, 1, 1, 1, 1, 1, 1, 1, 1, 1, 0, 1, 1, 1, 1, 1, 1, 1, 1, 1, 1, 1, 1, 1, 1, 1, 1, 1, 1, 1, 1, 1, 1, 1, 0, 1, 1, 1, 1, 1, 1, 1, 1, 1, 1, 1, 1, 1, 0, 1, 1, 1, 1, 1, 1, 1, 1, 1, 1, 1, 1, 1, 1, 1, 1, 1, 0, 1, 1, 1, 1, 1, 1, 1, 1, 1, 1, 1, 1, 1, 1, 1, 1, 1, 1, 1, 1, 1, 1, 1, 1, 1, 1, 1, 0, 1, 1, 1, 1, 1, 0, 1, 1, 1, 1, 1, 1, 1, 1, 1, 1, 1, 1, 1, 1, 1, 1, 1, 1, 1, 1, 1, 1, 1, 1, 1, 1, 1, 1, 1, 1, 1, 1, 1, 1, 1, 1, 1, 0, 1, 1, 1, 1, 1, 1, 1, 1, 1, 1, 1, 1, 1, 1, 1, 1, 1, 1, 1, 1, 1, 1, 1, 0, 1, 1, 1, 1, 1, 1, 1]\n"
          ]
        }
      ],
      "source": [
        "# Now you can use y_train.values.tolist() if necessary\n",
        "y_train_list = y_train.values.tolist()\n",
        "print(y_train_list)"
      ]
    },
    {
      "cell_type": "code",
      "execution_count": 46,
      "id": "01aa50dd-9ffe-430a-9325-78fb8a3dec0e",
      "metadata": {
        "id": "01aa50dd-9ffe-430a-9325-78fb8a3dec0e",
        "outputId": "90638d27-4f8f-4f7a-87ca-1f40ff673966",
        "colab": {
          "base_uri": "https://localhost:8080/",
          "height": 74
        }
      },
      "outputs": [
        {
          "output_type": "execute_result",
          "data": {
            "text/plain": [
              "DecisionTreeClassifier(random_state=0)"
            ],
            "text/html": [
              "<style>#sk-container-id-1 {color: black;background-color: white;}#sk-container-id-1 pre{padding: 0;}#sk-container-id-1 div.sk-toggleable {background-color: white;}#sk-container-id-1 label.sk-toggleable__label {cursor: pointer;display: block;width: 100%;margin-bottom: 0;padding: 0.3em;box-sizing: border-box;text-align: center;}#sk-container-id-1 label.sk-toggleable__label-arrow:before {content: \"▸\";float: left;margin-right: 0.25em;color: #696969;}#sk-container-id-1 label.sk-toggleable__label-arrow:hover:before {color: black;}#sk-container-id-1 div.sk-estimator:hover label.sk-toggleable__label-arrow:before {color: black;}#sk-container-id-1 div.sk-toggleable__content {max-height: 0;max-width: 0;overflow: hidden;text-align: left;background-color: #f0f8ff;}#sk-container-id-1 div.sk-toggleable__content pre {margin: 0.2em;color: black;border-radius: 0.25em;background-color: #f0f8ff;}#sk-container-id-1 input.sk-toggleable__control:checked~div.sk-toggleable__content {max-height: 200px;max-width: 100%;overflow: auto;}#sk-container-id-1 input.sk-toggleable__control:checked~label.sk-toggleable__label-arrow:before {content: \"▾\";}#sk-container-id-1 div.sk-estimator input.sk-toggleable__control:checked~label.sk-toggleable__label {background-color: #d4ebff;}#sk-container-id-1 div.sk-label input.sk-toggleable__control:checked~label.sk-toggleable__label {background-color: #d4ebff;}#sk-container-id-1 input.sk-hidden--visually {border: 0;clip: rect(1px 1px 1px 1px);clip: rect(1px, 1px, 1px, 1px);height: 1px;margin: -1px;overflow: hidden;padding: 0;position: absolute;width: 1px;}#sk-container-id-1 div.sk-estimator {font-family: monospace;background-color: #f0f8ff;border: 1px dotted black;border-radius: 0.25em;box-sizing: border-box;margin-bottom: 0.5em;}#sk-container-id-1 div.sk-estimator:hover {background-color: #d4ebff;}#sk-container-id-1 div.sk-parallel-item::after {content: \"\";width: 100%;border-bottom: 1px solid gray;flex-grow: 1;}#sk-container-id-1 div.sk-label:hover label.sk-toggleable__label {background-color: #d4ebff;}#sk-container-id-1 div.sk-serial::before {content: \"\";position: absolute;border-left: 1px solid gray;box-sizing: border-box;top: 0;bottom: 0;left: 50%;z-index: 0;}#sk-container-id-1 div.sk-serial {display: flex;flex-direction: column;align-items: center;background-color: white;padding-right: 0.2em;padding-left: 0.2em;position: relative;}#sk-container-id-1 div.sk-item {position: relative;z-index: 1;}#sk-container-id-1 div.sk-parallel {display: flex;align-items: stretch;justify-content: center;background-color: white;position: relative;}#sk-container-id-1 div.sk-item::before, #sk-container-id-1 div.sk-parallel-item::before {content: \"\";position: absolute;border-left: 1px solid gray;box-sizing: border-box;top: 0;bottom: 0;left: 50%;z-index: -1;}#sk-container-id-1 div.sk-parallel-item {display: flex;flex-direction: column;z-index: 1;position: relative;background-color: white;}#sk-container-id-1 div.sk-parallel-item:first-child::after {align-self: flex-end;width: 50%;}#sk-container-id-1 div.sk-parallel-item:last-child::after {align-self: flex-start;width: 50%;}#sk-container-id-1 div.sk-parallel-item:only-child::after {width: 0;}#sk-container-id-1 div.sk-dashed-wrapped {border: 1px dashed gray;margin: 0 0.4em 0.5em 0.4em;box-sizing: border-box;padding-bottom: 0.4em;background-color: white;}#sk-container-id-1 div.sk-label label {font-family: monospace;font-weight: bold;display: inline-block;line-height: 1.2em;}#sk-container-id-1 div.sk-label-container {text-align: center;}#sk-container-id-1 div.sk-container {/* jupyter's `normalize.less` sets `[hidden] { display: none; }` but bootstrap.min.css set `[hidden] { display: none !important; }` so we also need the `!important` here to be able to override the default hidden behavior on the sphinx rendered scikit-learn.org. See: https://github.com/scikit-learn/scikit-learn/issues/21755 */display: inline-block !important;position: relative;}#sk-container-id-1 div.sk-text-repr-fallback {display: none;}</style><div id=\"sk-container-id-1\" class=\"sk-top-container\"><div class=\"sk-text-repr-fallback\"><pre>DecisionTreeClassifier(random_state=0)</pre><b>In a Jupyter environment, please rerun this cell to show the HTML representation or trust the notebook. <br />On GitHub, the HTML representation is unable to render, please try loading this page with nbviewer.org.</b></div><div class=\"sk-container\" hidden><div class=\"sk-item\"><div class=\"sk-estimator sk-toggleable\"><input class=\"sk-toggleable__control sk-hidden--visually\" id=\"sk-estimator-id-1\" type=\"checkbox\" checked><label for=\"sk-estimator-id-1\" class=\"sk-toggleable__label sk-toggleable__label-arrow\">DecisionTreeClassifier</label><div class=\"sk-toggleable__content\"><pre>DecisionTreeClassifier(random_state=0)</pre></div></div></div></div></div>"
            ]
          },
          "metadata": {},
          "execution_count": 46
        }
      ],
      "source": [
        "health_classifier = DecisionTreeClassifier(random_state = 0)\n",
        "health_classifier.fit(X_train, y_train)"
      ]
    },
    {
      "cell_type": "code",
      "execution_count": 47,
      "id": "82c869a1-bb28-48ee-996f-52ab26ec0cbc",
      "metadata": {
        "id": "82c869a1-bb28-48ee-996f-52ab26ec0cbc",
        "outputId": "30346b0e-a1c0-4a8b-e59d-f1e1054de08d",
        "colab": {
          "base_uri": "https://localhost:8080/",
          "height": 221
        }
      },
      "outputs": [
        {
          "output_type": "execute_result",
          "data": {
            "text/plain": [
              "sklearn.tree._classes.DecisionTreeClassifier"
            ],
            "text/html": [
              "<div style=\"max-width:800px; border: 1px solid var(--colab-border-color);\"><style>\n",
              "      pre.function-repr-contents {\n",
              "        overflow-x: auto;\n",
              "        padding: 8px 12px;\n",
              "        max-height: 500px;\n",
              "      }\n",
              "\n",
              "      pre.function-repr-contents.function-repr-contents-collapsed {\n",
              "        cursor: pointer;\n",
              "        max-height: 100px;\n",
              "      }\n",
              "    </style>\n",
              "    <pre style=\"white-space: initial; background:\n",
              "         var(--colab-secondary-surface-color); padding: 8px 12px;\n",
              "         border-bottom: 1px solid var(--colab-border-color);\"><b>sklearn.tree._classes.DecisionTreeClassifier</b><br/>def __init__(*, criterion=&#x27;gini&#x27;, splitter=&#x27;best&#x27;, max_depth=None, min_samples_split=2, min_samples_leaf=1, min_weight_fraction_leaf=0.0, max_features=None, random_state=None, max_leaf_nodes=None, min_impurity_decrease=0.0, class_weight=None, ccp_alpha=0.0)</pre><pre class=\"function-repr-contents function-repr-contents-collapsed\" style=\"\"><a class=\"filepath\" style=\"display:none\" href=\"#\">/usr/local/lib/python3.10/dist-packages/sklearn/tree/_classes.py</a>A decision tree classifier.\n",
              "\n",
              "Read more in the :ref:`User Guide &lt;tree&gt;`.\n",
              "\n",
              "Parameters\n",
              "----------\n",
              "criterion : {&quot;gini&quot;, &quot;entropy&quot;, &quot;log_loss&quot;}, default=&quot;gini&quot;\n",
              "    The function to measure the quality of a split. Supported criteria are\n",
              "    &quot;gini&quot; for the Gini impurity and &quot;log_loss&quot; and &quot;entropy&quot; both for the\n",
              "    Shannon information gain, see :ref:`tree_mathematical_formulation`.\n",
              "\n",
              "splitter : {&quot;best&quot;, &quot;random&quot;}, default=&quot;best&quot;\n",
              "    The strategy used to choose the split at each node. Supported\n",
              "    strategies are &quot;best&quot; to choose the best split and &quot;random&quot; to choose\n",
              "    the best random split.\n",
              "\n",
              "max_depth : int, default=None\n",
              "    The maximum depth of the tree. If None, then nodes are expanded until\n",
              "    all leaves are pure or until all leaves contain less than\n",
              "    min_samples_split samples.\n",
              "\n",
              "min_samples_split : int or float, default=2\n",
              "    The minimum number of samples required to split an internal node:\n",
              "\n",
              "    - If int, then consider `min_samples_split` as the minimum number.\n",
              "    - If float, then `min_samples_split` is a fraction and\n",
              "      `ceil(min_samples_split * n_samples)` are the minimum\n",
              "      number of samples for each split.\n",
              "\n",
              "    .. versionchanged:: 0.18\n",
              "       Added float values for fractions.\n",
              "\n",
              "min_samples_leaf : int or float, default=1\n",
              "    The minimum number of samples required to be at a leaf node.\n",
              "    A split point at any depth will only be considered if it leaves at\n",
              "    least ``min_samples_leaf`` training samples in each of the left and\n",
              "    right branches.  This may have the effect of smoothing the model,\n",
              "    especially in regression.\n",
              "\n",
              "    - If int, then consider `min_samples_leaf` as the minimum number.\n",
              "    - If float, then `min_samples_leaf` is a fraction and\n",
              "      `ceil(min_samples_leaf * n_samples)` are the minimum\n",
              "      number of samples for each node.\n",
              "\n",
              "    .. versionchanged:: 0.18\n",
              "       Added float values for fractions.\n",
              "\n",
              "min_weight_fraction_leaf : float, default=0.0\n",
              "    The minimum weighted fraction of the sum total of weights (of all\n",
              "    the input samples) required to be at a leaf node. Samples have\n",
              "    equal weight when sample_weight is not provided.\n",
              "\n",
              "max_features : int, float or {&quot;auto&quot;, &quot;sqrt&quot;, &quot;log2&quot;}, default=None\n",
              "    The number of features to consider when looking for the best split:\n",
              "\n",
              "        - If int, then consider `max_features` features at each split.\n",
              "        - If float, then `max_features` is a fraction and\n",
              "          `max(1, int(max_features * n_features_in_))` features are considered at\n",
              "          each split.\n",
              "        - If &quot;auto&quot;, then `max_features=sqrt(n_features)`.\n",
              "        - If &quot;sqrt&quot;, then `max_features=sqrt(n_features)`.\n",
              "        - If &quot;log2&quot;, then `max_features=log2(n_features)`.\n",
              "        - If None, then `max_features=n_features`.\n",
              "\n",
              "        .. deprecated:: 1.1\n",
              "            The `&quot;auto&quot;` option was deprecated in 1.1 and will be removed\n",
              "            in 1.3.\n",
              "\n",
              "    Note: the search for a split does not stop until at least one\n",
              "    valid partition of the node samples is found, even if it requires to\n",
              "    effectively inspect more than ``max_features`` features.\n",
              "\n",
              "random_state : int, RandomState instance or None, default=None\n",
              "    Controls the randomness of the estimator. The features are always\n",
              "    randomly permuted at each split, even if ``splitter`` is set to\n",
              "    ``&quot;best&quot;``. When ``max_features &lt; n_features``, the algorithm will\n",
              "    select ``max_features`` at random at each split before finding the best\n",
              "    split among them. But the best found split may vary across different\n",
              "    runs, even if ``max_features=n_features``. That is the case, if the\n",
              "    improvement of the criterion is identical for several splits and one\n",
              "    split has to be selected at random. To obtain a deterministic behaviour\n",
              "    during fitting, ``random_state`` has to be fixed to an integer.\n",
              "    See :term:`Glossary &lt;random_state&gt;` for details.\n",
              "\n",
              "max_leaf_nodes : int, default=None\n",
              "    Grow a tree with ``max_leaf_nodes`` in best-first fashion.\n",
              "    Best nodes are defined as relative reduction in impurity.\n",
              "    If None then unlimited number of leaf nodes.\n",
              "\n",
              "min_impurity_decrease : float, default=0.0\n",
              "    A node will be split if this split induces a decrease of the impurity\n",
              "    greater than or equal to this value.\n",
              "\n",
              "    The weighted impurity decrease equation is the following::\n",
              "\n",
              "        N_t / N * (impurity - N_t_R / N_t * right_impurity\n",
              "                            - N_t_L / N_t * left_impurity)\n",
              "\n",
              "    where ``N`` is the total number of samples, ``N_t`` is the number of\n",
              "    samples at the current node, ``N_t_L`` is the number of samples in the\n",
              "    left child, and ``N_t_R`` is the number of samples in the right child.\n",
              "\n",
              "    ``N``, ``N_t``, ``N_t_R`` and ``N_t_L`` all refer to the weighted sum,\n",
              "    if ``sample_weight`` is passed.\n",
              "\n",
              "    .. versionadded:: 0.19\n",
              "\n",
              "class_weight : dict, list of dict or &quot;balanced&quot;, default=None\n",
              "    Weights associated with classes in the form ``{class_label: weight}``.\n",
              "    If None, all classes are supposed to have weight one. For\n",
              "    multi-output problems, a list of dicts can be provided in the same\n",
              "    order as the columns of y.\n",
              "\n",
              "    Note that for multioutput (including multilabel) weights should be\n",
              "    defined for each class of every column in its own dict. For example,\n",
              "    for four-class multilabel classification weights should be\n",
              "    [{0: 1, 1: 1}, {0: 1, 1: 5}, {0: 1, 1: 1}, {0: 1, 1: 1}] instead of\n",
              "    [{1:1}, {2:5}, {3:1}, {4:1}].\n",
              "\n",
              "    The &quot;balanced&quot; mode uses the values of y to automatically adjust\n",
              "    weights inversely proportional to class frequencies in the input data\n",
              "    as ``n_samples / (n_classes * np.bincount(y))``\n",
              "\n",
              "    For multi-output, the weights of each column of y will be multiplied.\n",
              "\n",
              "    Note that these weights will be multiplied with sample_weight (passed\n",
              "    through the fit method) if sample_weight is specified.\n",
              "\n",
              "ccp_alpha : non-negative float, default=0.0\n",
              "    Complexity parameter used for Minimal Cost-Complexity Pruning. The\n",
              "    subtree with the largest cost complexity that is smaller than\n",
              "    ``ccp_alpha`` will be chosen. By default, no pruning is performed. See\n",
              "    :ref:`minimal_cost_complexity_pruning` for details.\n",
              "\n",
              "    .. versionadded:: 0.22\n",
              "\n",
              "Attributes\n",
              "----------\n",
              "classes_ : ndarray of shape (n_classes,) or list of ndarray\n",
              "    The classes labels (single output problem),\n",
              "    or a list of arrays of class labels (multi-output problem).\n",
              "\n",
              "feature_importances_ : ndarray of shape (n_features,)\n",
              "    The impurity-based feature importances.\n",
              "    The higher, the more important the feature.\n",
              "    The importance of a feature is computed as the (normalized)\n",
              "    total reduction of the criterion brought by that feature.  It is also\n",
              "    known as the Gini importance [4]_.\n",
              "\n",
              "    Warning: impurity-based feature importances can be misleading for\n",
              "    high cardinality features (many unique values). See\n",
              "    :func:`sklearn.inspection.permutation_importance` as an alternative.\n",
              "\n",
              "max_features_ : int\n",
              "    The inferred value of max_features.\n",
              "\n",
              "n_classes_ : int or list of int\n",
              "    The number of classes (for single output problems),\n",
              "    or a list containing the number of classes for each\n",
              "    output (for multi-output problems).\n",
              "\n",
              "n_features_in_ : int\n",
              "    Number of features seen during :term:`fit`.\n",
              "\n",
              "    .. versionadded:: 0.24\n",
              "\n",
              "feature_names_in_ : ndarray of shape (`n_features_in_`,)\n",
              "    Names of features seen during :term:`fit`. Defined only when `X`\n",
              "    has feature names that are all strings.\n",
              "\n",
              "    .. versionadded:: 1.0\n",
              "\n",
              "n_outputs_ : int\n",
              "    The number of outputs when ``fit`` is performed.\n",
              "\n",
              "tree_ : Tree instance\n",
              "    The underlying Tree object. Please refer to\n",
              "    ``help(sklearn.tree._tree.Tree)`` for attributes of Tree object and\n",
              "    :ref:`sphx_glr_auto_examples_tree_plot_unveil_tree_structure.py`\n",
              "    for basic usage of these attributes.\n",
              "\n",
              "See Also\n",
              "--------\n",
              "DecisionTreeRegressor : A decision tree regressor.\n",
              "\n",
              "Notes\n",
              "-----\n",
              "The default values for the parameters controlling the size of the trees\n",
              "(e.g. ``max_depth``, ``min_samples_leaf``, etc.) lead to fully grown and\n",
              "unpruned trees which can potentially be very large on some data sets. To\n",
              "reduce memory consumption, the complexity and size of the trees should be\n",
              "controlled by setting those parameter values.\n",
              "\n",
              "The :meth:`predict` method operates using the :func:`numpy.argmax`\n",
              "function on the outputs of :meth:`predict_proba`. This means that in\n",
              "case the highest predicted probabilities are tied, the classifier will\n",
              "predict the tied class with the lowest index in :term:`classes_`.\n",
              "\n",
              "References\n",
              "----------\n",
              "\n",
              ".. [1] https://en.wikipedia.org/wiki/Decision_tree_learning\n",
              "\n",
              ".. [2] L. Breiman, J. Friedman, R. Olshen, and C. Stone, &quot;Classification\n",
              "       and Regression Trees&quot;, Wadsworth, Belmont, CA, 1984.\n",
              "\n",
              ".. [3] T. Hastie, R. Tibshirani and J. Friedman. &quot;Elements of Statistical\n",
              "       Learning&quot;, Springer, 2009.\n",
              "\n",
              ".. [4] L. Breiman, and A. Cutler, &quot;Random Forests&quot;,\n",
              "       https://www.stat.berkeley.edu/~breiman/RandomForests/cc_home.htm\n",
              "\n",
              "Examples\n",
              "--------\n",
              "&gt;&gt;&gt; from sklearn.datasets import load_iris\n",
              "&gt;&gt;&gt; from sklearn.model_selection import cross_val_score\n",
              "&gt;&gt;&gt; from sklearn.tree import DecisionTreeClassifier\n",
              "&gt;&gt;&gt; clf = DecisionTreeClassifier(random_state=0)\n",
              "&gt;&gt;&gt; iris = load_iris()\n",
              "&gt;&gt;&gt; cross_val_score(clf, iris.data, iris.target, cv=10)\n",
              "...                             # doctest: +SKIP\n",
              "...\n",
              "array([ 1.     ,  0.93...,  0.86...,  0.93...,  0.93...,\n",
              "        0.93...,  0.93...,  1.     ,  0.93...,  1.      ])</pre>\n",
              "      <script>\n",
              "      if (google.colab.kernel.accessAllowed && google.colab.files && google.colab.files.view) {\n",
              "        for (const element of document.querySelectorAll('.filepath')) {\n",
              "          element.style.display = 'block'\n",
              "          element.onclick = (event) => {\n",
              "            event.preventDefault();\n",
              "            event.stopPropagation();\n",
              "            google.colab.files.view(element.textContent, 595);\n",
              "          };\n",
              "        }\n",
              "      }\n",
              "      for (const element of document.querySelectorAll('.function-repr-contents')) {\n",
              "        element.onclick = (event) => {\n",
              "          event.preventDefault();\n",
              "          event.stopPropagation();\n",
              "          element.classList.toggle('function-repr-contents-collapsed');\n",
              "        };\n",
              "      }\n",
              "      </script>\n",
              "      </div>"
            ]
          },
          "metadata": {},
          "execution_count": 47
        }
      ],
      "source": [
        "type(health_classifier)"
      ]
    },
    {
      "cell_type": "markdown",
      "id": "vULqmNvVF4q4",
      "metadata": {
        "id": "vULqmNvVF4q4"
      },
      "source": [
        "### **5. Model Evaluation**\n",
        "Evaluate the model's performance using metrics such as accuracy, precision, recall, and F1-score."
      ]
    },
    {
      "cell_type": "code",
      "execution_count": 48,
      "id": "lYjAaucHjeij",
      "metadata": {
        "id": "lYjAaucHjeij"
      },
      "outputs": [],
      "source": [
        "# Make predictions\n",
        "y_pred_array = health_classifier.predict(X_test)"
      ]
    },
    {
      "cell_type": "code",
      "execution_count": 49,
      "id": "68E1R0hGjee_",
      "metadata": {
        "id": "68E1R0hGjee_"
      },
      "outputs": [],
      "source": [
        "# Ensure y_test is a Pandas Series to access its index\n",
        "if isinstance(y_test, np.ndarray):\n",
        "    y_test = pd.Series(y_test)"
      ]
    },
    {
      "cell_type": "code",
      "execution_count": 50,
      "id": "UL0yIOXcjeYi",
      "metadata": {
        "id": "UL0yIOXcjeYi"
      },
      "outputs": [],
      "source": [
        "# Create DataFrame from the predictions\n",
        "y_pred = pd.DataFrame(y_pred_array, columns=[\"health_condition\"])"
      ]
    },
    {
      "cell_type": "code",
      "execution_count": 51,
      "id": "chg9gMVRjkH9",
      "metadata": {
        "id": "chg9gMVRjkH9"
      },
      "outputs": [],
      "source": [
        "# Set the index of the DataFrame to match y_test index\n",
        "y_pred.index = y_test.index"
      ]
    },
    {
      "cell_type": "code",
      "execution_count": 52,
      "id": "acb6ff0f-e48c-4184-9cd7-75281b5a5c9b",
      "metadata": {
        "id": "acb6ff0f-e48c-4184-9cd7-75281b5a5c9b"
      },
      "outputs": [],
      "source": [
        "# Ensure the data type is int\n",
        "y_pred = y_pred.astype(int)"
      ]
    },
    {
      "cell_type": "code",
      "execution_count": 53,
      "id": "rHo5wG80jpeR",
      "metadata": {
        "id": "rHo5wG80jpeR",
        "outputId": "f9357de8-38d1-4d00-9460-7c0f89e8cb95",
        "colab": {
          "base_uri": "https://localhost:8080/"
        }
      },
      "outputs": [
        {
          "output_type": "stream",
          "name": "stdout",
          "text": [
            "     health_condition\n",
            "373                 1\n",
            "498                 1\n",
            "6                   1\n",
            "209                 1\n",
            "79                  1\n",
            "..                ...\n",
            "480                 1\n",
            "24                  0\n",
            "17                  1\n",
            "318                 1\n",
            "67                  1\n",
            "\n",
            "[158 rows x 1 columns]\n"
          ]
        }
      ],
      "source": [
        "print(y_pred)"
      ]
    },
    {
      "cell_type": "code",
      "execution_count": 54,
      "id": "65aab513-c6cf-4489-96f9-7d750754233e",
      "metadata": {
        "id": "65aab513-c6cf-4489-96f9-7d750754233e"
      },
      "outputs": [],
      "source": [
        "y_test = np.array(y_test,dtype = int)"
      ]
    },
    {
      "cell_type": "code",
      "execution_count": 55,
      "id": "05ca175a-a41b-42c3-92bc-97375c6aab73",
      "metadata": {
        "id": "05ca175a-a41b-42c3-92bc-97375c6aab73",
        "outputId": "9ec9c30a-2956-4099-cb7f-e69721f2a94d",
        "colab": {
          "base_uri": "https://localhost:8080/"
        }
      },
      "outputs": [
        {
          "output_type": "execute_result",
          "data": {
            "text/plain": [
              "numpy.ndarray"
            ]
          },
          "metadata": {},
          "execution_count": 55
        }
      ],
      "source": [
        "type(y_test)"
      ]
    },
    {
      "cell_type": "code",
      "execution_count": 56,
      "id": "c1e80c44-e162-4ca1-83a5-13f64b036b19",
      "metadata": {
        "id": "c1e80c44-e162-4ca1-83a5-13f64b036b19",
        "outputId": "cdf1abd0-ee66-44da-a91d-9b2d43a38dbf",
        "colab": {
          "base_uri": "https://localhost:8080/"
        }
      },
      "outputs": [
        {
          "output_type": "execute_result",
          "data": {
            "text/plain": [
              "array([1, 1, 1, 1, 1, 1, 2, 1, 1, 1, 1, 1, 1, 1, 0, 1, 0, 1, 1, 1, 1, 1,\n",
              "       1, 1, 1, 1, 1, 1, 1, 1, 1, 1, 1, 1, 0, 1, 1, 1, 1, 1, 1, 1, 1, 1,\n",
              "       1, 1, 1, 1, 1, 1, 1, 1, 1, 1, 1, 1, 1, 1, 1, 1, 1, 1, 1, 1, 1, 1,\n",
              "       1, 1, 1, 1, 1, 1, 1, 0, 1, 1, 1, 1, 1, 0, 1, 1, 1, 1, 1, 1, 0, 1,\n",
              "       1, 1, 1, 1, 1, 1, 1, 1, 0, 1, 1, 0, 1, 1, 1, 1, 1, 1, 1, 1, 1, 1,\n",
              "       1, 1, 1, 1, 1, 1, 1, 1, 1, 1, 1, 1, 1, 1, 1, 1, 1, 1, 1, 1, 1, 1,\n",
              "       1, 1, 1, 1, 1, 1, 0, 1, 1, 1, 1, 1, 1, 1, 1, 0, 1, 1, 1, 1, 1, 1,\n",
              "       0, 1, 1, 1])"
            ]
          },
          "metadata": {},
          "execution_count": 56
        }
      ],
      "source": [
        "y_test"
      ]
    },
    {
      "cell_type": "code",
      "execution_count": 57,
      "id": "42c4582e-1a9e-4ca5-9133-d4ff0bc7ca92",
      "metadata": {
        "id": "42c4582e-1a9e-4ca5-9133-d4ff0bc7ca92",
        "outputId": "1279fbd3-5452-43f5-bc2d-55fa7ecd3a04",
        "colab": {
          "base_uri": "https://localhost:8080/"
        }
      },
      "outputs": [
        {
          "output_type": "execute_result",
          "data": {
            "text/plain": [
              "0.9810126582278481"
            ]
          },
          "metadata": {},
          "execution_count": 57
        }
      ],
      "source": [
        "# Measure Accuracy\n",
        "metrics.accuracy_score(y_test,y_pred)"
      ]
    },
    {
      "cell_type": "code",
      "execution_count": 58,
      "id": "181bd3c2-6026-4092-ac0b-4a51c928d6b6",
      "metadata": {
        "id": "181bd3c2-6026-4092-ac0b-4a51c928d6b6",
        "outputId": "db27ae82-4770-42b1-e00c-6ddd393295f3",
        "colab": {
          "base_uri": "https://localhost:8080/"
        }
      },
      "outputs": [
        {
          "output_type": "stream",
          "name": "stdout",
          "text": [
            "              precision    recall  f1-score   support\n",
            "\n",
            "           0       0.91      0.91      0.91        11\n",
            "           1       0.99      0.99      0.99       146\n",
            "           2       0.00      0.00      0.00         1\n",
            "\n",
            "    accuracy                           0.98       158\n",
            "   macro avg       0.63      0.63      0.63       158\n",
            "weighted avg       0.97      0.98      0.98       158\n",
            "\n"
          ]
        }
      ],
      "source": [
        "print(metrics.classification_report(y_test, y_pred))"
      ]
    },
    {
      "cell_type": "markdown",
      "id": "566afdb7-c26f-46b0-9ae2-0e0ca73ef037",
      "metadata": {
        "id": "566afdb7-c26f-46b0-9ae2-0e0ca73ef037"
      },
      "source": [
        "### **6. Model Deployment**\n",
        "Save the trained model for future use and deploying it in real-world applications."
      ]
    },
    {
      "cell_type": "code",
      "execution_count": 59,
      "id": "2f755dff-26ee-407e-8c0b-2a3056d0c1cb",
      "metadata": {
        "id": "2f755dff-26ee-407e-8c0b-2a3056d0c1cb",
        "outputId": "d176d3b0-b690-44ca-ba8c-73b6a2a3461b",
        "colab": {
          "base_uri": "https://localhost:8080/"
        }
      },
      "outputs": [
        {
          "output_type": "stream",
          "name": "stdout",
          "text": [
            "#pragma once\n",
            "#include <cstdarg>\n",
            "namespace Eloquent {\n",
            "    namespace ML {\n",
            "        namespace Port {\n",
            "            class DecisionTree {\n",
            "                public:\n",
            "                    /**\n",
            "                    * Predict class for features vector\n",
            "                    */\n",
            "                    int predict(float *x) {\n",
            "                        if (x[2] <= 95.5) {\n",
            "                            if (x[2] <= 94.0) {\n",
            "                                return 1;\n",
            "                            }\n",
            "\n",
            "                            else {\n",
            "                                if (x[0] <= 96.5) {\n",
            "                                    return 1;\n",
            "                                }\n",
            "\n",
            "                                else {\n",
            "                                    if (x[0] <= 99.0) {\n",
            "                                        return 0;\n",
            "                                    }\n",
            "\n",
            "                                    else {\n",
            "                                        return 1;\n",
            "                                    }\n",
            "                                }\n",
            "                            }\n",
            "                        }\n",
            "\n",
            "                        else {\n",
            "                            if (x[1] <= 37.25) {\n",
            "                                if (x[0] <= 61.0) {\n",
            "                                    return 1;\n",
            "                                }\n",
            "\n",
            "                                else {\n",
            "                                    return 0;\n",
            "                                }\n",
            "                            }\n",
            "\n",
            "                            else {\n",
            "                                return 1;\n",
            "                            }\n",
            "                        }\n",
            "                    }\n",
            "\n",
            "                protected:\n",
            "                };\n",
            "            }\n",
            "        }\n",
            "    }\n"
          ]
        }
      ],
      "source": [
        "print(port(health_classifier))"
      ]
    },
    {
      "cell_type": "markdown",
      "id": "ScKF5VgskBQq",
      "metadata": {
        "id": "ScKF5VgskBQq"
      },
      "source": [
        "Now copy the above Decision Tree classifier code and save in any text file with name\n",
        "\n",
        "```\n",
        "DecisionTree.h\n",
        "```\n",
        "\n",
        "Then copy the below arduino code and save it named as\n",
        "\n",
        "```\n",
        "health_determining_model.ino\n",
        "```\n"
      ]
    },
    {
      "cell_type": "markdown",
      "id": "q_eDDNaljuW6",
      "metadata": {
        "id": "q_eDDNaljuW6"
      },
      "source": [
        "\n",
        "\n",
        "```\n",
        "#include <Wire.h>  \n",
        "#include \"MAX30100_PulseOximeter.h\"\n",
        "#include \"DecisionTree.h\"\n",
        "\n",
        "Eloquent::ML::Port::DecisionTree health_Classifier;\n",
        "\n",
        "#define TEMPERATURE_SENSOR_PIN 32  // Analog pin for the temperature sensor (replace with the actual pin number)\n",
        "#define HEART_RATE_SENSOR_PIN 35   // Analog pin for the heart rate sensor (replace with the actual pin number)\n",
        "\n",
        "// Initialize the PulseOximeter library\n",
        "PulseOximeter pox;\n",
        "\n",
        "// Variable Declaration\n",
        "float t;\n",
        "int h;\n",
        "int s;\n",
        "int prediction;\n",
        "\n",
        "void setup() {\n",
        "  Serial.begin(9600);\n",
        "  Serial.println(\"Welcome!\");\n",
        "\n",
        "  pinMode(TEMPERATURE_SENSOR_PIN, INPUT);  \n",
        "  pinMode(HEART_RATE_SENSOR_PIN, INPUT);   \n",
        "\n",
        "  // Initialize the Pulse Oximeter\n",
        "  if (!pox.begin()) {\n",
        "    Serial.println(\"Failed to initialize pulse oximeter!\");\n",
        "    while (1);\n",
        "  } else {\n",
        "    Serial.println(\"Pulse oximeter initialized successfully!\");\n",
        "  }\n",
        "}\n",
        "\n",
        "void loop() {\n",
        "  delay(2000);\n",
        "\n",
        "  // Sensor data Collection part\n",
        "\n",
        "  // Read temperature value\n",
        "  int temperatureValue = analogRead(TEMPERATURE_SENSOR_PIN);\n",
        "  t = convertToCelsius(temperatureValue);\n",
        "  Serial.print(\"Temperature (°C): \");\n",
        "  Serial.println(t);\n",
        "\n",
        "  // Read heart rate value\n",
        "  h = analogRead(HEART_RATE_SENSOR_PIN);\n",
        "  Serial.print(\"Heart Rate (bpm): \");\n",
        "  Serial.println(h);\n",
        "\n",
        "  // Read SpO2 value\n",
        "  int s = pox.getSpO2();\n",
        "  Serial.print(\"SpO2 (%): \");\n",
        "  Serial.println(s);\n",
        "\n",
        "  // Print values of heart_rate, temperature, and SpO2_saturation to serial monitor\n",
        "  Serial.print(F(\"Heart_rate: \"));\n",
        "  Serial.print(h);\n",
        "  Serial.print(F(\"  Temperature: \"));\n",
        "  Serial.print(t);\n",
        "  Serial.print(F(\"  SpO2: \"));\n",
        "  Serial.println(s);\n",
        "\n",
        "  float input[3] = {h, t, s};\n",
        "  // Giving input values to predict Function\n",
        "  int prediction = health_Classifier.predict(input);\n",
        "\n",
        "  // Checking Condition\n",
        "  Serial.print(\"Prediction: \");\n",
        "  switch (prediction) {\n",
        "    case 0:\n",
        "      Serial.println(\"Normal\");\n",
        "      break;\n",
        "    case 1:\n",
        "      Serial.println(\"Serious\");\n",
        "      break;\n",
        "    case 2:\n",
        "      Serial.println(\"Dischargeable\");\n",
        "      break;\n",
        "    default:\n",
        "      Serial.println(\"Unknown\");\n",
        "      break;\n",
        "  }\n",
        "\n",
        "  Serial.println();\n",
        "  delay(1000);\n",
        "}\n",
        "\n",
        "float convertToCelsius(int adcValue) {\n",
        "  float voltage = adcValue * 3.3 / 4095.0;  // Convert ADC value to voltage for ESP32\n",
        "  float temperatureCelsius = (voltage - 0.5) * 100;  // Convert voltage to temperature in Celsius\n",
        "  return temperatureCelsius;\n",
        "}\n",
        "\n",
        "\n",
        "```\n",
        "\n"
      ]
    },
    {
      "cell_type": "code",
      "execution_count": 59,
      "id": "3ab7a75f-a119-40b0-a116-4c8e8a7d9d44",
      "metadata": {
        "id": "3ab7a75f-a119-40b0-a116-4c8e8a7d9d44"
      },
      "outputs": [],
      "source": [
        "import serial\n",
        "import time\n",
        "\n",
        "# Replace 'COM10' with the appropriate serial port for your system\n",
        "SERIAL_PORT = 'COM13'\n",
        "BAUD_RATE = 9600  # the baud rate set on your ESP32\n",
        "\n",
        "def read_from_esp32():\n",
        "    # Open the serial connection\n",
        "    with serial.Serial(SERIAL_PORT, BAUD_RATE, timeout=1) as ser:\n",
        "        # Give some time for the serial connection to establish\n",
        "        time.sleep(2)\n",
        "\n",
        "        # Clear any existing input in the buffer\n",
        "        ser.flushInput()\n",
        "\n",
        "        try:\n",
        "            while True:\n",
        "                # Read data from the ESP32\n",
        "                if ser.in_waiting > 0:\n",
        "                    line = ser.readline().decode('utf-8').rstrip()\n",
        "                    print(f\"{line}\")\n",
        "                time.sleep(0.1)\n",
        "\n",
        "        except KeyboardInterrupt:\n",
        "            print(\"Serial read stopped.\")\n",
        "\n",
        "if __name__ == \"__main__\":\n",
        "    read_from_esp32()"
      ]
    },
    {
      "cell_type": "markdown",
      "id": "ecTNmC1xmal_",
      "metadata": {
        "id": "ecTNmC1xmal_"
      },
      "source": [
        "Now move these both files in same folder then open the \"health_determining_model.ino\" file in your arduino IDE and upload the code to your Esp32 microcontroller.\n",
        "\n",
        "Before uploading the code to the board, do verify that the \"DecisionTree.h\" file is also opened in the same arduino IDE beside the .ino file.\n",
        "\n",
        "If any error occurs then open the \"DecisionTree.h\" file and comment the line containing this code\n",
        "\n",
        "```\n",
        "#include <cstdarg> // comment this line\n",
        "```\n",
        "\n",
        "\n"
      ]
    },
    {
      "cell_type": "markdown",
      "source": [
        "## About Author"
      ],
      "metadata": {
        "id": "k9_XiOApk7JK"
      },
      "id": "k9_XiOApk7JK"
    },
    {
      "cell_type": "markdown",
      "source": [
        "### Developed by Harsh Raj\n",
        "Contacts :\n",
        "- [Email](mailto:developerharshraj@gmail.com)\n",
        "- [LinkedIn](https://in.linkedin.com/in/harsh-raj-416a0b27b)\n",
        "- [GitHub](https://github.com/HarshRajTiwary)\n",
        "\n",
        "### Happy Learning"
      ],
      "metadata": {
        "id": "5VZAKh1Uk_mF"
      },
      "id": "5VZAKh1Uk_mF"
    }
  ],
  "metadata": {
    "colab": {
      "provenance": []
    },
    "kernelspec": {
      "display_name": "Python 3 (ipykernel)",
      "language": "python",
      "name": "python3"
    },
    "language_info": {
      "codemirror_mode": {
        "name": "ipython",
        "version": 3
      },
      "file_extension": ".py",
      "mimetype": "text/x-python",
      "name": "python",
      "nbconvert_exporter": "python",
      "pygments_lexer": "ipython3",
      "version": "3.10.11"
    }
  },
  "nbformat": 4,
  "nbformat_minor": 5
}